{
 "cells": [
  {
   "cell_type": "markdown",
   "source": [
    "# Pre-Eclampsia and Hypertension"
   ],
   "metadata": {}
  },
  {
   "cell_type": "code",
   "execution_count": 11,
   "source": [
    "from opyn.generic.pandasloader import PandasLoader\n",
    "from opyn.stats.observationalstudies import TwoByTwo"
   ],
   "outputs": [],
   "metadata": {}
  },
  {
   "cell_type": "markdown",
   "source": [
    "## Summary"
   ],
   "metadata": {}
  },
  {
   "cell_type": "markdown",
   "source": [
    "The goal of this exercise was to measure and test the association between a woman having suffered from pre-eclampsia or eclampsia during their first pregnancy and them developing hyptertension in later life.\n",
    "Data from a cohort study were obtained from a published source and analysed using standard epidemiological methods.\n",
    "We found there was strong evidence of a positive association between the two events."
   ],
   "metadata": {}
  },
  {
   "cell_type": "markdown",
   "source": [
    "## Introduction"
   ],
   "metadata": {}
  },
  {
   "cell_type": "markdown",
   "source": [
    "Researchers followed 542 women who suffered from pre-eclampsia and eclampsia during their first pregnany and 277 women who did not over time, and counted those who developed hypertension in later life and those who did not.\n",
    "The issue of interest in the reserch was whether there was evidence of an association between the pre-clampsia and eclampsia, and hypertension.\n",
    "The data for the analysis were taken from Wilson, B.J., Watson, M.S., Prescott, G.J. *et al* (*BMJ* 2003;326:845).\n",
    "(See description for full reference.)"
   ],
   "metadata": {}
  },
  {
   "cell_type": "markdown",
   "source": [
    "## Initialisation"
   ],
   "metadata": {}
  },
  {
   "cell_type": "markdown",
   "source": [
    "We use `PandasLoader` to get the data and print the description."
   ],
   "metadata": {}
  },
  {
   "cell_type": "code",
   "execution_count": 12,
   "source": [
    "pdloader = PandasLoader()"
   ],
   "outputs": [],
   "metadata": {}
  },
  {
   "cell_type": "code",
   "execution_count": 13,
   "source": [
    "f = 'preeclampsia'\n",
    "data = PandasLoader().get(f)\n",
    "pdloader.get_description(f)"
   ],
   "outputs": [
    {
     "output_type": "stream",
     "name": "stdout",
     "text": [
      "title='Pre-eclampsia and Eclampsia and Hypertension in later life'\n",
      "\n",
      "description='Results of a cohort study looking at the association between\n",
      "             pre-eclampsia and eclampsia during a woman's first pregnancy, and\n",
      "             the development of hypertension in later life'\n",
      "\n",
      "references='Wilson, B. J., Watson, M. S., Prescott, G. J., Sunderland,\n",
      "            S., Campbell, D. M., Hannaford, P., & Smith, W. C. S. (2003).\n",
      "            Hypertensive diseases of pregnancy and risk of hypertension and\n",
      "            stroke in later life: results from cohort study. BMJ, 326(7394),\n",
      "            845. https://doi.org/10.1136/bmj.326.7394.845'\n",
      "\n",
      "has_bibtex=True@Wilson2003\n",
      "\n",
      "fields:\n",
      "    count, int: Number of observation.\n",
      "    exposure, str: Did the the patient have pre-eclampsia.\n",
      "                   One of either ['pre-eclampsia', 'no pre-eclampsia'].\n",
      "    outcome, str: Did the the patient have hypertesion in later life\n",
      "                  One of either ['hypertension', 'no hypertension'].\n",
      "\n"
     ]
    }
   ],
   "metadata": {}
  },
  {
   "cell_type": "markdown",
   "source": [
    "We prepare the dataframe by replacing the nominal labels with integers, so the **exposure, disease** is replaced by `1` and **no exposure, no disease** by `2`.\n",
    "This ensures that the `TwoByTwo` object initialises as expected."
   ],
   "metadata": {}
  },
  {
   "cell_type": "code",
   "execution_count": 14,
   "source": [
    "new_labels = {'pre-eclampsia': 1,\n",
    "              'no pre-eclampsia': 2,\n",
    "              'hypertension': 1,\n",
    "              'no hypertension': 2}\n",
    "data.replace(new_labels, inplace=True)\n",
    "tbl = TwoByTwo.from_dataframe(data)"
   ],
   "outputs": [],
   "metadata": {}
  },
  {
   "cell_type": "markdown",
   "source": [
    "## Results"
   ],
   "metadata": {}
  },
  {
   "cell_type": "markdown",
   "source": [
    "The results of the study as a two-by-two contingency tables are given below in `Table 1`."
   ],
   "metadata": {}
  },
  {
   "cell_type": "code",
   "execution_count": 21,
   "source": [
    "print(\"Table 1.\")\n",
    "print(tbl.show(row_totals=True))"
   ],
   "outputs": [
    {
     "output_type": "stream",
     "name": "stdout",
     "text": [
      "Table 1.\n",
      "Outcome      Disease  No Disease  Total\n",
      "Exposure                               \n",
      "Exposed          327         215    542\n",
      "Not Exposed       76         201    277\n"
     ]
    }
   ],
   "metadata": {}
  },
  {
   "cell_type": "markdown",
   "source": [
    "### Strength of assocation"
   ],
   "metadata": {}
  },
  {
   "cell_type": "markdown",
   "source": [
    "The relative risk is **2.20**, with **95%** confidence interval **(1.79, 2.69)**."
   ],
   "metadata": {}
  },
  {
   "cell_type": "code",
   "execution_count": 22,
   "source": [
    "print(tbl.relative_risk())"
   ],
   "outputs": [
    {
     "output_type": "stream",
     "name": "stdout",
     "text": [
      "              estimate       ese       lcb      ucb\n",
      "RelativeRisk  2.198946  0.103735  1.794385  2.69472\n"
     ]
    }
   ],
   "metadata": {}
  },
  {
   "cell_type": "markdown",
   "source": [
    "The odds ratio is **4.02**, with **95%** confidence interval **(2.94, 5.51)**."
   ],
   "metadata": {}
  },
  {
   "cell_type": "code",
   "execution_count": 23,
   "source": [
    "print(tbl.odds_ratio())"
   ],
   "outputs": [
    {
     "output_type": "stream",
     "name": "stdout",
     "text": [
      "           estimate       ese       lcb       ucb\n",
      "OddsRatio   4.02246  0.160755  2.935327  5.512225\n"
     ]
    }
   ],
   "metadata": {}
  },
  {
   "cell_type": "markdown",
   "source": [
    "The relative risk and the odds ratio are both greater than **1**, with both confidence intervals located well above **1**.\n",
    "This suggests there is a postivie association between a patient having pre-eclampsia or eclampsia during the first pregnancy and developing hypertension in later life."
   ],
   "metadata": {}
  },
  {
   "cell_type": "markdown",
   "source": [
    "### Test of No Association"
   ],
   "metadata": {}
  },
  {
   "cell_type": "markdown",
   "source": [
    "The frequencies expected under the null hypothesis of no association are given below in `Table 2`."
   ],
   "metadata": {}
  },
  {
   "cell_type": "code",
   "execution_count": 24,
   "source": [
    "print(\"Table 2.\")\n",
    "print(tbl.expected_freq(row_totals=True))"
   ],
   "outputs": [
    {
     "output_type": "stream",
     "name": "stdout",
     "text": [
      "Table 2.\n",
      "Outcome         Disease  No Disease  Total\n",
      "Exposure                                  \n",
      "Exposed      266.698413  275.301587  542.0\n",
      "Not Exposed  136.301587  140.698413  277.0\n"
     ]
    }
   ],
   "metadata": {}
  },
  {
   "cell_type": "markdown",
   "source": [
    "The number of observed patients who developed hypertension whilst having had pre-eclampsia and eclampsia during their first pregnancy (**327**) is much greater than the expected frequency (**266.70**).\n",
    "\n",
    "We can take the approximation to be adequate, given all expected frequencies are at least **5**.\n",
    "\n",
    "The **Chi-squared** contributions for each observation are shown in `Table 3`."
   ],
   "metadata": {}
  },
  {
   "cell_type": "code",
   "execution_count": 25,
   "source": [
    "print(\"Table 3.\")\n",
    "print(tbl.chi2_contribs())"
   ],
   "outputs": [
    {
     "output_type": "stream",
     "name": "stdout",
     "text": [
      "Table 3.\n",
      "Outcome        Disease  No Disease\n",
      "Exposure                          \n",
      "Exposed      13.634432   13.208356\n",
      "Not Exposed  26.678203   25.844509\n"
     ]
    }
   ],
   "metadata": {}
  },
  {
   "cell_type": "markdown",
   "source": [
    "The test statistic is **79.37** on **1** degree of freedom, with **p**-value of less than **0.000**."
   ],
   "metadata": {}
  },
  {
   "cell_type": "code",
   "execution_count": 26,
   "source": [
    "print(tbl.chi2_test())"
   ],
   "outputs": [
    {
     "output_type": "stream",
     "name": "stdout",
     "text": [
      "               chisq          pval  df\n",
      "ChiSqTest  79.365501  5.161965e-19   1\n"
     ]
    }
   ],
   "metadata": {}
  },
  {
   "cell_type": "markdown",
   "source": [
    "Given **p** < 0.001, there is strong evidence against the null hypothesis of no association.\n",
    "There is strong evidence of an association between a woman suffering from pre-eclampsia and eclampsia during their first pregnancy and them developing hypertension in later life."
   ],
   "metadata": {}
  },
  {
   "cell_type": "markdown",
   "source": [
    "## Discussion"
   ],
   "metadata": {}
  },
  {
   "cell_type": "markdown",
   "source": [
    "The study found there to be strong evidence (**p < 0.001**) for a positive association between a woman having had pre-eclampsia or eclampsia during their first pregnancy and them developing hypertension in later life (**OR = 4.02**).\n",
    "\n",
    "Women who had from pre-eclampsia or eclampsia during their first pregancy were found to be **119%** more likely to develop hypertension than those women who did not."
   ],
   "metadata": {}
  }
 ],
 "metadata": {
  "interpreter": {
   "hash": "150ad1578c8613f8dc9018be5e644c2e52ac66be7a58cd127a3ca86b2ba9d096"
  },
  "kernelspec": {
   "name": "python3",
   "display_name": "Python 3.9.7 64-bit ('.venv': venv)"
  },
  "language_info": {
   "codemirror_mode": {
    "name": "ipython",
    "version": 3
   },
   "file_extension": ".py",
   "mimetype": "text/x-python",
   "name": "python",
   "nbconvert_exporter": "python",
   "pygments_lexer": "ipython3",
   "version": "3.9.7"
  }
 },
 "nbformat": 4,
 "nbformat_minor": 4
}