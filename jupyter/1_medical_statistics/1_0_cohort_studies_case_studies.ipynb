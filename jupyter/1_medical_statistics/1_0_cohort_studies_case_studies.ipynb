{
 "cells": [
  {
   "cell_type": "markdown",
   "id": "f40b5419",
   "metadata": {},
   "source": [
    "# Cohort studies\n",
    "\n",
    "**Keywords:** epidemiology, cohort studies, exposed group, control group, odds, odds ratio, relative risk"
   ]
  },
  {
   "cell_type": "markdown",
   "id": "a8dcd41d",
   "metadata": {
    "tags": []
   },
   "source": [
    "## What are cohort and case-control studies?"
   ]
  },
  {
   "cell_type": "markdown",
   "id": "7e7bb5ae",
   "metadata": {},
   "source": [
    "**References:**\n",
    "\n",
    "***Cohort studies:*** Book 1 pp9; HB pp10.1, pp10.5. ***Case-control studies:*** Book 1 pp23-24; HB pp10.2, pp11.6.\n",
    "\n",
    "**Cohort studies** and **case-control studies** are studies of the association between an exposure $E$ and a disease $D$.\n",
    "\n",
    "In a cohort study, $E$ is known and $D$ is unknown.\n",
    "(This is because $D$ is to happen in the future, so it cannot be identified prior to the experiment.)\n",
    "\n",
    "Alternatively, in a case-control study, it is $E$ that is unknown, and $D$ is known.\n",
    "(This is because $E$ happened in the past, prior to the experiment, so it can be determined before the experiment begins.)\n",
    "\n",
    "They can both be represented by a two-by-two contingency table, where the column headers depend on the type of study, but the row titles generally remain the same.\n",
    "Cohort studies include the row marginal totals;\n",
    "Case-control studies the column marginal totals\n",
    "\n",
    "An example of a contingency table for a cohort study.\n",
    "\n",
    "|           | D   |   Not D | Total   |\n",
    "|-----------|-----|---------|---------|\n",
    "| **E**     | *a* | *b*     | *n1*    |\n",
    "| Not **E** | *c* | *d*     | *n2*    |\n",
    "\n",
    "And for a case-control study.\n",
    "\n",
    "|           | Cases   | Control   |\n",
    "|-----------|---------|-----------|\n",
    "| **E**     | *a*     | *b*       |\n",
    "| Not **E** | *c*     | *d*       |\n",
    "| **Total** | *m1*    | *m2*      |"
   ]
  },
  {
   "cell_type": "markdown",
   "id": "69ba2c5d",
   "metadata": {
    "tags": []
   },
   "source": [
    "## Measures of association"
   ]
  },
  {
   "cell_type": "markdown",
   "id": "cd0bf080",
   "metadata": {},
   "source": [
    "### Relative risk\n",
    "\n",
    "**References:** Book 1 pp11, pp26; HB pp10.3\n",
    "\n",
    "The **relative risk**, $RR$, is the ratio of having the disease given being exposed to having the disease and not being exposed.\n",
    "\n",
    "In cohort studies, it can be estimated using\n",
    "\n",
    "$$\\widehat{RR} = \\frac{\\hat P (D|E)}{\\hat P (D|\\text{not } E)}.$$\n",
    "\n",
    "It cannot be directly estimated in case-control studies, but it can be indirectly estimated from the the odds ratio *(Book 1, pp15).*\n",
    "\n",
    "### Odds and the odds ratio\n",
    "\n",
    "**References:** Book 1 pp13-14, pp27; HB pp10.4\n",
    "\n",
    "The **odds of an event**, $OD$, is defined as the ratio of the probability of an event occuring to the probability of the event not occuring, so\n",
    "\n",
    "$$OD(A) = \\frac{P(A)}{P(\\text{Not } A)} = \\frac{P(A)}{1 - P(A)}.$$\n",
    "\n",
    "In a cohort study it possible to estimate the odds of *disease given exposure,* so $\\widehat{OD} (D | E)$ and $\\widehat{OD} (D | \\text{ Not } E).$\n",
    "These can be calculated\n",
    "\n",
    "$$\\widehat{OD} (D | E) = \\frac{a}{b}, \\hspace{3mm} \\widehat{OD} (D | \\text{ Not } E) = \\frac{c}{d}.$$\n",
    "\n",
    "Alternatively, case-control studies can estimate the odds of *exposure given disease*, so $\\widehat{OD} (E | D)$ and $\\widehat{OD} (E | \\text{ Not } D)$.\n",
    "\n",
    "$$\\widehat{OD} (E | D) = \\frac{a}{c}, \\hspace{3mm} \\widehat{OD} (E | \\text{ Not } D) = \\frac{b}{d}.$$\n",
    "\n",
    "The **odds ratio**, $OR$, is defined as the ratio of the odds of a disease happening given exposure to the odds of the disease happening given no exposure.\n",
    "It represents the **strength of assocation.**\n",
    "Like $RR,$ a postive value represents a positive association, and a negative value represents a negative association.\n",
    "It can be shown that\n",
    "\n",
    "$$\\widehat{OR} = \\frac{\\widehat{OD} (D | E)}{\\widehat{OD} (D | \\text{ Not } E)} = \\frac{\\widehat{OD} (E | D)}{\\widehat{OD} (E | \\text{ Not } D)} = \\frac{ad}{bc}.$$\n",
    "\n",
    "(This means that the calculation of the odds ratio is the same for both cohort and case-control studies.)\n",
    "\n",
    "### Comparing the relative risk and odds ratio\n",
    "\n",
    "**References:** Book 1 pp15\n",
    "\n",
    "### Confidence intervals for measures of association\n",
    "\n",
    "**References:** Book 1 pp16-17; HB pp10.5 and pp11.6\n",
    "\n",
    "The point estimates for the relative risk and the odds ratio are subject to sampling variability.\n",
    "A confidence interval can be used to quantify the uncertainty.\n",
    "This is done using a **binomial model,** with the assumption that the number of disease outcomes for the exposed group are independent of the number of diseased outcome of the control group.\n",
    "\n",
    "## Multiple exposure categories\n",
    "\n",
    "**References:** Book 1 pp29-30; HB pp11.7\n",
    "\n",
    "Pick an exposure category as an arbitrary reference category.\n",
    "All ratio are then calculated relative to this reference category.\n",
    "\n",
    "## Testing for no association\n",
    "\n",
    "### Chi-squared test for no association"
   ]
  },
  {
   "cell_type": "markdown",
   "id": "e8fe813f",
   "metadata": {
    "incorrectly_encoded_metadata": "jp-MarkdownHeadingCollapsed=true",
    "tags": []
   },
   "source": [
    "**References:** Book 1 pp31-39, HB pp11.8\n",
    "\n",
    "A **chi-squared test for no association** tests the null hypothesis that there is no association between the exposure and the disease.\n",
    "\n",
    "The test requires all expected frequencies to be greater than or equal to **five** for it to be adequate.\n",
    "\n",
    "The degrees of freedom for the test when using a **2x2** contingency table is **1.**\n",
    "Otherwise, use $\\nu = (r - 1)\\hspace{2mm}(c - 1).$\n",
    "\n",
    "If there is a need for a reference category, then the test is not affected by the choice of reference category, as all values are taken into account.\n",
    "\n",
    "The $p$-value and $\\widehat{OR}$ are often reported together:\n",
    "The $p$-value quantifies the strength of the *evidence;* $\\widehat{OR}$ quantifies the strength of *association.*"
   ]
  },
  {
   "cell_type": "markdown",
   "id": "d8534dba",
   "metadata": {},
   "source": [
    "### Fisher’s exact test\n",
    "\n",
    "**References:** Book 1 pp40, HB pp11.8"
   ]
  },
  {
   "cell_type": "markdown",
   "id": "754be98d",
   "metadata": {
    "tags": []
   },
   "source": [
    "## Implementation in `opyn`"
   ]
  },
  {
   "cell_type": "markdown",
   "id": "3b3cafbb",
   "metadata": {},
   "source": [
    "Cohort studies and case-control studies are implemented in\n",
    "\n",
    "```{python}\n",
    "opyn.stats.observationalstudies\n",
    "```\n",
    "\n",
    "The example notebooks in this directory make use of the module."
   ]
  },
  {
   "cell_type": "code",
   "execution_count": null,
   "id": "7f79260a",
   "metadata": {},
   "outputs": [],
   "source": [
    "from opyn.stats import observationalstudies as studies  # noqa\n",
    "studies?"
   ]
  }
 ],
 "metadata": {
  "jupytext": {
   "formats": "jupyter///ipynb,jupytext///md"
  },
  "kernelspec": {
   "display_name": "PyM249",
   "language": "python",
   "name": "pym249"
  },
  "language_info": {
   "codemirror_mode": {
    "name": "ipython",
    "version": 3
   },
   "file_extension": ".py",
   "mimetype": "text/x-python",
   "name": "python",
   "nbconvert_exporter": "python",
   "pygments_lexer": "ipython3",
   "version": "3.9.7"
  }
 },
 "nbformat": 4,
 "nbformat_minor": 5
}
