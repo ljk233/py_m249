{
 "cells": [
  {
   "cell_type": "markdown",
   "metadata": {},
   "source": [
    "# Randomised Control Trial: Sample Size and Power\n",
    "\n",
    "**Date:** 2021-11-15\n",
    "\n",
    "**Reference:** Activity 11.5"
   ]
  },
  {
   "cell_type": "markdown",
   "metadata": {},
   "source": [
    "## Scenario\n",
    "\n",
    "In Activity 11.1, a trial of Infliximab, a new drug to treat rheumatoid arthritis, was discussed. You were asked to specify the null and alternative hypotheses for a trial to test the scientific hypothesis that Infliximab increases the proportion of patients who undergo a 50% improvement in their condition within one year (the ACR50)."
   ]
  },
  {
   "cell_type": "markdown",
   "metadata": {},
   "source": [
    "## Questions"
   ]
  },
  {
   "cell_type": "code",
   "execution_count": 1,
   "metadata": {},
   "outputs": [],
   "source": [
    "from opyn.stats import epidemeology as epyn\n",
    "from math import ceil"
   ]
  },
  {
   "cell_type": "markdown",
   "metadata": {},
   "source": [
    "### (a)\n",
    "\n",
    "Obtain the sample size required in each group, with significance level 0.05, power 0.9, $\\pi_{C}=$ 0.25 (where $\\pi_{C}$ is the ACR50 for the control group), and practically significant difference $\\pi_{T} - \\pi_{C} =$ 0.1."
   ]
  },
  {
   "cell_type": "markdown",
   "metadata": {},
   "source": [
    "The estimated proportion $\\pi_{T}=$ 0.1 + $\\pi_{C}=$ 0.35.\n",
    "The required sample size of each group will be 442."
   ]
  },
  {
   "cell_type": "code",
   "execution_count": 5,
   "metadata": {},
   "outputs": [
    {
     "data": {
      "text/plain": [
       "442"
      ]
     },
     "execution_count": 5,
     "metadata": {},
     "output_type": "execute_result"
    }
   ],
   "source": [
    "ceil(epyn.samplesize(0.05, 0.9, 0.35, 0.25))"
   ]
  },
  {
   "cell_type": "markdown",
   "metadata": {},
   "source": [
    "### (b)\n",
    "\n",
    "In addition to the primary outcome, it is of interest to compare the proportions of patients in the two groups that experience a severe adverse event (in case the treatment causes severe side effects). Using the sample size you obtained in part (a) and significance level 0.05, calculate the power available to detect an increase of 5% in the proportion of patients with severe adverseevents, if the underlying proportion of patients on the standard therapy plus placebo with such events is 10%."
   ]
  },
  {
   "cell_type": "markdown",
   "metadata": {},
   "source": [
    "The estimated proportion $\\pi_{T}=$ 0.1 + $\\pi_{C}=$ 0.15.\n",
    "The power to detect an increase of 5% of a severe adverse event is therefore approximately 61%."
   ]
  },
  {
   "cell_type": "code",
   "execution_count": 6,
   "metadata": {},
   "outputs": [
    {
     "data": {
      "text/plain": [
       "61.316371"
      ]
     },
     "execution_count": 6,
     "metadata": {},
     "output_type": "execute_result"
    }
   ],
   "source": [
    "epyn.power(442, 0.05, 0.15, 0.1)"
   ]
  },
  {
   "cell_type": "markdown",
   "metadata": {},
   "source": [
    "### (c)\n",
    "\n",
    "The trial was completed, but due to difficulties only 150 children where randomised to each group.\n",
    "What would be the new power for the trial?"
   ]
  },
  {
   "cell_type": "code",
   "execution_count": 4,
   "metadata": {},
   "outputs": [
    {
     "data": {
      "text/plain": [
       "73.935752"
      ]
     },
     "execution_count": 4,
     "metadata": {},
     "output_type": "execute_result"
    }
   ],
   "source": [
    "epyn.power(150, 0.05, 0.55, 0.4)"
   ]
  }
 ],
 "metadata": {
  "interpreter": {
   "hash": "150ad1578c8613f8dc9018be5e644c2e52ac66be7a58cd127a3ca86b2ba9d096"
  },
  "kernelspec": {
   "display_name": "Python 3.9.7 64-bit ('.venv': venv)",
   "language": "python",
   "name": "python3"
  },
  "language_info": {
   "codemirror_mode": {
    "name": "ipython",
    "version": 3
   },
   "file_extension": ".py",
   "mimetype": "text/x-python",
   "name": "python",
   "nbconvert_exporter": "python",
   "pygments_lexer": "ipython3",
   "version": "3.9.7"
  },
  "orig_nbformat": 4
 },
 "nbformat": 4,
 "nbformat_minor": 2
}
