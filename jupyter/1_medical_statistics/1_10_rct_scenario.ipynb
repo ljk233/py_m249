{
 "cells": [
  {
   "cell_type": "markdown",
   "metadata": {},
   "source": [
    "# Randomised Control Trial: Sensitivity Analysis\n",
    "\n",
    "**Date:** 2021-11-15\n",
    "\n",
    "**Reference:** Exercise 11.1"
   ]
  },
  {
   "cell_type": "markdown",
   "metadata": {},
   "source": [
    "## Scenario\n",
    "\n",
    "The sample size required for the trial was calculated using significance level 0.05, power 0.8, and the design values $\\pi_{C}=$ 0.55 (the proportion of children in the control group with at least one episode of otitis media) and $\\pi_{T}=$ 0.40 (the proportion of children in the treatment group with at least one episode of otitis media)."
   ]
  },
  {
   "cell_type": "markdown",
   "metadata": {},
   "source": [
    "## Questions"
   ]
  },
  {
   "cell_type": "code",
   "execution_count": 1,
   "metadata": {},
   "outputs": [],
   "source": [
    "from opyn.stats import epidemeology as epyn\n",
    "from math import ceil"
   ]
  },
  {
   "cell_type": "markdown",
   "metadata": {},
   "source": [
    "### (a)\n",
    "\n",
    "Based on these values given in the scenario, what is the sample size required per group?\n",
    "\n",
    "The trial will require each group to be of size 173.9835 ≃ 174."
   ]
  },
  {
   "cell_type": "code",
   "execution_count": 2,
   "metadata": {},
   "outputs": [
    {
     "data": {
      "text/plain": [
       "173.983501"
      ]
     },
     "execution_count": 2,
     "metadata": {},
     "output_type": "execute_result"
    }
   ],
   "source": [
    "epyn.samplesize(0.05, 0.8, 0.55, 0.4)"
   ]
  },
  {
   "cell_type": "markdown",
   "metadata": {},
   "source": [
    "### (b)\n",
    "\n",
    "It was anticipated that there would be 10% losses to follow-up. What should be the total number of children that should be randomized to account for this loss?"
   ]
  },
  {
   "cell_type": "code",
   "execution_count": 3,
   "metadata": {},
   "outputs": [
    {
     "data": {
      "text/plain": [
       "388"
      ]
     },
     "execution_count": 3,
     "metadata": {},
     "output_type": "execute_result"
    }
   ],
   "source": [
    "adj_total = epyn.samplesize(0.05, 0.8, 0.55, 0.4, 10)\n",
    "ceil(adj_total) * 2"
   ]
  },
  {
   "cell_type": "markdown",
   "metadata": {},
   "source": [
    "### (c)\n",
    "\n",
    "The trial was completed, but due to difficulties only 150 children where randomised to each group.\n",
    "What would be the new power for the trial?"
   ]
  },
  {
   "cell_type": "code",
   "execution_count": 5,
   "metadata": {},
   "outputs": [
    {
     "data": {
      "text/plain": [
       "73.935752"
      ]
     },
     "execution_count": 5,
     "metadata": {},
     "output_type": "execute_result"
    }
   ],
   "source": [
    "epyn.power(150, 0.05, 0.55, 0.4)"
   ]
  }
 ],
 "metadata": {
  "interpreter": {
   "hash": "150ad1578c8613f8dc9018be5e644c2e52ac66be7a58cd127a3ca86b2ba9d096"
  },
  "kernelspec": {
   "display_name": "Python 3.9.7 64-bit ('.venv': venv)",
   "language": "python",
   "name": "python3"
  },
  "language_info": {
   "codemirror_mode": {
    "name": "ipython",
    "version": 3
   },
   "file_extension": ".py",
   "mimetype": "text/x-python",
   "name": "python",
   "nbconvert_exporter": "python",
   "pygments_lexer": "ipython3",
   "version": "3.9.7"
  },
  "orig_nbformat": 4
 },
 "nbformat": 4,
 "nbformat_minor": 2
}
