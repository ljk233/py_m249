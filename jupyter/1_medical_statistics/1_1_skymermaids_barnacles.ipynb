{
 "cells": [
  {
   "cell_type": "markdown",
   "id": "37ae12c1",
   "metadata": {},
   "source": [
    "# Sky Mermaids and Cloud Barnacles"
   ]
  },
  {
   "cell_type": "code",
   "execution_count": 1,
   "id": "4c21ed9f",
   "metadata": {},
   "outputs": [],
   "source": [
    "from opyn.stats.observationalstudies import TwoByTwo\n",
    "from opyn.pandasloader import PandasLoader"
   ]
  },
  {
   "cell_type": "markdown",
   "id": "77cdc75f",
   "metadata": {},
   "source": [
    "## Summary\n",
    "\n",
    "The aim of this study is to analyse whether there is an association between the colour of a sky mermaid's tail and the density of cloud barnacle growth on their tails."
   ]
  },
  {
   "cell_type": "markdown",
   "id": "a94dd9b9",
   "metadata": {},
   "source": [
    "## Background\n",
    "\n",
    "Sky mermaids are *fabulosa creaturae* that are often spotted in the sky.\n",
    "They are known to enjoy spending their times perched on clouds, which can lead to the growth of cloud barnacles on their tail.\n",
    "It has been speculated that red tailed sky mermaids are more prone to developing a higher density of cloud barncale growth, compared to the more common blue tailed variety."
   ]
  },
  {
   "cell_type": "markdown",
   "id": "346dda93",
   "metadata": {},
   "source": [
    "## Introduction"
   ]
  },
  {
   "cell_type": "markdown",
   "id": "b8c9d85f",
   "metadata": {},
   "source": [
    "Data were obtained on the density of cloud barnacle growth of 99 sky mermaids.\n",
    "The numbers suffering from high cloud barnacle growth who have red tails and blue tails were counted.\n",
    "The data was sourced from watching too much children TV and needing an example to show how a self-developed `Python` module operates."
   ]
  },
  {
   "cell_type": "markdown",
   "id": "ebb805dc",
   "metadata": {},
   "source": [
    "## Setting Up The Analysis"
   ]
  },
  {
   "cell_type": "markdown",
   "id": "f6174b83",
   "metadata": {},
   "source": [
    "We can use the `PandasLoader` class in `opyn` to import the data, which is saved as a **csv** file."
   ]
  },
  {
   "cell_type": "code",
   "execution_count": 2,
   "id": "ffd3501c",
   "metadata": {},
   "outputs": [
    {
     "data": {
      "text/html": [
       "<div>\n",
       "<style scoped>\n",
       "    .dataframe tbody tr th:only-of-type {\n",
       "        vertical-align: middle;\n",
       "    }\n",
       "\n",
       "    .dataframe tbody tr th {\n",
       "        vertical-align: top;\n",
       "    }\n",
       "\n",
       "    .dataframe thead th {\n",
       "        text-align: right;\n",
       "    }\n",
       "</style>\n",
       "<table border=\"1\" class=\"dataframe\">\n",
       "  <thead>\n",
       "    <tr style=\"text-align: right;\">\n",
       "      <th></th>\n",
       "      <th>tail colour</th>\n",
       "      <th>barnacle density</th>\n",
       "      <th>count</th>\n",
       "    </tr>\n",
       "  </thead>\n",
       "  <tbody>\n",
       "    <tr>\n",
       "      <th>0</th>\n",
       "      <td>red</td>\n",
       "      <td>high</td>\n",
       "      <td>14</td>\n",
       "    </tr>\n",
       "    <tr>\n",
       "      <th>1</th>\n",
       "      <td>red</td>\n",
       "      <td>low</td>\n",
       "      <td>11</td>\n",
       "    </tr>\n",
       "    <tr>\n",
       "      <th>2</th>\n",
       "      <td>blue</td>\n",
       "      <td>high</td>\n",
       "      <td>19</td>\n",
       "    </tr>\n",
       "    <tr>\n",
       "      <th>3</th>\n",
       "      <td>blue</td>\n",
       "      <td>low</td>\n",
       "      <td>55</td>\n",
       "    </tr>\n",
       "  </tbody>\n",
       "</table>\n",
       "</div>"
      ],
      "text/plain": [
       "  tail colour barnacle density  count\n",
       "0         red             high     14\n",
       "1         red              low     11\n",
       "2        blue             high     19\n",
       "3        blue              low     55"
      ]
     },
     "execution_count": 2,
     "metadata": {},
     "output_type": "execute_result"
    }
   ],
   "source": [
    "data = PandasLoader().get(\"skymermaids_cloudbarnacles\")\n",
    "data"
   ]
  },
  {
   "cell_type": "markdown",
   "id": "9d89fc35",
   "metadata": {},
   "source": [
    "The data is stored in a format that is usable by software such as **SPSS**.\n",
    "Columns **tail colour** and **barnacle density** represent the exposure and disease categories, respectfully, and the **count** column shows the number of observations for each pairing.\n",
    "\n",
    "We can use the class method `from_dataframe` to load the data into an initialised instanced of `TwoByTwo`. \n",
    "We first need to replace the labels with integers so, if we were to crosstabulate the dataframe, it would appear like **table 1**.\n",
    "\n",
    "**Table 1.**\n",
    "\n",
    "| Outcome         | Disease | No disease | Total |\n",
    "|-----------------|---------|------------|-------|\n",
    "| **Exposure**    |         |            |       |\n",
    "| **Exposed**     | *a*     | *b*        | *a+b* |\n",
    "| **Not exposed** | *c*     | *d*        | *c+d* |\n",
    "\n",
    "We have deemed those sky mermaids with red tails as being *exposed*, and those with a high density of cloud barnacle as *disease*.\n",
    "Therefore, we replace labels **red** and **high** to 1, and labels **blue** and **low** to 2."
   ]
  },
  {
   "cell_type": "code",
   "execution_count": 3,
   "id": "5197ba8f",
   "metadata": {},
   "outputs": [],
   "source": [
    "new_labels = {\"red\": 1, \"blue\": 2, \"high\": 1, \"low\": 2}\n",
    "data.replace(new_labels, inplace=True)"
   ]
  },
  {
   "cell_type": "markdown",
   "id": "d84f01a7",
   "metadata": {},
   "source": [
    "We can now use this relabelled dataframe to initialise the object."
   ]
  },
  {
   "cell_type": "code",
   "execution_count": 4,
   "id": "d4a0e007",
   "metadata": {},
   "outputs": [
    {
     "data": {
      "text/html": [
       "<div>\n",
       "<style scoped>\n",
       "    .dataframe tbody tr th:only-of-type {\n",
       "        vertical-align: middle;\n",
       "    }\n",
       "\n",
       "    .dataframe tbody tr th {\n",
       "        vertical-align: top;\n",
       "    }\n",
       "\n",
       "    .dataframe thead th {\n",
       "        text-align: right;\n",
       "    }\n",
       "</style>\n",
       "<table border=\"1\" class=\"dataframe\">\n",
       "  <thead>\n",
       "    <tr style=\"text-align: right;\">\n",
       "      <th>Outcome</th>\n",
       "      <th>Disease</th>\n",
       "      <th>No Disease</th>\n",
       "      <th>Total</th>\n",
       "    </tr>\n",
       "    <tr>\n",
       "      <th>Exposure</th>\n",
       "      <th></th>\n",
       "      <th></th>\n",
       "      <th></th>\n",
       "    </tr>\n",
       "  </thead>\n",
       "  <tbody>\n",
       "    <tr>\n",
       "      <th>Exposed</th>\n",
       "      <td>14</td>\n",
       "      <td>11</td>\n",
       "      <td>25</td>\n",
       "    </tr>\n",
       "    <tr>\n",
       "      <th>Not Exposed</th>\n",
       "      <td>19</td>\n",
       "      <td>55</td>\n",
       "      <td>74</td>\n",
       "    </tr>\n",
       "  </tbody>\n",
       "</table>\n",
       "</div>"
      ],
      "text/plain": [
       "Outcome      Disease  No Disease  Total\n",
       "Exposure                               \n",
       "Exposed           14          11     25\n",
       "Not Exposed       19          55     74"
      ]
     },
     "execution_count": 4,
     "metadata": {},
     "output_type": "execute_result"
    }
   ],
   "source": [
    "skymermaids: TwoByTwo = TwoByTwo.from_dataframe(\n",
    "    df=data,\n",
    "    exposure=\"tail colour\",\n",
    "    outcome=\"barnacle density\"\n",
    ")\n",
    "skymermaids.show_table(show_row_totals=True)"
   ]
  },
  {
   "cell_type": "markdown",
   "id": "0ed8bfa1",
   "metadata": {},
   "source": [
    "We can reintroduce the more meaningful exposure and outcome labels by setting the `row_labels` and `col_labels` attributes.\n",
    "*(This step is optional.)*"
   ]
  },
  {
   "cell_type": "code",
   "execution_count": 5,
   "id": "1ee3bd87",
   "metadata": {},
   "outputs": [
    {
     "data": {
      "text/html": [
       "<div>\n",
       "<style scoped>\n",
       "    .dataframe tbody tr th:only-of-type {\n",
       "        vertical-align: middle;\n",
       "    }\n",
       "\n",
       "    .dataframe tbody tr th {\n",
       "        vertical-align: top;\n",
       "    }\n",
       "\n",
       "    .dataframe thead th {\n",
       "        text-align: right;\n",
       "    }\n",
       "</style>\n",
       "<table border=\"1\" class=\"dataframe\">\n",
       "  <thead>\n",
       "    <tr style=\"text-align: right;\">\n",
       "      <th>Outcome</th>\n",
       "      <th>high density</th>\n",
       "      <th>low density</th>\n",
       "      <th>Total</th>\n",
       "    </tr>\n",
       "    <tr>\n",
       "      <th>Exposure</th>\n",
       "      <th></th>\n",
       "      <th></th>\n",
       "      <th></th>\n",
       "    </tr>\n",
       "  </thead>\n",
       "  <tbody>\n",
       "    <tr>\n",
       "      <th>blue tail</th>\n",
       "      <td>19</td>\n",
       "      <td>55</td>\n",
       "      <td>74</td>\n",
       "    </tr>\n",
       "    <tr>\n",
       "      <th>red tail</th>\n",
       "      <td>14</td>\n",
       "      <td>11</td>\n",
       "      <td>25</td>\n",
       "    </tr>\n",
       "  </tbody>\n",
       "</table>\n",
       "</div>"
      ],
      "text/plain": [
       "Outcome    high density  low density  Total\n",
       "Exposure                                   \n",
       "blue tail            19           55     74\n",
       "red tail             14           11     25"
      ]
     },
     "execution_count": 5,
     "metadata": {},
     "output_type": "execute_result"
    }
   ],
   "source": [
    "skymermaids.row_labels = [\"red tail\", \"blue tail\"]\n",
    "skymermaids.col_labels = [\"high density\", \"low density\"]\n",
    "skymermaids.show_table(show_row_totals=True)"
   ]
  },
  {
   "cell_type": "markdown",
   "id": "52fd4bd0",
   "metadata": {},
   "source": [
    "Notice that the the rows have switched position: This is because **blue tail** is placed before **red tail** in the alphabet, and **Pandas** sorts it indices.\n",
    "This will not affect the calculations, because the data was prepared by relabelling the variables prior to initialising the object."
   ]
  },
  {
   "cell_type": "markdown",
   "id": "0ea581de",
   "metadata": {},
   "source": [
    "## Results"
   ]
  },
  {
   "cell_type": "markdown",
   "id": "ed73eda8",
   "metadata": {},
   "source": [
    "### Test of No Association"
   ]
  },
  {
   "cell_type": "markdown",
   "id": "f1802df3",
   "metadata": {},
   "source": [
    "A **chi-squared** test of no association was carried out.\n",
    "The expected frequences under the null hypothesis of no association are shown below."
   ]
  },
  {
   "cell_type": "code",
   "execution_count": 6,
   "id": "a3f996f2",
   "metadata": {},
   "outputs": [
    {
     "data": {
      "text/html": [
       "<div>\n",
       "<style scoped>\n",
       "    .dataframe tbody tr th:only-of-type {\n",
       "        vertical-align: middle;\n",
       "    }\n",
       "\n",
       "    .dataframe tbody tr th {\n",
       "        vertical-align: top;\n",
       "    }\n",
       "\n",
       "    .dataframe thead th {\n",
       "        text-align: right;\n",
       "    }\n",
       "</style>\n",
       "<table border=\"1\" class=\"dataframe\">\n",
       "  <thead>\n",
       "    <tr style=\"text-align: right;\">\n",
       "      <th>Outcome</th>\n",
       "      <th>high density</th>\n",
       "      <th>low density</th>\n",
       "      <th>Total</th>\n",
       "    </tr>\n",
       "    <tr>\n",
       "      <th>Exposure</th>\n",
       "      <th></th>\n",
       "      <th></th>\n",
       "      <th></th>\n",
       "    </tr>\n",
       "  </thead>\n",
       "  <tbody>\n",
       "    <tr>\n",
       "      <th>blue tail</th>\n",
       "      <td>24.666667</td>\n",
       "      <td>49.333333</td>\n",
       "      <td>74.0</td>\n",
       "    </tr>\n",
       "    <tr>\n",
       "      <th>red tail</th>\n",
       "      <td>8.333333</td>\n",
       "      <td>16.666667</td>\n",
       "      <td>25.0</td>\n",
       "    </tr>\n",
       "  </tbody>\n",
       "</table>\n",
       "</div>"
      ],
      "text/plain": [
       "Outcome    high density  low density  Total\n",
       "Exposure                                   \n",
       "blue tail     24.666667    49.333333   74.0\n",
       "red tail       8.333333    16.666667   25.0"
      ]
     },
     "execution_count": 6,
     "metadata": {},
     "output_type": "execute_result"
    }
   ],
   "source": [
    "skymermaids.expected_freq(show_row_totals=True)"
   ]
  },
  {
   "cell_type": "markdown",
   "id": "69fab4e4",
   "metadata": {},
   "source": [
    "The number of observed red tailed sky mermaids suffering from a high density of cloud barnacle growth **(14)** is greater than expected (**8.33**).\n",
    "\n",
    "The values of the $\\chi^{2}$ is shown below."
   ]
  },
  {
   "cell_type": "code",
   "execution_count": 7,
   "id": "25d85071",
   "metadata": {},
   "outputs": [
    {
     "data": {
      "text/html": [
       "<div>\n",
       "<style scoped>\n",
       "    .dataframe tbody tr th:only-of-type {\n",
       "        vertical-align: middle;\n",
       "    }\n",
       "\n",
       "    .dataframe tbody tr th {\n",
       "        vertical-align: top;\n",
       "    }\n",
       "\n",
       "    .dataframe thead th {\n",
       "        text-align: right;\n",
       "    }\n",
       "</style>\n",
       "<table border=\"1\" class=\"dataframe\">\n",
       "  <thead>\n",
       "    <tr style=\"text-align: right;\">\n",
       "      <th>Outcome</th>\n",
       "      <th>high density</th>\n",
       "      <th>low density</th>\n",
       "    </tr>\n",
       "    <tr>\n",
       "      <th>Exposure</th>\n",
       "      <th></th>\n",
       "      <th></th>\n",
       "    </tr>\n",
       "  </thead>\n",
       "  <tbody>\n",
       "    <tr>\n",
       "      <th>blue tail</th>\n",
       "      <td>1.301802</td>\n",
       "      <td>0.650901</td>\n",
       "    </tr>\n",
       "    <tr>\n",
       "      <th>red tail</th>\n",
       "      <td>3.853333</td>\n",
       "      <td>1.926667</td>\n",
       "    </tr>\n",
       "  </tbody>\n",
       "</table>\n",
       "</div>"
      ],
      "text/plain": [
       "Outcome    high density  low density\n",
       "Exposure                            \n",
       "blue tail      1.301802     0.650901\n",
       "red tail       3.853333     1.926667"
      ]
     },
     "execution_count": 7,
     "metadata": {},
     "output_type": "execute_result"
    }
   ],
   "source": [
    "skymermaids.chi2_contribs()"
   ]
  },
  {
   "cell_type": "markdown",
   "id": "53f6a6d5",
   "metadata": {},
   "source": [
    "The null distribution of the test statistic is approximately **chi-squared** with degrees of freedom ν = **1**.\n",
    "Since all expected frquencies are at least **5**, the approximation is adequate.\n",
    "\n",
    "The value of the test statistic is **7.73**, with **p**-value of **0.005**."
   ]
  },
  {
   "cell_type": "code",
   "execution_count": 8,
   "id": "59ab4f42",
   "metadata": {},
   "outputs": [
    {
     "data": {
      "text/html": [
       "<div>\n",
       "<style scoped>\n",
       "    .dataframe tbody tr th:only-of-type {\n",
       "        vertical-align: middle;\n",
       "    }\n",
       "\n",
       "    .dataframe tbody tr th {\n",
       "        vertical-align: top;\n",
       "    }\n",
       "\n",
       "    .dataframe thead th {\n",
       "        text-align: right;\n",
       "    }\n",
       "</style>\n",
       "<table border=\"1\" class=\"dataframe\">\n",
       "  <thead>\n",
       "    <tr style=\"text-align: right;\">\n",
       "      <th></th>\n",
       "      <th>chisq</th>\n",
       "      <th>pval</th>\n",
       "      <th>df</th>\n",
       "    </tr>\n",
       "  </thead>\n",
       "  <tbody>\n",
       "    <tr>\n",
       "      <th>ChiSqTest</th>\n",
       "      <td>7.732703</td>\n",
       "      <td>0.005423</td>\n",
       "      <td>1</td>\n",
       "    </tr>\n",
       "  </tbody>\n",
       "</table>\n",
       "</div>"
      ],
      "text/plain": [
       "              chisq      pval  df\n",
       "ChiSqTest  7.732703  0.005423   1"
      ]
     },
     "execution_count": 8,
     "metadata": {},
     "output_type": "execute_result"
    }
   ],
   "source": [
    "skymermaids.chi2_test()"
   ]
  },
  {
   "cell_type": "markdown",
   "id": "08cb38fc",
   "metadata": {},
   "source": [
    "Given **p** < **0.01**, there is strong evidence against the null hypothesis of no association.\n",
    "There is strong evidence of an association between the colour of a sky mermaid's tail and the density of cloud barnacle growth."
   ]
  },
  {
   "cell_type": "markdown",
   "id": "ab8ee48f",
   "metadata": {},
   "source": [
    "### Measures of association"
   ]
  },
  {
   "cell_type": "markdown",
   "id": "62b26487",
   "metadata": {},
   "source": [
    "The estimated **relative risk** is **2.18**, with **95%** confidence interval **(1.30, 3.67)**."
   ]
  },
  {
   "cell_type": "code",
   "execution_count": 9,
   "id": "52314adc",
   "metadata": {},
   "outputs": [
    {
     "data": {
      "text/html": [
       "<div>\n",
       "<style scoped>\n",
       "    .dataframe tbody tr th:only-of-type {\n",
       "        vertical-align: middle;\n",
       "    }\n",
       "\n",
       "    .dataframe tbody tr th {\n",
       "        vertical-align: top;\n",
       "    }\n",
       "\n",
       "    .dataframe thead th {\n",
       "        text-align: right;\n",
       "    }\n",
       "</style>\n",
       "<table border=\"1\" class=\"dataframe\">\n",
       "  <thead>\n",
       "    <tr style=\"text-align: right;\">\n",
       "      <th></th>\n",
       "      <th>estimate</th>\n",
       "      <th>ese</th>\n",
       "      <th>lcb</th>\n",
       "      <th>ucb</th>\n",
       "    </tr>\n",
       "  </thead>\n",
       "  <tbody>\n",
       "    <tr>\n",
       "      <th>RelativeRisk</th>\n",
       "      <td>2.181053</td>\n",
       "      <td>0.265606</td>\n",
       "      <td>1.295931</td>\n",
       "      <td>3.670714</td>\n",
       "    </tr>\n",
       "  </tbody>\n",
       "</table>\n",
       "</div>"
      ],
      "text/plain": [
       "              estimate       ese       lcb       ucb\n",
       "RelativeRisk  2.181053  0.265606  1.295931  3.670714"
      ]
     },
     "execution_count": 9,
     "metadata": {},
     "output_type": "execute_result"
    }
   ],
   "source": [
    "skymermaids.relative_risk()"
   ]
  },
  {
   "cell_type": "markdown",
   "id": "edb19315",
   "metadata": {},
   "source": [
    "The estimated **odds ratio** is **3.68**, with **95%** confidence interval **(1.43, 9.49)**."
   ]
  },
  {
   "cell_type": "code",
   "execution_count": 10,
   "id": "9f450976",
   "metadata": {},
   "outputs": [
    {
     "data": {
      "text/html": [
       "<div>\n",
       "<style scoped>\n",
       "    .dataframe tbody tr th:only-of-type {\n",
       "        vertical-align: middle;\n",
       "    }\n",
       "\n",
       "    .dataframe tbody tr th {\n",
       "        vertical-align: top;\n",
       "    }\n",
       "\n",
       "    .dataframe thead th {\n",
       "        text-align: right;\n",
       "    }\n",
       "</style>\n",
       "<table border=\"1\" class=\"dataframe\">\n",
       "  <thead>\n",
       "    <tr style=\"text-align: right;\">\n",
       "      <th></th>\n",
       "      <th>estimate</th>\n",
       "      <th>ese</th>\n",
       "      <th>lcb</th>\n",
       "      <th>ucb</th>\n",
       "    </tr>\n",
       "  </thead>\n",
       "  <tbody>\n",
       "    <tr>\n",
       "      <th>OddsRatio</th>\n",
       "      <td>3.684211</td>\n",
       "      <td>0.482857</td>\n",
       "      <td>1.429999</td>\n",
       "      <td>9.491901</td>\n",
       "    </tr>\n",
       "  </tbody>\n",
       "</table>\n",
       "</div>"
      ],
      "text/plain": [
       "           estimate       ese       lcb       ucb\n",
       "OddsRatio  3.684211  0.482857  1.429999  9.491901"
      ]
     },
     "execution_count": 10,
     "metadata": {},
     "output_type": "execute_result"
    }
   ],
   "source": [
    "skymermaids.odds_ratio()"
   ]
  },
  {
   "cell_type": "markdown",
   "id": "0dce3f59",
   "metadata": {},
   "source": [
    "Both the odds ratio and relative risk are greater than **1**, with **95%** confidence interval located well above **1**.\n",
    "The results show there is a positive association between a sky mermaid's tail colour and cloud barnacle growth, as it is implausible that that either measure of association is **1**."
   ]
  },
  {
   "cell_type": "markdown",
   "id": "ecdff2b5",
   "metadata": {},
   "source": [
    "## Discussion"
   ]
  },
  {
   "cell_type": "markdown",
   "id": "5af8969f",
   "metadata": {},
   "source": [
    "A cohort study of the hypothesised association between the colour of a sky mermaid's tail and the density of cloud barnacle was undertaken.\n",
    "There was strong evidence of an association (**chi-squared** test of no asociation, **p** = **0.01**.\n",
    "The association is positive, with an odds ratio of **3.68** and a relative risk of **2.18**.\n",
    "Overall, we conclude that sky mermaids with red tails are approximately **118%** more likely to develop a high density of cloud barnacle growth, compared to those with blue tails."
   ]
  }
 ],
 "metadata": {
  "interpreter": {
   "hash": "150ad1578c8613f8dc9018be5e644c2e52ac66be7a58cd127a3ca86b2ba9d096"
  },
  "kernelspec": {
   "display_name": "Python 3 (ipykernel)",
   "language": "python",
   "name": "python3"
  },
  "language_info": {
   "codemirror_mode": {
    "name": "ipython",
    "version": 3
   },
   "file_extension": ".py",
   "mimetype": "text/x-python",
   "name": "python",
   "nbconvert_exporter": "python",
   "pygments_lexer": "ipython3",
   "version": "3.9.7"
  }
 },
 "nbformat": 4,
 "nbformat_minor": 5
}
