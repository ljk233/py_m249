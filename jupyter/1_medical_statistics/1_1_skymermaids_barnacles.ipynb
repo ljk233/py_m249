{
 "cells": [
  {
   "cell_type": "markdown",
   "source": [
    "# Sky Mermaids and Cloud Barnacles"
   ],
   "metadata": {}
  },
  {
   "cell_type": "code",
   "execution_count": 1,
   "source": [
    "from opyn.stats.observationalstudies import TwoByTwo\n",
    "from opyn.pandasloader import PandasLoader"
   ],
   "outputs": [],
   "metadata": {}
  },
  {
   "cell_type": "markdown",
   "source": [
    "## Summary\n",
    "\n",
    "The aim of this study is to analyse whether there is an association between the colour of a sky mermaid's tail and the density of cloud barnacle growth on their tails."
   ],
   "metadata": {}
  },
  {
   "cell_type": "markdown",
   "source": [
    "## Background\n",
    "\n",
    "Sky mermaids are *fabulosa creaturae* that are often spotted in the sky.\n",
    "They are known to enjoy spending their times perched on clouds, which can lead to the growth of cloud barnacles on their tail.\n",
    "It has been speculated that red tailed sky mermaids are more prone to developing a higher density of cloud barncale growth, compared to the more common blue tailed variety."
   ],
   "metadata": {}
  },
  {
   "cell_type": "markdown",
   "source": [
    "## Introduction"
   ],
   "metadata": {}
  },
  {
   "cell_type": "markdown",
   "source": [
    "Data were obtained on the density of cloud barnacle growth of 99 sky mermaids.\n",
    "The numbers suffering from high cloud barnacle growth who have red tails and blue tails were counted.\n",
    "The data was sourced from watching too much children TV and needing an example to show how a self-developed `Python` module operates."
   ],
   "metadata": {}
  },
  {
   "cell_type": "markdown",
   "source": [
    "## Setting Up The Analysis"
   ],
   "metadata": {}
  },
  {
   "cell_type": "markdown",
   "source": [
    "We can use the `PandasLoader` class in `opyn` to import the data, which is saved as a **csv** file."
   ],
   "metadata": {}
  },
  {
   "cell_type": "code",
   "execution_count": 2,
   "source": [
    "data = PandasLoader().get(\"skymermaids_cloudbarnacles\")\n",
    "data"
   ],
   "outputs": [
    {
     "output_type": "execute_result",
     "data": {
      "text/html": [
       "<div>\n",
       "<style scoped>\n",
       "    .dataframe tbody tr th:only-of-type {\n",
       "        vertical-align: middle;\n",
       "    }\n",
       "\n",
       "    .dataframe tbody tr th {\n",
       "        vertical-align: top;\n",
       "    }\n",
       "\n",
       "    .dataframe thead th {\n",
       "        text-align: right;\n",
       "    }\n",
       "</style>\n",
       "<table border=\"1\" class=\"dataframe\">\n",
       "  <thead>\n",
       "    <tr style=\"text-align: right;\">\n",
       "      <th></th>\n",
       "      <th>tail colour</th>\n",
       "      <th>barnacle density</th>\n",
       "      <th>count</th>\n",
       "    </tr>\n",
       "  </thead>\n",
       "  <tbody>\n",
       "    <tr>\n",
       "      <th>0</th>\n",
       "      <td>red</td>\n",
       "      <td>high</td>\n",
       "      <td>14</td>\n",
       "    </tr>\n",
       "    <tr>\n",
       "      <th>1</th>\n",
       "      <td>red</td>\n",
       "      <td>low</td>\n",
       "      <td>11</td>\n",
       "    </tr>\n",
       "    <tr>\n",
       "      <th>2</th>\n",
       "      <td>blue</td>\n",
       "      <td>high</td>\n",
       "      <td>19</td>\n",
       "    </tr>\n",
       "    <tr>\n",
       "      <th>3</th>\n",
       "      <td>blue</td>\n",
       "      <td>low</td>\n",
       "      <td>55</td>\n",
       "    </tr>\n",
       "  </tbody>\n",
       "</table>\n",
       "</div>"
      ],
      "text/plain": [
       "  tail colour barnacle density  count\n",
       "0         red             high     14\n",
       "1         red              low     11\n",
       "2        blue             high     19\n",
       "3        blue              low     55"
      ]
     },
     "metadata": {},
     "execution_count": 2
    }
   ],
   "metadata": {}
  },
  {
   "cell_type": "markdown",
   "source": [
    "The data is stored in a format that is usable by software such as **SPSS**.\n",
    "Columns **tail colour** and **barnacle density** represent the exposure and disease categories, respectfully, and the **count** column shows the number of observations for each pairing.\n",
    "\n",
    "We can use the class method `from_dataframe` to load the data into an initialised instanced of `TwoByTwo`. \n",
    "We first need to replace the labels with integers so, if we were to crosstabulate the dataframe, it would appear like **table 1**.\n",
    "\n",
    "**Table 1.**\n",
    "\n",
    "| Outcome         | Disease | No disease | Total |\n",
    "|-----------------|---------|------------|-------|\n",
    "| **Exposure**    |         |            |       |\n",
    "| **Exposed**     | *a*     | *b*        | *a+b* |\n",
    "| **Not exposed** | *c*     | *d*        | *c+d* |\n",
    "\n",
    "We have deemed those sky mermaids with red tails as being *exposed*, and those with a high density of cloud barnacle as *disease*.\n",
    "Therefore, we replace labels **red** and **high** to 1, and labels **blue** and **low** to 2."
   ],
   "metadata": {}
  },
  {
   "cell_type": "code",
   "execution_count": 3,
   "source": [
    "new_labels = {\"red\": 1, \"blue\": 2, \"high\": 1, \"low\": 2}\n",
    "data.replace(new_labels, inplace=True)"
   ],
   "outputs": [],
   "metadata": {}
  },
  {
   "cell_type": "markdown",
   "source": [
    "We can now use this relabelled dataframe to initialise the object."
   ],
   "metadata": {}
  },
  {
   "cell_type": "code",
   "execution_count": 4,
   "source": [
    "skymermaids: TwoByTwo = TwoByTwo.from_dataframe(\n",
    "    df=data,\n",
    "    exposure=\"tail colour\",\n",
    "    outcome=\"barnacle density\"\n",
    ")\n",
    "skymermaids.show_table(show_row_totals=True)"
   ],
   "outputs": [
    {
     "output_type": "execute_result",
     "data": {
      "text/html": [
       "<div>\n",
       "<style scoped>\n",
       "    .dataframe tbody tr th:only-of-type {\n",
       "        vertical-align: middle;\n",
       "    }\n",
       "\n",
       "    .dataframe tbody tr th {\n",
       "        vertical-align: top;\n",
       "    }\n",
       "\n",
       "    .dataframe thead th {\n",
       "        text-align: right;\n",
       "    }\n",
       "</style>\n",
       "<table border=\"1\" class=\"dataframe\">\n",
       "  <thead>\n",
       "    <tr style=\"text-align: right;\">\n",
       "      <th>Outcome</th>\n",
       "      <th>Disease</th>\n",
       "      <th>No Disease</th>\n",
       "      <th>Total</th>\n",
       "    </tr>\n",
       "    <tr>\n",
       "      <th>Exposure</th>\n",
       "      <th></th>\n",
       "      <th></th>\n",
       "      <th></th>\n",
       "    </tr>\n",
       "  </thead>\n",
       "  <tbody>\n",
       "    <tr>\n",
       "      <th>Exposed</th>\n",
       "      <td>14</td>\n",
       "      <td>11</td>\n",
       "      <td>25</td>\n",
       "    </tr>\n",
       "    <tr>\n",
       "      <th>Not Exposed</th>\n",
       "      <td>19</td>\n",
       "      <td>55</td>\n",
       "      <td>74</td>\n",
       "    </tr>\n",
       "  </tbody>\n",
       "</table>\n",
       "</div>"
      ],
      "text/plain": [
       "Outcome      Disease  No Disease  Total\n",
       "Exposure                               \n",
       "Exposed           14          11     25\n",
       "Not Exposed       19          55     74"
      ]
     },
     "metadata": {},
     "execution_count": 4
    }
   ],
   "metadata": {}
  },
  {
   "cell_type": "markdown",
   "source": [
    "We can reintroduce the more meaningful exposure and outcome labels by setting the `row_labels` and `col_labels` attributes.\n",
    "*(This step is optional.)*"
   ],
   "metadata": {}
  },
  {
   "cell_type": "code",
   "execution_count": 5,
   "source": [
    "skymermaids.row_labels = [\"red tail\", \"blue tail\"]\n",
    "skymermaids.col_labels = [\"high density\", \"low density\"]\n",
    "skymermaids.show_table(show_row_totals=True)"
   ],
   "outputs": [
    {
     "output_type": "execute_result",
     "data": {
      "text/html": [
       "<div>\n",
       "<style scoped>\n",
       "    .dataframe tbody tr th:only-of-type {\n",
       "        vertical-align: middle;\n",
       "    }\n",
       "\n",
       "    .dataframe tbody tr th {\n",
       "        vertical-align: top;\n",
       "    }\n",
       "\n",
       "    .dataframe thead th {\n",
       "        text-align: right;\n",
       "    }\n",
       "</style>\n",
       "<table border=\"1\" class=\"dataframe\">\n",
       "  <thead>\n",
       "    <tr style=\"text-align: right;\">\n",
       "      <th>Outcome</th>\n",
       "      <th>high density</th>\n",
       "      <th>low density</th>\n",
       "      <th>Total</th>\n",
       "    </tr>\n",
       "    <tr>\n",
       "      <th>Exposure</th>\n",
       "      <th></th>\n",
       "      <th></th>\n",
       "      <th></th>\n",
       "    </tr>\n",
       "  </thead>\n",
       "  <tbody>\n",
       "    <tr>\n",
       "      <th>blue tail</th>\n",
       "      <td>19</td>\n",
       "      <td>55</td>\n",
       "      <td>74</td>\n",
       "    </tr>\n",
       "    <tr>\n",
       "      <th>red tail</th>\n",
       "      <td>14</td>\n",
       "      <td>11</td>\n",
       "      <td>25</td>\n",
       "    </tr>\n",
       "  </tbody>\n",
       "</table>\n",
       "</div>"
      ],
      "text/plain": [
       "Outcome    high density  low density  Total\n",
       "Exposure                                   \n",
       "blue tail            19           55     74\n",
       "red tail             14           11     25"
      ]
     },
     "metadata": {},
     "execution_count": 5
    }
   ],
   "metadata": {}
  },
  {
   "cell_type": "markdown",
   "source": [
    "Notice that the the rows have switched position: This is because **blue tail** is placed before **red tail** in the alphabet, and **Pandas** sorts it indices.\n",
    "This will not affect the calculations, because the data was prepared by relabelling the variables prior to initialising the object."
   ],
   "metadata": {}
  },
  {
   "cell_type": "markdown",
   "source": [
    "## Results"
   ],
   "metadata": {}
  },
  {
   "cell_type": "markdown",
   "source": [
    "### Test of No Association"
   ],
   "metadata": {}
  },
  {
   "cell_type": "markdown",
   "source": [
    "A **chi-squared** test of no association was carried out.\n",
    "The expected frequences under the null hypothesis of no association are shown below."
   ],
   "metadata": {}
  },
  {
   "cell_type": "code",
   "execution_count": 6,
   "source": [
    "skymermaids.expected_freq(show_row_totals=True)"
   ],
   "outputs": [
    {
     "output_type": "execute_result",
     "data": {
      "text/html": [
       "<div>\n",
       "<style scoped>\n",
       "    .dataframe tbody tr th:only-of-type {\n",
       "        vertical-align: middle;\n",
       "    }\n",
       "\n",
       "    .dataframe tbody tr th {\n",
       "        vertical-align: top;\n",
       "    }\n",
       "\n",
       "    .dataframe thead th {\n",
       "        text-align: right;\n",
       "    }\n",
       "</style>\n",
       "<table border=\"1\" class=\"dataframe\">\n",
       "  <thead>\n",
       "    <tr style=\"text-align: right;\">\n",
       "      <th>Outcome</th>\n",
       "      <th>high density</th>\n",
       "      <th>low density</th>\n",
       "      <th>Total</th>\n",
       "    </tr>\n",
       "    <tr>\n",
       "      <th>Exposure</th>\n",
       "      <th></th>\n",
       "      <th></th>\n",
       "      <th></th>\n",
       "    </tr>\n",
       "  </thead>\n",
       "  <tbody>\n",
       "    <tr>\n",
       "      <th>blue tail</th>\n",
       "      <td>24.666667</td>\n",
       "      <td>49.333333</td>\n",
       "      <td>74.0</td>\n",
       "    </tr>\n",
       "    <tr>\n",
       "      <th>red tail</th>\n",
       "      <td>8.333333</td>\n",
       "      <td>16.666667</td>\n",
       "      <td>25.0</td>\n",
       "    </tr>\n",
       "  </tbody>\n",
       "</table>\n",
       "</div>"
      ],
      "text/plain": [
       "Outcome    high density  low density  Total\n",
       "Exposure                                   \n",
       "blue tail     24.666667    49.333333   74.0\n",
       "red tail       8.333333    16.666667   25.0"
      ]
     },
     "metadata": {},
     "execution_count": 6
    }
   ],
   "metadata": {}
  },
  {
   "cell_type": "markdown",
   "source": [
    "The number of observed red tailed sky mermaids suffering from a high density of cloud barnacle growth **(14)** is greater than expected (**8.33**).\n",
    "\n",
    "The values of the $\\chi^{2}$ is shown below."
   ],
   "metadata": {}
  },
  {
   "cell_type": "code",
   "execution_count": 7,
   "source": [
    "skymermaids.chi2_contribs()"
   ],
   "outputs": [
    {
     "output_type": "execute_result",
     "data": {
      "text/html": [
       "<div>\n",
       "<style scoped>\n",
       "    .dataframe tbody tr th:only-of-type {\n",
       "        vertical-align: middle;\n",
       "    }\n",
       "\n",
       "    .dataframe tbody tr th {\n",
       "        vertical-align: top;\n",
       "    }\n",
       "\n",
       "    .dataframe thead th {\n",
       "        text-align: right;\n",
       "    }\n",
       "</style>\n",
       "<table border=\"1\" class=\"dataframe\">\n",
       "  <thead>\n",
       "    <tr style=\"text-align: right;\">\n",
       "      <th>Outcome</th>\n",
       "      <th>high density</th>\n",
       "      <th>low density</th>\n",
       "    </tr>\n",
       "    <tr>\n",
       "      <th>Exposure</th>\n",
       "      <th></th>\n",
       "      <th></th>\n",
       "    </tr>\n",
       "  </thead>\n",
       "  <tbody>\n",
       "    <tr>\n",
       "      <th>blue tail</th>\n",
       "      <td>1.301802</td>\n",
       "      <td>0.650901</td>\n",
       "    </tr>\n",
       "    <tr>\n",
       "      <th>red tail</th>\n",
       "      <td>3.853333</td>\n",
       "      <td>1.926667</td>\n",
       "    </tr>\n",
       "  </tbody>\n",
       "</table>\n",
       "</div>"
      ],
      "text/plain": [
       "Outcome    high density  low density\n",
       "Exposure                            \n",
       "blue tail      1.301802     0.650901\n",
       "red tail       3.853333     1.926667"
      ]
     },
     "metadata": {},
     "execution_count": 7
    }
   ],
   "metadata": {}
  },
  {
   "cell_type": "markdown",
   "source": [
    "The null distribution of the test statistic is approximately **chi-squared** with degrees of freedom ν = **1**.\n",
    "Since all expected frquencies are at least **5**, the approximation is adequate.\n",
    "\n",
    "The value of the test statistic is **7.73**, which corresponds to a **p**-value of **0.005**."
   ],
   "metadata": {}
  },
  {
   "cell_type": "code",
   "execution_count": 8,
   "source": [
    "skymermaids.chi2_test()"
   ],
   "outputs": [
    {
     "output_type": "execute_result",
     "data": {
      "text/html": [
       "<div>\n",
       "<style scoped>\n",
       "    .dataframe tbody tr th:only-of-type {\n",
       "        vertical-align: middle;\n",
       "    }\n",
       "\n",
       "    .dataframe tbody tr th {\n",
       "        vertical-align: top;\n",
       "    }\n",
       "\n",
       "    .dataframe thead th {\n",
       "        text-align: right;\n",
       "    }\n",
       "</style>\n",
       "<table border=\"1\" class=\"dataframe\">\n",
       "  <thead>\n",
       "    <tr style=\"text-align: right;\">\n",
       "      <th></th>\n",
       "      <th>chisq</th>\n",
       "      <th>pval</th>\n",
       "      <th>df</th>\n",
       "    </tr>\n",
       "  </thead>\n",
       "  <tbody>\n",
       "    <tr>\n",
       "      <th>ChiSqTest</th>\n",
       "      <td>7.732703</td>\n",
       "      <td>0.005423</td>\n",
       "      <td>1</td>\n",
       "    </tr>\n",
       "  </tbody>\n",
       "</table>\n",
       "</div>"
      ],
      "text/plain": [
       "              chisq      pval  df\n",
       "ChiSqTest  7.732703  0.005423   1"
      ]
     },
     "metadata": {},
     "execution_count": 8
    }
   ],
   "metadata": {}
  },
  {
   "cell_type": "markdown",
   "source": [
    "Given **p** < **0.01**, there is strong evidence against the null hypothesis of no association.\n",
    "The study provides strong evidence of an association between the colour of a sky mermaid's tail and the density of cloud barnacle growth."
   ],
   "metadata": {}
  },
  {
   "cell_type": "markdown",
   "source": [
    "### Measures of association"
   ],
   "metadata": {}
  },
  {
   "cell_type": "markdown",
   "source": [
    "The estimated **relative risk** is **2.18**, with **95%** confidence interval **(1.30, 3.67)**."
   ],
   "metadata": {}
  },
  {
   "cell_type": "code",
   "execution_count": 9,
   "source": [
    "skymermaids.relative_risk()"
   ],
   "outputs": [
    {
     "output_type": "execute_result",
     "data": {
      "text/html": [
       "<div>\n",
       "<style scoped>\n",
       "    .dataframe tbody tr th:only-of-type {\n",
       "        vertical-align: middle;\n",
       "    }\n",
       "\n",
       "    .dataframe tbody tr th {\n",
       "        vertical-align: top;\n",
       "    }\n",
       "\n",
       "    .dataframe thead th {\n",
       "        text-align: right;\n",
       "    }\n",
       "</style>\n",
       "<table border=\"1\" class=\"dataframe\">\n",
       "  <thead>\n",
       "    <tr style=\"text-align: right;\">\n",
       "      <th></th>\n",
       "      <th>estimate</th>\n",
       "      <th>ese</th>\n",
       "      <th>lcb</th>\n",
       "      <th>ucb</th>\n",
       "    </tr>\n",
       "  </thead>\n",
       "  <tbody>\n",
       "    <tr>\n",
       "      <th>RelativeRisk</th>\n",
       "      <td>2.181053</td>\n",
       "      <td>0.265606</td>\n",
       "      <td>1.295931</td>\n",
       "      <td>3.670714</td>\n",
       "    </tr>\n",
       "  </tbody>\n",
       "</table>\n",
       "</div>"
      ],
      "text/plain": [
       "              estimate       ese       lcb       ucb\n",
       "RelativeRisk  2.181053  0.265606  1.295931  3.670714"
      ]
     },
     "metadata": {},
     "execution_count": 9
    }
   ],
   "metadata": {}
  },
  {
   "cell_type": "markdown",
   "source": [
    "The estimated **odds ratio** is **3.68**, with **95%** confidence interval **(1.43, 9.49)**."
   ],
   "metadata": {}
  },
  {
   "cell_type": "code",
   "execution_count": 10,
   "source": [
    "skymermaids.odds_ratio()"
   ],
   "outputs": [
    {
     "output_type": "execute_result",
     "data": {
      "text/html": [
       "<div>\n",
       "<style scoped>\n",
       "    .dataframe tbody tr th:only-of-type {\n",
       "        vertical-align: middle;\n",
       "    }\n",
       "\n",
       "    .dataframe tbody tr th {\n",
       "        vertical-align: top;\n",
       "    }\n",
       "\n",
       "    .dataframe thead th {\n",
       "        text-align: right;\n",
       "    }\n",
       "</style>\n",
       "<table border=\"1\" class=\"dataframe\">\n",
       "  <thead>\n",
       "    <tr style=\"text-align: right;\">\n",
       "      <th></th>\n",
       "      <th>estimate</th>\n",
       "      <th>ese</th>\n",
       "      <th>lcb</th>\n",
       "      <th>ucb</th>\n",
       "    </tr>\n",
       "  </thead>\n",
       "  <tbody>\n",
       "    <tr>\n",
       "      <th>OddsRatio</th>\n",
       "      <td>3.684211</td>\n",
       "      <td>0.482857</td>\n",
       "      <td>1.429999</td>\n",
       "      <td>9.491901</td>\n",
       "    </tr>\n",
       "  </tbody>\n",
       "</table>\n",
       "</div>"
      ],
      "text/plain": [
       "           estimate       ese       lcb       ucb\n",
       "OddsRatio  3.684211  0.482857  1.429999  9.491901"
      ]
     },
     "metadata": {},
     "execution_count": 10
    }
   ],
   "metadata": {}
  },
  {
   "cell_type": "markdown",
   "source": [
    "Both the odds ratio and relative risk are greater than **1**, with **95%** confidence interval located well above **1**.\n",
    "Given this, it is implausible that that either measure of association is **1**.\n",
    "The results show there is a positive association between a sky mermaid's tail colour and cloud barnacle growth."
   ],
   "metadata": {}
  },
  {
   "cell_type": "markdown",
   "source": [
    "## Discussion"
   ],
   "metadata": {}
  },
  {
   "cell_type": "markdown",
   "source": [
    "A cohort study of the hypothesised association between the colour of a sky mermaid's tail and the density of cloud barnacle was undertaken.\n",
    "A **chi-squared** test of no asociation returned a **p**-value of **0.01**, suggesting there is strong evidence of an association.\n",
    "The association is positive, with an odds ratio of **3.68** and a relative risk of **2.18**.\n",
    "Overall, we conclude that sky mermaids with red tails are approximately **118%** more likely to develop a high density of cloud barnacle growth, compared to those with blue tails."
   ],
   "metadata": {}
  }
 ],
 "metadata": {
  "kernelspec": {
   "name": "python3",
   "display_name": "Python 3.9.7 64-bit ('.venv': venv)"
  },
  "language_info": {
   "codemirror_mode": {
    "name": "ipython",
    "version": 3
   },
   "file_extension": ".py",
   "mimetype": "text/x-python",
   "name": "python",
   "nbconvert_exporter": "python",
   "pygments_lexer": "ipython3",
   "version": "3.9.7"
  },
  "interpreter": {
   "hash": "150ad1578c8613f8dc9018be5e644c2e52ac66be7a58cd127a3ca86b2ba9d096"
  }
 },
 "nbformat": 4,
 "nbformat_minor": 5
}