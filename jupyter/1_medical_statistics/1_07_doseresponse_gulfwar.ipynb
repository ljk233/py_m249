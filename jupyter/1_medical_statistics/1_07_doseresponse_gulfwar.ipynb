{
 "cells": [
  {
   "cell_type": "markdown",
   "metadata": {},
   "source": [
    "# Dose-Response Analysis: PTSD amongst US Gulf War Veterans"
   ]
  },
  {
   "cell_type": "markdown",
   "metadata": {},
   "source": [
    "## Summary"
   ]
  },
  {
   "cell_type": "markdown",
   "metadata": {},
   "source": [
    "## Introduction"
   ]
  },
  {
   "cell_type": "markdown",
   "metadata": {},
   "source": [
    "## Analysis"
   ]
  },
  {
   "cell_type": "code",
   "execution_count": 1,
   "metadata": {},
   "outputs": [],
   "source": [
    "from opyn.generic.pandasloader import PandasLoader\n",
    "from opyn.stats import epidemeology as epyn\n",
    "from pandas.api.types import CategoricalDtype\n",
    "import numpy as np"
   ]
  },
  {
   "cell_type": "markdown",
   "metadata": {},
   "source": [
    "### Load the data"
   ]
  },
  {
   "cell_type": "code",
   "execution_count": 2,
   "metadata": {},
   "outputs": [],
   "source": [
    "f = \"gulfdose\"\n",
    "pdloader = PandasLoader()\n",
    "# pdloader.get_description(f)"
   ]
  },
  {
   "cell_type": "code",
   "execution_count": 3,
   "metadata": {},
   "outputs": [
    {
     "data": {
      "text/html": [
       "<div>\n",
       "<style scoped>\n",
       "    .dataframe tbody tr th:only-of-type {\n",
       "        vertical-align: middle;\n",
       "    }\n",
       "\n",
       "    .dataframe tbody tr th {\n",
       "        vertical-align: top;\n",
       "    }\n",
       "\n",
       "    .dataframe thead th {\n",
       "        text-align: right;\n",
       "    }\n",
       "</style>\n",
       "<table border=\"1\" class=\"dataframe\">\n",
       "  <thead>\n",
       "    <tr style=\"text-align: right;\">\n",
       "      <th></th>\n",
       "      <th>count</th>\n",
       "      <th>dose</th>\n",
       "      <th>outcome</th>\n",
       "    </tr>\n",
       "  </thead>\n",
       "  <tbody>\n",
       "    <tr>\n",
       "      <th>0</th>\n",
       "      <td>174</td>\n",
       "      <td>extreme</td>\n",
       "      <td>ptsd</td>\n",
       "    </tr>\n",
       "    <tr>\n",
       "      <th>1</th>\n",
       "      <td>595</td>\n",
       "      <td>extreme</td>\n",
       "      <td>no ptsd</td>\n",
       "    </tr>\n",
       "    <tr>\n",
       "      <th>2</th>\n",
       "      <td>260</td>\n",
       "      <td>very severe</td>\n",
       "      <td>ptsd</td>\n",
       "    </tr>\n",
       "    <tr>\n",
       "      <th>3</th>\n",
       "      <td>1155</td>\n",
       "      <td>very severe</td>\n",
       "      <td>no ptsd</td>\n",
       "    </tr>\n",
       "    <tr>\n",
       "      <th>4</th>\n",
       "      <td>362</td>\n",
       "      <td>severe</td>\n",
       "      <td>ptsd</td>\n",
       "    </tr>\n",
       "    <tr>\n",
       "      <th>5</th>\n",
       "      <td>2688</td>\n",
       "      <td>severe</td>\n",
       "      <td>no ptsd</td>\n",
       "    </tr>\n",
       "    <tr>\n",
       "      <th>6</th>\n",
       "      <td>97</td>\n",
       "      <td>high</td>\n",
       "      <td>ptsd</td>\n",
       "    </tr>\n",
       "    <tr>\n",
       "      <th>7</th>\n",
       "      <td>1286</td>\n",
       "      <td>high</td>\n",
       "      <td>no ptsd</td>\n",
       "    </tr>\n",
       "    <tr>\n",
       "      <th>8</th>\n",
       "      <td>180</td>\n",
       "      <td>moderate</td>\n",
       "      <td>ptsd</td>\n",
       "    </tr>\n",
       "    <tr>\n",
       "      <th>9</th>\n",
       "      <td>2783</td>\n",
       "      <td>moderate</td>\n",
       "      <td>no ptsd</td>\n",
       "    </tr>\n",
       "    <tr>\n",
       "      <th>10</th>\n",
       "      <td>95</td>\n",
       "      <td>minimal</td>\n",
       "      <td>ptsd</td>\n",
       "    </tr>\n",
       "    <tr>\n",
       "      <th>11</th>\n",
       "      <td>2749</td>\n",
       "      <td>minimal</td>\n",
       "      <td>no ptsd</td>\n",
       "    </tr>\n",
       "  </tbody>\n",
       "</table>\n",
       "</div>"
      ],
      "text/plain": [
       "    count         dose  outcome\n",
       "0     174      extreme     ptsd\n",
       "1     595      extreme  no ptsd\n",
       "2     260  very severe     ptsd\n",
       "3    1155  very severe  no ptsd\n",
       "4     362       severe     ptsd\n",
       "5    2688       severe  no ptsd\n",
       "6      97         high     ptsd\n",
       "7    1286         high  no ptsd\n",
       "8     180     moderate     ptsd\n",
       "9    2783     moderate  no ptsd\n",
       "10     95      minimal     ptsd\n",
       "11   2749      minimal  no ptsd"
      ]
     },
     "execution_count": 3,
     "metadata": {},
     "output_type": "execute_result"
    }
   ],
   "source": [
    "dat = pdloader.get(f)\n",
    "dat"
   ]
  },
  {
   "cell_type": "markdown",
   "metadata": {},
   "source": [
    "Copy the dataframe to preserve the immutable nature of the data, and then recode the `exposure`, `outcome`, and `level` columns as ordered categorical data."
   ]
  },
  {
   "cell_type": "code",
   "execution_count": 4,
   "metadata": {},
   "outputs": [],
   "source": [
    "copieddat = dat.copy(deep=True)\n",
    "doses = [\"minimal\", \"moderate\", \"high\", \"severe\", \"very severe\", \"extreme\"]\n",
    "catdoses = CategoricalDtype(doses, True)\n",
    "catoutcomes = CategoricalDtype([\"no ptsd\", \"ptsd\"], True)\n",
    "copieddat[\"dose\"] = copieddat[\"dose\"].astype(catdoses)\n",
    "copieddat[\"outcome\"] = copieddat[\"outcome\"].astype(catoutcomes)"
   ]
  },
  {
   "cell_type": "markdown",
   "metadata": {},
   "source": [
    "Sort the dataframe to ensure the data is as expected."
   ]
  },
  {
   "cell_type": "code",
   "execution_count": 5,
   "metadata": {},
   "outputs": [
    {
     "data": {
      "text/html": [
       "<div>\n",
       "<style scoped>\n",
       "    .dataframe tbody tr th:only-of-type {\n",
       "        vertical-align: middle;\n",
       "    }\n",
       "\n",
       "    .dataframe tbody tr th {\n",
       "        vertical-align: top;\n",
       "    }\n",
       "\n",
       "    .dataframe thead th {\n",
       "        text-align: right;\n",
       "    }\n",
       "</style>\n",
       "<table border=\"1\" class=\"dataframe\">\n",
       "  <thead>\n",
       "    <tr style=\"text-align: right;\">\n",
       "      <th></th>\n",
       "      <th>count</th>\n",
       "      <th>dose</th>\n",
       "      <th>outcome</th>\n",
       "    </tr>\n",
       "  </thead>\n",
       "  <tbody>\n",
       "    <tr>\n",
       "      <th>11</th>\n",
       "      <td>2749</td>\n",
       "      <td>minimal</td>\n",
       "      <td>no ptsd</td>\n",
       "    </tr>\n",
       "    <tr>\n",
       "      <th>10</th>\n",
       "      <td>95</td>\n",
       "      <td>minimal</td>\n",
       "      <td>ptsd</td>\n",
       "    </tr>\n",
       "    <tr>\n",
       "      <th>9</th>\n",
       "      <td>2783</td>\n",
       "      <td>moderate</td>\n",
       "      <td>no ptsd</td>\n",
       "    </tr>\n",
       "    <tr>\n",
       "      <th>8</th>\n",
       "      <td>180</td>\n",
       "      <td>moderate</td>\n",
       "      <td>ptsd</td>\n",
       "    </tr>\n",
       "    <tr>\n",
       "      <th>7</th>\n",
       "      <td>1286</td>\n",
       "      <td>high</td>\n",
       "      <td>no ptsd</td>\n",
       "    </tr>\n",
       "    <tr>\n",
       "      <th>6</th>\n",
       "      <td>97</td>\n",
       "      <td>high</td>\n",
       "      <td>ptsd</td>\n",
       "    </tr>\n",
       "    <tr>\n",
       "      <th>5</th>\n",
       "      <td>2688</td>\n",
       "      <td>severe</td>\n",
       "      <td>no ptsd</td>\n",
       "    </tr>\n",
       "    <tr>\n",
       "      <th>4</th>\n",
       "      <td>362</td>\n",
       "      <td>severe</td>\n",
       "      <td>ptsd</td>\n",
       "    </tr>\n",
       "    <tr>\n",
       "      <th>3</th>\n",
       "      <td>1155</td>\n",
       "      <td>very severe</td>\n",
       "      <td>no ptsd</td>\n",
       "    </tr>\n",
       "    <tr>\n",
       "      <th>2</th>\n",
       "      <td>260</td>\n",
       "      <td>very severe</td>\n",
       "      <td>ptsd</td>\n",
       "    </tr>\n",
       "    <tr>\n",
       "      <th>1</th>\n",
       "      <td>595</td>\n",
       "      <td>extreme</td>\n",
       "      <td>no ptsd</td>\n",
       "    </tr>\n",
       "    <tr>\n",
       "      <th>0</th>\n",
       "      <td>174</td>\n",
       "      <td>extreme</td>\n",
       "      <td>ptsd</td>\n",
       "    </tr>\n",
       "  </tbody>\n",
       "</table>\n",
       "</div>"
      ],
      "text/plain": [
       "    count         dose  outcome\n",
       "11   2749      minimal  no ptsd\n",
       "10     95      minimal     ptsd\n",
       "9    2783     moderate  no ptsd\n",
       "8     180     moderate     ptsd\n",
       "7    1286         high  no ptsd\n",
       "6      97         high     ptsd\n",
       "5    2688       severe  no ptsd\n",
       "4     362       severe     ptsd\n",
       "3    1155  very severe  no ptsd\n",
       "2     260  very severe     ptsd\n",
       "1     595      extreme  no ptsd\n",
       "0     174      extreme     ptsd"
      ]
     },
     "execution_count": 5,
     "metadata": {},
     "output_type": "execute_result"
    }
   ],
   "source": [
    "sorteddat = copieddat.sort_values(by=[\"dose\", \"outcome\"])\n",
    "sorteddat"
   ]
  },
  {
   "cell_type": "markdown",
   "metadata": {},
   "source": [
    "Extract the `count` column as a `2x2x2` `ndarray`."
   ]
  },
  {
   "cell_type": "code",
   "execution_count": 6,
   "metadata": {},
   "outputs": [
    {
     "data": {
      "text/plain": [
       "array([[2749,   95],\n",
       "       [2783,  180],\n",
       "       [1286,   97],\n",
       "       [2688,  362],\n",
       "       [1155,  260],\n",
       "       [ 595,  174]], dtype=int64)"
      ]
     },
     "execution_count": 6,
     "metadata": {},
     "output_type": "execute_result"
    }
   ],
   "source": [
    "resarr = sorteddat[\"count\"].to_numpy().reshape((6, 2))\n",
    "resarr"
   ]
  },
  {
   "cell_type": "markdown",
   "metadata": {},
   "source": [
    "### Dose-specific odds ratio"
   ]
  },
  {
   "cell_type": "code",
   "execution_count": 7,
   "metadata": {},
   "outputs": [
    {
     "data": {
      "text/html": [
       "<div>\n",
       "<style scoped>\n",
       "    .dataframe tbody tr th:only-of-type {\n",
       "        vertical-align: middle;\n",
       "    }\n",
       "\n",
       "    .dataframe tbody tr th {\n",
       "        vertical-align: top;\n",
       "    }\n",
       "\n",
       "    .dataframe thead th {\n",
       "        text-align: right;\n",
       "    }\n",
       "</style>\n",
       "<table border=\"1\" class=\"dataframe\">\n",
       "  <thead>\n",
       "    <tr style=\"text-align: right;\">\n",
       "      <th></th>\n",
       "      <th>oddsratio</th>\n",
       "      <th>stderr</th>\n",
       "      <th>lower</th>\n",
       "      <th>upper</th>\n",
       "    </tr>\n",
       "  </thead>\n",
       "  <tbody>\n",
       "    <tr>\n",
       "      <th>Exposed1 (-)</th>\n",
       "      <td>1.0</td>\n",
       "      <td>0.0</td>\n",
       "      <td>NA</td>\n",
       "      <td>NA</td>\n",
       "    </tr>\n",
       "    <tr>\n",
       "      <th>Exposed2 (+)</th>\n",
       "      <td>1.871589</td>\n",
       "      <td>0.129634</td>\n",
       "      <td>1.451663</td>\n",
       "      <td>2.412987</td>\n",
       "    </tr>\n",
       "    <tr>\n",
       "      <th>Exposed3 (+)</th>\n",
       "      <td>2.182639</td>\n",
       "      <td>0.148246</td>\n",
       "      <td>1.632279</td>\n",
       "      <td>2.918565</td>\n",
       "    </tr>\n",
       "    <tr>\n",
       "      <th>Exposed4 (+)</th>\n",
       "      <td>3.897</td>\n",
       "      <td>0.118425</td>\n",
       "      <td>3.089774</td>\n",
       "      <td>4.915121</td>\n",
       "    </tr>\n",
       "    <tr>\n",
       "      <th>Exposed5 (+)</th>\n",
       "      <td>6.513921</td>\n",
       "      <td>0.124908</td>\n",
       "      <td>5.099417</td>\n",
       "      <td>8.320789</td>\n",
       "    </tr>\n",
       "    <tr>\n",
       "      <th>Exposed6 (+)</th>\n",
       "      <td>8.462203</td>\n",
       "      <td>0.135344</td>\n",
       "      <td>6.490509</td>\n",
       "      <td>11.032859</td>\n",
       "    </tr>\n",
       "  </tbody>\n",
       "</table>\n",
       "</div>"
      ],
      "text/plain": [
       "             oddsratio    stderr     lower      upper\n",
       "Exposed1 (-)       1.0       0.0        NA         NA\n",
       "Exposed2 (+)  1.871589  0.129634  1.451663   2.412987\n",
       "Exposed3 (+)  2.182639  0.148246  1.632279   2.918565\n",
       "Exposed4 (+)     3.897  0.118425  3.089774   4.915121\n",
       "Exposed5 (+)  6.513921  0.124908  5.099417   8.320789\n",
       "Exposed6 (+)  8.462203  0.135344  6.490509  11.032859"
      ]
     },
     "execution_count": 7,
     "metadata": {},
     "output_type": "execute_result"
    }
   ],
   "source": [
    "epyn.oddsratio(resarr)"
   ]
  },
  {
   "cell_type": "markdown",
   "metadata": {},
   "source": [
    "### Dose-specific odds"
   ]
  },
  {
   "cell_type": "code",
   "execution_count": 8,
   "metadata": {},
   "outputs": [],
   "source": [
    "# epyn.doseexposure_odds(resarr)"
   ]
  },
  {
   "cell_type": "markdown",
   "metadata": {},
   "source": [
    "### Chi-squared test of no linear trend"
   ]
  },
  {
   "cell_type": "code",
   "execution_count": 10,
   "metadata": {},
   "outputs": [
    {
     "data": {
      "text/html": [
       "<div>\n",
       "<style scoped>\n",
       "    .dataframe tbody tr th:only-of-type {\n",
       "        vertical-align: middle;\n",
       "    }\n",
       "\n",
       "    .dataframe tbody tr th {\n",
       "        vertical-align: top;\n",
       "    }\n",
       "\n",
       "    .dataframe thead th {\n",
       "        text-align: right;\n",
       "    }\n",
       "</style>\n",
       "<table border=\"1\" class=\"dataframe\">\n",
       "  <thead>\n",
       "    <tr style=\"text-align: right;\">\n",
       "      <th></th>\n",
       "      <th>r</th>\n",
       "      <th>chisq</th>\n",
       "      <th>pval</th>\n",
       "    </tr>\n",
       "  </thead>\n",
       "  <tbody>\n",
       "    <tr>\n",
       "      <th>result</th>\n",
       "      <td>0.187479</td>\n",
       "      <td>436.650463</td>\n",
       "      <td>5.800172e-97</td>\n",
       "    </tr>\n",
       "  </tbody>\n",
       "</table>\n",
       "</div>"
      ],
      "text/plain": [
       "               r       chisq          pval\n",
       "result  0.187479  436.650463  5.800172e-97"
      ]
     },
     "execution_count": 10,
     "metadata": {},
     "output_type": "execute_result"
    }
   ],
   "source": [
    "epyn.chisq_lineartrend(resarr)"
   ]
  },
  {
   "cell_type": "markdown",
   "metadata": {},
   "source": [
    "## Discussion"
   ]
  }
 ],
 "metadata": {
  "interpreter": {
   "hash": "150ad1578c8613f8dc9018be5e644c2e52ac66be7a58cd127a3ca86b2ba9d096"
  },
  "kernelspec": {
   "display_name": "PyM249",
   "language": "python",
   "name": "pym249"
  },
  "language_info": {
   "codemirror_mode": {
    "name": "ipython",
    "version": 3
   },
   "file_extension": ".py",
   "mimetype": "text/x-python",
   "name": "python",
   "nbconvert_exporter": "python",
   "pygments_lexer": "ipython3",
   "version": "3.9.7"
  }
 },
 "nbformat": 4,
 "nbformat_minor": 4
}
