{
 "cells": [
  {
   "cell_type": "markdown",
   "id": "f88ad804-845f-4561-9a36-6c556b09cd9a",
   "metadata": {},
   "source": [
    "# Related Variables"
   ]
  },
  {
   "cell_type": "markdown",
   "id": "c1bf5c54-370d-4b6f-8a98-11a36b43888e",
   "metadata": {},
   "source": [
    "## Setup the notebook"
   ]
  },
  {
   "cell_type": "code",
   "execution_count": 1,
   "id": "3729cbf3-0095-4cee-befa-424e94ba6c54",
   "metadata": {},
   "outputs": [],
   "source": [
    "from opynuni.pandasloader import PandasLoader\n",
    "from opynuni.stats import sampling, adt\n",
    "import pandas as pd\n",
    "import seaborn as sns\n",
    "import matplotlib.pyplot as plt"
   ]
  },
  {
   "cell_type": "code",
   "execution_count": 2,
   "id": "741ef90c-819a-426b-be28-06e36feeb20f",
   "metadata": {},
   "outputs": [],
   "source": [
    "pdloader = PandasLoader()"
   ]
  },
  {
   "cell_type": "markdown",
   "id": "1f550fb1-a50b-467b-ac92-286218bb6620",
   "metadata": {},
   "source": [
    "## Association between two continuous variables"
   ]
  },
  {
   "cell_type": "markdown",
   "id": "bc910fbb-cde0-4ca7-a4df-00cb37fc75a4",
   "metadata": {},
   "source": [
    "### Example: Road vs. map distance"
   ]
  },
  {
   "cell_type": "code",
   "execution_count": 3,
   "id": "bb35bff5-824e-4737-b406-f609ae03f672",
   "metadata": {},
   "outputs": [],
   "source": [
    "# get data\n",
    "distance = pdloader.get('roadmap')"
   ]
  },
  {
   "cell_type": "code",
   "execution_count": 4,
   "id": "014cf42f-eb79-4a62-93ff-43e687d7eeda",
   "metadata": {},
   "outputs": [],
   "source": [
    "# init new ob\n",
    "paired = sampling.PairedSamples.from_pandas(distance, [\"Road\", \"Map\"])"
   ]
  },
  {
   "cell_type": "code",
   "execution_count": 5,
   "id": "ad1cf177-ed30-44f2-8744-4c4764fc46f4",
   "metadata": {},
   "outputs": [
    {
     "data": {
      "image/png": "[encoded data removed]",
      "text/plain": [
       "<Figure size 576x432 with 1 Axes>"
      ]
     },
     "metadata": {
      "needs_background": "light"
     },
     "output_type": "display_data"
    }
   ],
   "source": [
    "# plot the data\n",
    "f, ax = plt.subplots(figsize=(8, 6))\n",
    "sns.scatterplot(data=distance, x='Map', y='Road')\n",
    "ax.set(title=\"Map vs Road distance\")\n",
    "plt.show()"
   ]
  },
  {
   "cell_type": "code",
   "execution_count": 6,
   "id": "26101ca9-6b57-4619-b905-b45de8a464b5",
   "metadata": {},
   "outputs": [
    {
     "data": {
      "text/plain": [
       "pairedvars(cov=68.3383, r=0.9691)"
      ]
     },
     "execution_count": 6,
     "metadata": {},
     "output_type": "execute_result"
    }
   ],
   "source": [
    "# get covariance, correlation\n",
    "cov, r = paired.cov, paired.corr_coeff\n",
    "adt.PairedVarsRepr(cov, r)"
   ]
  },
  {
   "cell_type": "markdown",
   "id": "f9dc9840-177c-4eb7-a8a1-0feebc3d6230",
   "metadata": {},
   "source": [
    "## Association between two discrete variables"
   ]
  },
  {
   "cell_type": "markdown",
   "id": "751fa880-81f8-471b-bebe-26e25eb55b4c",
   "metadata": {},
   "source": [
    "### Example: Tattoo removal"
   ]
  },
  {
   "cell_type": "code",
   "execution_count": 7,
   "id": "6e5ebd95-0cf0-478f-a79f-221cd435a925",
   "metadata": {},
   "outputs": [],
   "source": [
    "# get data\n",
    "tatts = pdloader.get('tattoos')"
   ]
  },
  {
   "cell_type": "code",
   "execution_count": 8,
   "id": "e3e5fb89-66e3-4cb1-b153-9fcce4f4bb9f",
   "metadata": {},
   "outputs": [],
   "source": [
    "# get series\n",
    "gender = tatts[\"Gender\"]\n",
    "score = tatts[\"Score\"]"
   ]
  },
  {
   "cell_type": "code",
   "execution_count": 9,
   "id": "3dcb4037-69ba-43ca-9da7-598ac456ddc4",
   "metadata": {},
   "outputs": [
    {
     "data": {
      "text/html": [
       "<div>\n",
       "<style scoped>\n",
       "    .dataframe tbody tr th:only-of-type {\n",
       "        vertical-align: middle;\n",
       "    }\n",
       "\n",
       "    .dataframe tbody tr th {\n",
       "        vertical-align: top;\n",
       "    }\n",
       "\n",
       "    .dataframe thead th {\n",
       "        text-align: right;\n",
       "    }\n",
       "</style>\n",
       "<table border=\"1\" class=\"dataframe\">\n",
       "  <thead>\n",
       "    <tr style=\"text-align: right;\">\n",
       "      <th>Score</th>\n",
       "      <th>1</th>\n",
       "      <th>2</th>\n",
       "      <th>3</th>\n",
       "      <th>4</th>\n",
       "      <th>All</th>\n",
       "    </tr>\n",
       "    <tr>\n",
       "      <th>Gender</th>\n",
       "      <th></th>\n",
       "      <th></th>\n",
       "      <th></th>\n",
       "      <th></th>\n",
       "      <th></th>\n",
       "    </tr>\n",
       "  </thead>\n",
       "  <tbody>\n",
       "    <tr>\n",
       "      <th>Females</th>\n",
       "      <td>4</td>\n",
       "      <td>3</td>\n",
       "      <td>4</td>\n",
       "      <td>1</td>\n",
       "      <td>12</td>\n",
       "    </tr>\n",
       "    <tr>\n",
       "      <th>Males</th>\n",
       "      <td>10</td>\n",
       "      <td>11</td>\n",
       "      <td>7</td>\n",
       "      <td>15</td>\n",
       "      <td>43</td>\n",
       "    </tr>\n",
       "    <tr>\n",
       "      <th>All</th>\n",
       "      <td>14</td>\n",
       "      <td>14</td>\n",
       "      <td>11</td>\n",
       "      <td>16</td>\n",
       "      <td>55</td>\n",
       "    </tr>\n",
       "  </tbody>\n",
       "</table>\n",
       "</div>"
      ],
      "text/plain": [
       "Score     1   2   3   4  All\n",
       "Gender                      \n",
       "Females   4   3   4   1   12\n",
       "Males    10  11   7  15   43\n",
       "All      14  14  11  16   55"
      ]
     },
     "execution_count": 9,
     "metadata": {},
     "output_type": "execute_result"
    }
   ],
   "source": [
    "# use relace to make gender labels more meaningful\n",
    "pd.crosstab(\n",
    "    index=gender.replace({'f': 'Females', 'm': 'Males'}),\n",
    "    columns=score,\n",
    "    margins=True)"
   ]
  },
  {
   "cell_type": "markdown",
   "id": "a8fcecab-2d9e-49ad-836c-c82e6c63ba6c",
   "metadata": {},
   "source": [
    "We can view different types of probabilities by passing an argument for `normalize`.\n",
    "See comments below for an explanation."
   ]
  },
  {
   "cell_type": "code",
   "execution_count": 10,
   "id": "293b4c40-eca5-42fc-8471-9b4df3d4e3b5",
   "metadata": {},
   "outputs": [
    {
     "data": {
      "text/html": [
       "<div>\n",
       "<style scoped>\n",
       "    .dataframe tbody tr th:only-of-type {\n",
       "        vertical-align: middle;\n",
       "    }\n",
       "\n",
       "    .dataframe tbody tr th {\n",
       "        vertical-align: top;\n",
       "    }\n",
       "\n",
       "    .dataframe thead th {\n",
       "        text-align: right;\n",
       "    }\n",
       "</style>\n",
       "<table border=\"1\" class=\"dataframe\">\n",
       "  <thead>\n",
       "    <tr style=\"text-align: right;\">\n",
       "      <th>Score</th>\n",
       "      <th>1</th>\n",
       "      <th>2</th>\n",
       "      <th>3</th>\n",
       "      <th>4</th>\n",
       "    </tr>\n",
       "    <tr>\n",
       "      <th>Gender</th>\n",
       "      <th></th>\n",
       "      <th></th>\n",
       "      <th></th>\n",
       "      <th></th>\n",
       "    </tr>\n",
       "  </thead>\n",
       "  <tbody>\n",
       "    <tr>\n",
       "      <th>Females</th>\n",
       "      <td>0.072727</td>\n",
       "      <td>0.054545</td>\n",
       "      <td>0.072727</td>\n",
       "      <td>0.018182</td>\n",
       "    </tr>\n",
       "    <tr>\n",
       "      <th>Males</th>\n",
       "      <td>0.181818</td>\n",
       "      <td>0.200000</td>\n",
       "      <td>0.127273</td>\n",
       "      <td>0.272727</td>\n",
       "    </tr>\n",
       "  </tbody>\n",
       "</table>\n",
       "</div>"
      ],
      "text/plain": [
       "Score           1         2         3         4\n",
       "Gender                                         \n",
       "Females  0.072727  0.054545  0.072727  0.018182\n",
       "Males    0.181818  0.200000  0.127273  0.272727"
      ]
     },
     "execution_count": 10,
     "metadata": {},
     "output_type": "execute_result"
    }
   ],
   "source": [
    "# view proprotion by total\n",
    "pd.crosstab(\n",
    "    index=gender.replace({'f': 'Females', 'm': 'Males'}),\n",
    "    columns=score,\n",
    "    normalize=True)"
   ]
  },
  {
   "cell_type": "code",
   "execution_count": 11,
   "id": "d5524164-de6e-4f90-9eab-7de181921fe1",
   "metadata": {},
   "outputs": [
    {
     "data": {
      "text/html": [
       "<div>\n",
       "<style scoped>\n",
       "    .dataframe tbody tr th:only-of-type {\n",
       "        vertical-align: middle;\n",
       "    }\n",
       "\n",
       "    .dataframe tbody tr th {\n",
       "        vertical-align: top;\n",
       "    }\n",
       "\n",
       "    .dataframe thead th {\n",
       "        text-align: right;\n",
       "    }\n",
       "</style>\n",
       "<table border=\"1\" class=\"dataframe\">\n",
       "  <thead>\n",
       "    <tr style=\"text-align: right;\">\n",
       "      <th>Score</th>\n",
       "      <th>1</th>\n",
       "      <th>2</th>\n",
       "      <th>3</th>\n",
       "      <th>4</th>\n",
       "    </tr>\n",
       "    <tr>\n",
       "      <th>Gender</th>\n",
       "      <th></th>\n",
       "      <th></th>\n",
       "      <th></th>\n",
       "      <th></th>\n",
       "    </tr>\n",
       "  </thead>\n",
       "  <tbody>\n",
       "    <tr>\n",
       "      <th>Females</th>\n",
       "      <td>0.285714</td>\n",
       "      <td>0.214286</td>\n",
       "      <td>0.363636</td>\n",
       "      <td>0.0625</td>\n",
       "    </tr>\n",
       "    <tr>\n",
       "      <th>Males</th>\n",
       "      <td>0.714286</td>\n",
       "      <td>0.785714</td>\n",
       "      <td>0.636364</td>\n",
       "      <td>0.9375</td>\n",
       "    </tr>\n",
       "  </tbody>\n",
       "</table>\n",
       "</div>"
      ],
      "text/plain": [
       "Score           1         2         3       4\n",
       "Gender                                       \n",
       "Females  0.285714  0.214286  0.363636  0.0625\n",
       "Males    0.714286  0.785714  0.636364  0.9375"
      ]
     },
     "execution_count": 11,
     "metadata": {},
     "output_type": "execute_result"
    }
   ],
   "source": [
    "# normalise column, use column marginal -> Pr(idx|col)\n",
    "pd.crosstab(\n",
    "    index=gender.replace({'f': 'Females', 'm': 'Males'}),\n",
    "    columns=score,\n",
    "    normalize='columns')"
   ]
  },
  {
   "cell_type": "code",
   "execution_count": 12,
   "id": "16120415-4b22-48ce-95ea-9bf35a39d89f",
   "metadata": {},
   "outputs": [
    {
     "data": {
      "text/html": [
       "<div>\n",
       "<style scoped>\n",
       "    .dataframe tbody tr th:only-of-type {\n",
       "        vertical-align: middle;\n",
       "    }\n",
       "\n",
       "    .dataframe tbody tr th {\n",
       "        vertical-align: top;\n",
       "    }\n",
       "\n",
       "    .dataframe thead th {\n",
       "        text-align: right;\n",
       "    }\n",
       "</style>\n",
       "<table border=\"1\" class=\"dataframe\">\n",
       "  <thead>\n",
       "    <tr style=\"text-align: right;\">\n",
       "      <th>Score</th>\n",
       "      <th>1</th>\n",
       "      <th>2</th>\n",
       "      <th>3</th>\n",
       "      <th>4</th>\n",
       "    </tr>\n",
       "    <tr>\n",
       "      <th>Gender</th>\n",
       "      <th></th>\n",
       "      <th></th>\n",
       "      <th></th>\n",
       "      <th></th>\n",
       "    </tr>\n",
       "  </thead>\n",
       "  <tbody>\n",
       "    <tr>\n",
       "      <th>Females</th>\n",
       "      <td>0.333333</td>\n",
       "      <td>0.250000</td>\n",
       "      <td>0.333333</td>\n",
       "      <td>0.083333</td>\n",
       "    </tr>\n",
       "    <tr>\n",
       "      <th>Males</th>\n",
       "      <td>0.232558</td>\n",
       "      <td>0.255814</td>\n",
       "      <td>0.162791</td>\n",
       "      <td>0.348837</td>\n",
       "    </tr>\n",
       "  </tbody>\n",
       "</table>\n",
       "</div>"
      ],
      "text/plain": [
       "Score           1         2         3         4\n",
       "Gender                                         \n",
       "Females  0.333333  0.250000  0.333333  0.083333\n",
       "Males    0.232558  0.255814  0.162791  0.348837"
      ]
     },
     "execution_count": 12,
     "metadata": {},
     "output_type": "execute_result"
    }
   ],
   "source": [
    "# normalise index, use row marginal -> Pr(col|idx)\n",
    "pd.crosstab(\n",
    "    index=gender.replace({'f': 'Females', 'm': 'Males'}),\n",
    "    columns=score,\n",
    "    normalize='index')"
   ]
  }
 ],
 "metadata": {
  "kernelspec": {
   "display_name": "Python 3 (ipykernel)",
   "language": "python",
   "name": "python3"
  },
  "language_info": {
   "codemirror_mode": {
    "name": "ipython",
    "version": 3
   },
   "file_extension": ".py",
   "mimetype": "text/x-python",
   "name": "python",
   "nbconvert_exporter": "python",
   "pygments_lexer": "ipython3",
   "version": "3.9.6"
  }
 },
 "nbformat": 4,
 "nbformat_minor": 5
}
