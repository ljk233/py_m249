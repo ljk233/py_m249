{
 "cells": [
  {
   "cell_type": "markdown",
   "id": "f88ad804-845f-4561-9a36-6c556b09cd9a",
   "metadata": {},
   "source": [
    "# Related Variables"
   ]
  },
  {
   "cell_type": "markdown",
   "id": "c1bf5c54-370d-4b6f-8a98-11a36b43888e",
   "metadata": {},
   "source": [
    "## Setup the notebook"
   ]
  },
  {
   "cell_type": "code",
   "execution_count": 1,
   "id": "3729cbf3-0095-4cee-befa-424e94ba6c54",
   "metadata": {},
   "outputs": [],
   "source": [
    "from statsmodels.stats import weightstats as ws\n",
    "from pyou.pandasloader import PandasLoader\n",
    "from pyou.stats import sampling\n",
    "import pandas as pd\n",
    "import seaborn as sns\n",
    "import matplotlib.pyplot as plt"
   ]
  },
  {
   "cell_type": "code",
   "execution_count": 2,
   "id": "741ef90c-819a-426b-be28-06e36feeb20f",
   "metadata": {},
   "outputs": [],
   "source": [
    "pdloader = PandasLoader()"
   ]
  },
  {
   "cell_type": "markdown",
   "id": "1f550fb1-a50b-467b-ac92-286218bb6620",
   "metadata": {},
   "source": [
    "## Association between two continuous variables"
   ]
  },
  {
   "cell_type": "markdown",
   "id": "bc910fbb-cde0-4ca7-a4df-00cb37fc75a4",
   "metadata": {},
   "source": [
    "### Example: Road vs. map distance"
   ]
  },
  {
   "cell_type": "code",
   "execution_count": 3,
   "id": "bb35bff5-824e-4737-b406-f609ae03f672",
   "metadata": {},
   "outputs": [
    {
     "name": "stdout",
     "output_type": "stream",
     "text": [
      "<class 'pandas.core.frame.DataFrame'>\n",
      "RangeIndex: 20 entries, 0 to 19\n",
      "Data columns (total 2 columns):\n",
      " #   Column  Non-Null Count  Dtype  \n",
      "---  ------  --------------  -----  \n",
      " 0   Road    20 non-null     float64\n",
      " 1   Map     20 non-null     float64\n",
      "dtypes: float64(2)\n",
      "memory usage: 448.0 bytes\n"
     ]
    }
   ],
   "source": [
    "# get data\n",
    "distance = pdloader.get('roadmap')\n",
    "distance.info()"
   ]
  },
  {
   "cell_type": "code",
   "execution_count": 4,
   "id": "ad1cf177-ed30-44f2-8744-4c4764fc46f4",
   "metadata": {},
   "outputs": [
    {
     "data": {
      "image/png": "[encoded data removed]",
      "text/plain": [
       "<Figure size 576x432 with 1 Axes>"
      ]
     },
     "metadata": {
      "needs_background": "light"
     },
     "output_type": "display_data"
    }
   ],
   "source": [
    "# plot the data\n",
    "f, ax = plt.subplots(figsize=(8, 6))\n",
    "sns.scatterplot(data=distance, x='Map', y='Road')\n",
    "plt.show()"
   ]
  },
  {
   "cell_type": "code",
   "execution_count": 5,
   "id": "9d002b80-37c2-4bfc-b25f-05abfc60011f",
   "metadata": {},
   "outputs": [],
   "source": [
    "# get new statsmodels object\n",
    "dsw = ws.DescrStatsW(distance[['Road', 'Map']])"
   ]
  },
  {
   "cell_type": "code",
   "execution_count": 6,
   "id": "337c23e4-017f-42fa-b3eb-8e2ef83b5c1a",
   "metadata": {},
   "outputs": [],
   "source": [
    "def cov(x: pd.Series, y: pd.Series) -> float:\n",
    "    resx = pd.Series(x - x.mean())\n",
    "    resy = pd.Series(y - y.mean())\n",
    "    res = resx*resy\n",
    "    size = resx.size\n",
    "    # num = pd.Series((x - x.mean())*(y - y.mean())).sum()\n",
    "    return 1/(size-1) * res.sum()"
   ]
  },
  {
   "cell_type": "code",
   "execution_count": 7,
   "id": "51d49801-94e2-413f-8426-999a83ab05c3",
   "metadata": {},
   "outputs": [],
   "source": [
    "road, map_ = distance['Road'], distance['Map']"
   ]
  },
  {
   "cell_type": "code",
   "execution_count": 8,
   "id": "9b2677f4-464c-46ca-9093-624392e0f223",
   "metadata": {},
   "outputs": [
    {
     "data": {
      "text/plain": [
       "68.33826315789473"
      ]
     },
     "execution_count": 8,
     "metadata": {},
     "output_type": "execute_result"
    }
   ],
   "source": [
    "cov(road, map_)"
   ]
  },
  {
   "cell_type": "code",
   "execution_count": 9,
   "id": "80ab0404-4d88-4d97-ab4a-5c0c0afb3b4e",
   "metadata": {},
   "outputs": [],
   "source": [
    "distance[\"subx\"] = distance[\"Road\"] - distance[\"Road\"].mean()\n",
    "distance[\"suby\"] = distance[\"Map\"] - distance[\"Map\"].mean()"
   ]
  },
  {
   "cell_type": "code",
   "execution_count": 10,
   "id": "0acb5c25-769c-4407-9989-2fc71c7de742",
   "metadata": {},
   "outputs": [
    {
     "data": {
      "text/plain": [
       "1298.427"
      ]
     },
     "execution_count": 10,
     "metadata": {},
     "output_type": "execute_result"
    }
   ],
   "source": [
    "distance[\"Prod\"] = distance[\"subx\"]*distance[\"suby\"]\n",
    "num = distance[\"Prod\"].sum()\n",
    "num"
   ]
  },
  {
   "cell_type": "code",
   "execution_count": 11,
   "id": "014cf42f-eb79-4a62-93ff-43e687d7eeda",
   "metadata": {},
   "outputs": [],
   "source": [
    "paired = sampling.PairedSamples.from_pandas(distance, [\"Road\", \"Map\"])"
   ]
  },
  {
   "cell_type": "code",
   "execution_count": 14,
   "id": "ca392050-ec9c-4c0e-86ee-4e1e29f0dea3",
   "metadata": {},
   "outputs": [
    {
     "data": {
      "text/plain": [
       "68.33826315789473"
      ]
     },
     "execution_count": 14,
     "metadata": {},
     "output_type": "execute_result"
    }
   ],
   "source": [
    "paired.cov"
   ]
  },
  {
   "cell_type": "code",
   "execution_count": null,
   "id": "2c0fd33f-7178-45b0-91e9-2fa734d3aaaf",
   "metadata": {},
   "outputs": [],
   "source": []
  },
  {
   "cell_type": "code",
   "execution_count": 13,
   "id": "22d064fe-ced2-4c1a-bce4-8097e423aa58",
   "metadata": {},
   "outputs": [
    {
     "data": {
      "text/plain": [
       "array([[87.754475, 64.92135 ],\n",
       "       [64.92135 , 51.1421  ]])"
      ]
     },
     "execution_count": 13,
     "metadata": {},
     "output_type": "execute_result"
    }
   ],
   "source": [
    "# get covariance\n",
    "dsw.cov"
   ]
  }
 ],
 "metadata": {
  "kernelspec": {
   "display_name": "Python 3 (ipykernel)",
   "language": "python",
   "name": "python3"
  },
  "language_info": {
   "codemirror_mode": {
    "name": "ipython",
    "version": 3
   },
   "file_extension": ".py",
   "mimetype": "text/x-python",
   "name": "python",
   "nbconvert_exporter": "python",
   "pygments_lexer": "ipython3",
   "version": "3.9.6"
  }
 },
 "nbformat": 4,
 "nbformat_minor": 5
}
