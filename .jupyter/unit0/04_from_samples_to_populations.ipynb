{
 "cells": [
  {
   "cell_type": "markdown",
   "id": "8fe2396e",
   "metadata": {},
   "source": [
    "# From samples to populations\n",
    "\n",
    "This notebook deals with:\n",
    "\n",
    "1. Interval estimation\n",
    "2. Significance testing"
   ]
  },
  {
   "cell_type": "markdown",
   "id": "81a6ee74",
   "metadata": {},
   "source": [
    "## Setup the notebook"
   ]
  },
  {
   "cell_type": "code",
   "execution_count": 1,
   "id": "2c9aec89",
   "metadata": {},
   "outputs": [],
   "source": [
    "from __future__ import annotations\n",
    "from opynuni.stats import adt, sampling\n",
    "from opynuni.pandasloader import PandasLoader\n",
    "from statsmodels.stats import proportion, weightstats"
   ]
  },
  {
   "cell_type": "code",
   "execution_count": 2,
   "id": "04a6f8eb",
   "metadata": {},
   "outputs": [],
   "source": [
    "# init loader object\n",
    "pdloader = PandasLoader()"
   ]
  },
  {
   "cell_type": "markdown",
   "id": "0351ca97",
   "metadata": {},
   "source": [
    "## Confidence intervals\n",
    "\n",
    "A confidence interval for some parameter $\\theta$ is a range of plausible values $(\\theta^{-}, \\theta^{+})$.\n",
    "It can represent the uncertainty in an estimate $\\hat\\theta$.\n",
    "\n",
    "One interpretation of a confidence interval is given by **plausible range interpretation of confidence intervals**, which states that a confidence interval represents a range of values of $\\theta$ that are plausible at the 95% confidence level, given the observed data."
   ]
  },
  {
   "cell_type": "markdown",
   "id": "4e17aa38",
   "metadata": {
    "tags": []
   },
   "source": [
    "### Large sample approximate 100(1-$\\alpha$)% confidence intervals of the mean\n",
    "\n",
    "Given a random sample $x_{1}, \\ldots, x_{n}$ of size $n>30$ from a population with mean $\\mu$, an approximate $100(1-\\alpha)\\%$ confidence interval for $\\mu$, valid for large $n$, is\n",
    "\n",
    "$$(\\mu^{-}, \\mu^{+}) = \\bigg( \\bar{x} \\pm z \\frac{s^{2}}{n} \\bigg),$$\n",
    "\n",
    "where $\\bar{x}$ is the sample mean, $s$ is the sample standard deviation, and $z = q_{1-(\\alpha/2)}$ of the standard normal distribution."
   ]
  },
  {
   "cell_type": "markdown",
   "id": "8b0bc503",
   "metadata": {},
   "source": [
    "#### Example: Number of goals per game\n",
    "\n",
    "The data on the number of goals scored per game in a English Premier League season has been provided.\n",
    "Calculate a 95% $z$-interval for the expected number of goals scored in a game, and comment whether it is plausible that on average more than three goals are scored per game."
   ]
  },
  {
   "cell_type": "code",
   "execution_count": 3,
   "id": "0005b62c",
   "metadata": {},
   "outputs": [
    {
     "data": {
      "text/plain": [
       "confint(lower=2.6601, upper=2.9821)"
      ]
     },
     "execution_count": 3,
     "metadata": {},
     "output_type": "execute_result"
    }
   ],
   "source": [
    "# get data\n",
    "games = pdloader.get('number_of_goals_per_game')\n",
    "# get confint\n",
    "res = weightstats.zconfint(x1=games[\"goals\"])\n",
    "adt.ConfIntADT(res)"
   ]
  },
  {
   "cell_type": "markdown",
   "id": "4f74390e",
   "metadata": {},
   "source": [
    "The valule 3 is not included in the 95% confidence interval, so it is not plausible at the 95% confidence level.\n",
    "Thus it is implausible that the mean number of goals is three, since they would require the data configuration to be unlikely."
   ]
  },
  {
   "cell_type": "markdown",
   "id": "e3d2227b",
   "metadata": {},
   "source": [
    "#### Example: Ozone levels (pp45)"
   ]
  },
  {
   "cell_type": "code",
   "execution_count": 4,
   "id": "15278490",
   "metadata": {},
   "outputs": [
    {
     "data": {
      "text/plain": [
       "confint(lower=14.7647, upper=15.5773)"
      ]
     },
     "execution_count": 4,
     "metadata": {},
     "output_type": "execute_result"
    }
   ],
   "source": [
    "# init object, get conf int\n",
    "sample = sampling.ZSample(mean=15.171, std=8.2773, nobs=1594)\n",
    "# get confint\n",
    "sample.zconfint_mean()"
   ]
  },
  {
   "cell_type": "markdown",
   "id": "f4617c74",
   "metadata": {},
   "source": [
    "### Approximate 100(1-$\\alpha$)% confidence interval for a proportion\n",
    "\n",
    "Given an estimate $\\hat p$ of a proportion $p$, obtained by observing $x$ successes in as a sequence of $n$ independent **Bernoulli trials** each with a probability of success $p$, an approximate confidence interval for the proportion is\n",
    "\n",
    "$$(p^{-}, p^{+}) = \\bigg( \\hat p \\pm z \\sqrt{\\frac{\\hat p \\: (1 - \\hat p)}{n}} \\bigg)$$\n",
    "\n",
    "where $\\hat p = x/n$ and $z = q_{1-(\\alpha/2)}$ of the standard normal distribution.\n",
    "This confidence interval is valid when both $np, \\: n(1-p) \\geq 5$.\n",
    "\n",
    "*Note, this last condition really means that there are at least 5 successes and 5 failures in the sample.*"
   ]
  },
  {
   "cell_type": "markdown",
   "id": "00c9ec87",
   "metadata": {
    "tags": []
   },
   "source": [
    "#### Example: Proportion of females among asthma cases (pp46)\n",
    "\n",
    "Of the 1761 cases involving asthma patients who were admitted to hospital where the gender was recorded, 907 were female.\n",
    "Calculate an approximate 95% confidence interval for $p$, the underlying proportion of females among persons admitted for asthma."
   ]
  },
  {
   "cell_type": "code",
   "execution_count": 5,
   "id": "e5f30b58-1881-4594-86ed-3d325ada609e",
   "metadata": {},
   "outputs": [
    {
     "data": {
      "text/plain": [
       "confint(lower=0.4917, upper=0.5384)"
      ]
     },
     "execution_count": 5,
     "metadata": {},
     "output_type": "execute_result"
    }
   ],
   "source": [
    "res = proportion.proportion_confint(count=907, nobs=1761)\n",
    "# sampling.to_namedtuple(res, 'confint')\n",
    "adt.ConfIntADT(res)"
   ]
  },
  {
   "cell_type": "markdown",
   "id": "ca3abeef",
   "metadata": {},
   "source": [
    "## Testing hypotheses"
   ]
  },
  {
   "cell_type": "markdown",
   "id": "cecc8752",
   "metadata": {},
   "source": [
    "#### Example: Mean duration of hospital stay (pp47)"
   ]
  },
  {
   "cell_type": "code",
   "execution_count": 6,
   "id": "d7755e61",
   "metadata": {},
   "outputs": [
    {
     "data": {
      "text/plain": [
       "results(zstat=-2.6093, pval=0.0091)"
      ]
     },
     "execution_count": 6,
     "metadata": {},
     "output_type": "execute_result"
    }
   ],
   "source": [
    "# initialise object\n",
    "sampling.ZSample(mean=1.885, std=1.85, nobs=1762).twosided_ztest_mean(mu0=2)"
   ]
  }
 ],
 "metadata": {
  "interpreter": {
   "hash": "e3664f357c2b2734ea2c6777198af464a1d586bce7a4eafd7e49c68ceedc6949"
  },
  "kernelspec": {
   "display_name": "Python 3 (ipykernel)",
   "language": "python",
   "name": "python3"
  },
  "language_info": {
   "codemirror_mode": {
    "name": "ipython",
    "version": 3
   },
   "file_extension": ".py",
   "mimetype": "text/x-python",
   "name": "python",
   "nbconvert_exporter": "python",
   "pygments_lexer": "ipython3",
   "version": "3.9.6"
  }
 },
 "nbformat": 4,
 "nbformat_minor": 5
}
