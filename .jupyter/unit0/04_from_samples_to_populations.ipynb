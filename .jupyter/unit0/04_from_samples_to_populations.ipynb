{
 "cells": [
  {
   "cell_type": "markdown",
   "id": "4c26ed2b-8cf1-4f60-b2e9-1795b68932fe",
   "metadata": {},
   "source": [
    "# From samples to populations\n",
    "\n",
    "This notebook deals with:\n",
    "\n",
    "1. Interval estimation\n",
    "2. Significance testing"
   ]
  },
  {
   "cell_type": "markdown",
   "id": "16afa550-90eb-423b-a7f5-8035fe5be233",
   "metadata": {},
   "source": [
    "## Setup the notebook"
   ]
  },
  {
   "cell_type": "code",
   "execution_count": 1,
   "id": "5eb84ec6-6fbb-4672-b16f-3b00b0a8aff9",
   "metadata": {},
   "outputs": [],
   "source": [
    "from __future__ import annotations\n",
    "from pyou.stats import sampling\n",
    "from pyou.pandasloader import PandasLoader\n",
    "from statsmodels.stats import proportion, weightstats"
   ]
  },
  {
   "cell_type": "code",
   "execution_count": 2,
   "id": "8c69ff79-0215-40f5-832f-9fabad775682",
   "metadata": {},
   "outputs": [],
   "source": [
    "# init loader object\n",
    "pdloader = PandasLoader()"
   ]
  },
  {
   "cell_type": "code",
   "execution_count": 3,
   "id": "574fd212-7eca-46f0-88ac-beca7e35d821",
   "metadata": {},
   "outputs": [
    {
     "data": {
      "text/plain": [
       "['bike_rental_daily.csv',\n",
       " 'number_of_goals_per_game.csv',\n",
       " 'waiting_times_between_goals.csv']"
      ]
     },
     "execution_count": 3,
     "metadata": {},
     "output_type": "execute_result"
    }
   ],
   "source": [
    "# list the files\n",
    "pdloader.list_files()"
   ]
  },
  {
   "cell_type": "markdown",
   "id": "b4778308-745c-418b-83fc-4ca7cf163c8e",
   "metadata": {},
   "source": [
    "## Confidence intervals\n",
    "\n",
    "A confidence interval for some parameter $\\theta$ is a range of plausible values $(\\theta^{-}, \\theta^{+})$.\n",
    "It can represent the uncertainty in an estimate $\\hat\\theta$.\n",
    "\n",
    "One interpretation of a confidence interval is given by **plausible range interpretation of confidence intervals**, which states that a confidence interval represents a range of values of $\\theta$ that are plausible at the 95% confidence level, given the observed data."
   ]
  },
  {
   "cell_type": "markdown",
   "id": "f88f2ce8-c62d-4f2e-9b83-423444aff9fe",
   "metadata": {
    "tags": []
   },
   "source": [
    "### Large sample approximate 100(1-$\\alpha$)% confidence intervals of the mean\n",
    "\n",
    "Given a random sample $x_{1}, \\ldots, x_{n}$ of size $n>30$ from a population with mean $\\mu$, an approximate $100(1-\\alpha)\\%$ confidence interval for $\\mu$, valid for large $n$, is\n",
    "\n",
    "$$(\\mu^{-}, \\mu^{+}) = \\bigg( \\bar{x} \\pm z \\frac{s^{2}}{n} \\bigg),$$\n",
    "\n",
    "where $\\bar{x}$ is the sample mean, $s$ is the sample standard deviation, and $z = q_{1-(\\alpha/2)}$ of the standard normal distribution."
   ]
  },
  {
   "cell_type": "markdown",
   "id": "690ad33f-170d-4a4a-8aa3-735b10b0b04a",
   "metadata": {},
   "source": [
    "#### Example: Number of goals per game\n",
    "\n",
    "The data on the number of goals scored per game in a English Premier League season has been provided.\n",
    "Calculate a 95% $z$-interval for the expected number of goals scored in a game, and comment whether it is plausible that on average more than three goals are scored per game."
   ]
  },
  {
   "cell_type": "code",
   "execution_count": 4,
   "id": "8471f510-0745-4165-94e4-7aec06c3e2e9",
   "metadata": {},
   "outputs": [
    {
     "data": {
      "text/plain": [
       "zconfint(lower=2.6601, upper=2.9821)"
      ]
     },
     "execution_count": 4,
     "metadata": {},
     "output_type": "execute_result"
    }
   ],
   "source": [
    "# get data\n",
    "games = pdloader.get('number_of_goals_per_game')\n",
    "# get confint\n",
    "res = weightstats.zconfint(x1=games[\"goals\"])\n",
    "sampling.statsmodel_to_namedtuple(res, 'confint')"
   ]
  },
  {
   "cell_type": "markdown",
   "id": "7119c5b5-adcc-49ba-8c03-9ee64e43786e",
   "metadata": {},
   "source": [
    "The valule 3 is not included in the 95% confidence interval, so it is not plausible at the 95% confidence level.\n",
    "Thus it is implausible that the mean number of goals is three, since they would require the data configuration to be unlikely."
   ]
  },
  {
   "cell_type": "markdown",
   "id": "7b03d01f-6be5-4278-a5c2-0a7699f2d45e",
   "metadata": {},
   "source": [
    "#### Example: Ozone levels (pp45)"
   ]
  },
  {
   "cell_type": "code",
   "execution_count": 5,
   "id": "3cc1b646-9ad8-48cc-afeb-4e1dae17b15b",
   "metadata": {},
   "outputs": [
    {
     "data": {
      "text/plain": [
       "zconfint(lower=14.7647, upper=15.5773)"
      ]
     },
     "execution_count": 5,
     "metadata": {},
     "output_type": "execute_result"
    }
   ],
   "source": [
    "# init object, get conf int\n",
    "sample = sampling.ZSample(mean=15.171, std=8.2773, nobs=1594)\n",
    "# get confint\n",
    "sample.zconfint_mean()"
   ]
  },
  {
   "cell_type": "markdown",
   "id": "00cbb920-f889-4967-8e91-d2e794d13202",
   "metadata": {},
   "source": [
    "### Approximate 100(1-$\\alpha$)% confidence interval for a proportion\n",
    "\n",
    "Given an estimate $\\hat p$ of a proportion $p$, obtained by observing $x$ successes in as a sequence of $n$ independent **Bernoulli trials** each with a probability of success $p$, an approximate confidence interval for the proportion is\n",
    "\n",
    "$$(p^{-}, p^{+}) = \\bigg( \\hat p \\pm z \\sqrt{\\frac{\\hat p \\: (1 - \\hat p)}{n}} \\bigg)$$\n",
    "\n",
    "where $\\hat p = x/n$ and $z = q_{1-(\\alpha/2)}$ of the standard normal distribution.\n",
    "This confidence interval is valid when both $np, \\: n(1-p) \\geq 5$.\n",
    "\n",
    "*Note, this last condition really means that there are at least 5 successes and 5 failures in the sample.*"
   ]
  },
  {
   "cell_type": "markdown",
   "id": "0b3208fe-002b-4a43-a3d0-39fc1fbd8d9a",
   "metadata": {
    "tags": []
   },
   "source": [
    "#### Example: Proportion of females among asthma cases (pp46)\n",
    "\n",
    "Of the 1761 cases involving asthma patients who were admitted to hospital where the gender was recorded, 907 were female.\n",
    "Calculate an approximate 95% confidence interval for $p$, the underlying proportion of females among persons admitted for asthma."
   ]
  },
  {
   "cell_type": "code",
   "execution_count": 6,
   "id": "01656128-1e19-4539-8182-86122a998813",
   "metadata": {
    "scrolled": true
   },
   "outputs": [
    {
     "data": {
      "text/plain": [
       "zconfint(lower=0.4917, upper=0.5384)"
      ]
     },
     "execution_count": 6,
     "metadata": {},
     "output_type": "execute_result"
    }
   ],
   "source": [
    "res = proportion.proportion_confint(count=907, nobs=1761)\n",
    "sampling.statsmodel_to_namedtuple(res, 'confint')"
   ]
  },
  {
   "cell_type": "markdown",
   "id": "85d9a59b-8ed3-4dd0-994f-851fa732b845",
   "metadata": {},
   "source": [
    "## Testing hypotheses"
   ]
  },
  {
   "cell_type": "markdown",
   "id": "987d429d-59b6-4ce7-8516-12c5f67eb46a",
   "metadata": {},
   "source": [
    "#### Example: Mean duration of hospital stay (pp47)"
   ]
  },
  {
   "cell_type": "code",
   "execution_count": 7,
   "id": "29969311-cd29-4a44-af5c-0cc523036580",
   "metadata": {},
   "outputs": [
    {
     "data": {
      "text/plain": [
       "Result(zstat=-2.6093, pval=0.0091)"
      ]
     },
     "execution_count": 7,
     "metadata": {},
     "output_type": "execute_result"
    }
   ],
   "source": [
    "# initialise object\n",
    "sampling.ZSample(mean=1.885, std=1.85, nobs=1762).twosided_ztest_mean(mu0=2)"
   ]
  }
 ],
 "metadata": {
  "kernelspec": {
   "display_name": "Python 3 (ipykernel)",
   "language": "python",
   "name": "python3"
  },
  "language_info": {
   "codemirror_mode": {
    "name": "ipython",
    "version": 3
   },
   "file_extension": ".py",
   "mimetype": "text/x-python",
   "name": "python",
   "nbconvert_exporter": "python",
   "pygments_lexer": "ipython3",
   "version": "3.9.6"
  }
 },
 "nbformat": 4,
 "nbformat_minor": 5
}
