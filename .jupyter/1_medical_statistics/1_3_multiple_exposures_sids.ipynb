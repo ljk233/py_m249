{
 "cells": [
  {
   "cell_type": "markdown",
   "id": "1d66f5dd-300c-4949-96c2-59bbfdd0b183",
   "metadata": {},
   "source": [
    "# Case-Control Study: Sleeping Position and Sudden Infant Death Syndrome"
   ]
  },
  {
   "cell_type": "markdown",
   "id": "b0c76890-03f9-4472-8c29-cc049b1e802d",
   "metadata": {},
   "source": [
    "## Set the Notebook"
   ]
  },
  {
   "cell_type": "code",
   "execution_count": 1,
   "id": "88c2257d-dbc7-415f-a2aa-f51d456fb4e2",
   "metadata": {},
   "outputs": [
    {
     "data": {
      "text/plain": [
       "'%.6f'"
      ]
     },
     "execution_count": 1,
     "metadata": {},
     "output_type": "execute_result"
    }
   ],
   "source": [
    "# import the libraries\n",
    "from __future__ import annotations\n",
    "from opyn.stats.tables import MultipleExposures\n",
    "# set the precison of return floats\n",
    "%precision 6"
   ]
  },
  {
   "cell_type": "markdown",
   "id": "9512b472-658e-4c11-b570-21728017a794",
   "metadata": {},
   "source": [
    "## Introduction\n",
    "\n"
   ]
  },
  {
   "cell_type": "markdown",
   "id": "463ad78d-ede3-4f2b-a180-73b6a63d33c6",
   "metadata": {},
   "source": []
  },
  {
   "cell_type": "markdown",
   "id": "5905af16-bc36-4f48-b9ee-64574d8e6779",
   "metadata": {},
   "source": [
    "## Method"
   ]
  },
  {
   "cell_type": "markdown",
   "id": "3e26f9c5-7828-49b7-90c1-28cf4223fc71",
   "metadata": {},
   "source": [
    "The analysis follows that as summarised in M26 Book 1, Part 1.\n",
    "\n",
    "The data was first plotted as a comaparative bar char and summarised.\n",
    "\n",
    "\n",
    "Following this, given the nature of the data, a contingency table was used to perform an analysis on the strenght of association.\n",
    "To perform the analysis, we selected the group including babies who slept on their side as the reference category.\n",
    "This was an arbitrary choice, as it seemed like a natural choice between sleeping on one's back and on one's front.\n",
    "An estimate of the odds ratio and a 99% **z**-interval for the odds ratio was calculated in relation to the reference category, after considerations on whether the two exposure groups were independent.\n",
    "\n",
    "The expected frequencies under a null hypothesis of no association were checked to be all greater than or equal to five, and **chi-sqaured** test of no association was used to test the null hypothesis of no association betwen the exposure and the disease."
   ]
  },
  {
   "cell_type": "code",
   "execution_count": 2,
   "id": "40dc3411-d815-4f60-9942-d6a2676ef3b4",
   "metadata": {},
   "outputs": [],
   "source": [
    "# initialise the data\n",
    "e1 = [30, 24]  # on front\n",
    "e2 = [82, 509]  # on back\n",
    "ref = [76, 241]  # on side"
   ]
  },
  {
   "cell_type": "code",
   "execution_count": 3,
   "id": "0f33de82-1ee3-4211-8436-112e91d318ac",
   "metadata": {},
   "outputs": [],
   "source": [
    "# load the object\n",
    "sids = MultipleExposures(exposure1=e1, exposure2=e2, reference=ref)"
   ]
  },
  {
   "cell_type": "code",
   "execution_count": 4,
   "id": "96ba7814-ab3c-43d4-ad30-770d987ce985",
   "metadata": {},
   "outputs": [],
   "source": [
    "# labels used for DataFrame outputs\n",
    "sids.exposure1_label = \"Slept on Front\"\n",
    "sids.exposure2_label = \"Slept on Back\"\n",
    "sids.reference_label = \"Slept on Side (Ref)\""
   ]
  },
  {
   "cell_type": "markdown",
   "id": "ab3a9df9-4af4-4a1d-a413-d1a5de3b36da",
   "metadata": {},
   "source": [
    "## Results"
   ]
  },
  {
   "cell_type": "markdown",
   "id": "515a586a-ea26-45b8-a466-d9a35ee3ac01",
   "metadata": {},
   "source": [
    "### Inspecting the Data\n",
    "\n",
    "The data is shown below, along with a comparative bar chart."
   ]
  },
  {
   "cell_type": "code",
   "execution_count": 5,
   "id": "b124d17e-ff28-44ca-a87a-222743286e0c",
   "metadata": {},
   "outputs": [
    {
     "data": {
      "text/html": [
       "<div>\n",
       "<style scoped>\n",
       "    .dataframe tbody tr th:only-of-type {\n",
       "        vertical-align: middle;\n",
       "    }\n",
       "\n",
       "    .dataframe tbody tr th {\n",
       "        vertical-align: top;\n",
       "    }\n",
       "\n",
       "    .dataframe thead th {\n",
       "        text-align: right;\n",
       "    }\n",
       "</style>\n",
       "<table border=\"1\" class=\"dataframe\">\n",
       "  <thead>\n",
       "    <tr style=\"text-align: right;\">\n",
       "      <th>Disease Category</th>\n",
       "      <th>Disease</th>\n",
       "      <th>No Disease</th>\n",
       "    </tr>\n",
       "    <tr>\n",
       "      <th>Exposed Category</th>\n",
       "      <th></th>\n",
       "      <th></th>\n",
       "    </tr>\n",
       "  </thead>\n",
       "  <tbody>\n",
       "    <tr>\n",
       "      <th>Slept on Back</th>\n",
       "      <td>82</td>\n",
       "      <td>509</td>\n",
       "    </tr>\n",
       "    <tr>\n",
       "      <th>Slept on Front</th>\n",
       "      <td>30</td>\n",
       "      <td>24</td>\n",
       "    </tr>\n",
       "    <tr>\n",
       "      <th>Slept on Side (Ref)</th>\n",
       "      <td>76</td>\n",
       "      <td>241</td>\n",
       "    </tr>\n",
       "    <tr>\n",
       "      <th>Total</th>\n",
       "      <td>188</td>\n",
       "      <td>774</td>\n",
       "    </tr>\n",
       "  </tbody>\n",
       "</table>\n",
       "</div>"
      ],
      "text/plain": [
       "Disease Category     Disease  No Disease\n",
       "Exposed Category                        \n",
       "Slept on Back             82         509\n",
       "Slept on Front            30          24\n",
       "Slept on Side (Ref)       76         241\n",
       "Total                    188         774"
      ]
     },
     "execution_count": 5,
     "metadata": {},
     "output_type": "execute_result"
    }
   ],
   "source": [
    "sids.show_table(incl_col_totals=True)"
   ]
  },
  {
   "cell_type": "markdown",
   "id": "70544367-bd99-45e8-b122-21d19cb4278f",
   "metadata": {},
   "source": [
    "*Add comment*"
   ]
  },
  {
   "cell_type": "markdown",
   "id": "0ea2d2d8-bc66-4933-a9ad-4f0401c0ccfb",
   "metadata": {},
   "source": [
    "### Measures of Association"
   ]
  },
  {
   "cell_type": "markdown",
   "id": "f6fe17cd-2e15-49dc-bf90-6081ca938efd",
   "metadata": {},
   "source": [
    "*Add comment on independence of exposure groups.*"
   ]
  },
  {
   "cell_type": "markdown",
   "id": "038636da-e5d1-45ea-8a6d-dccb2f597b73",
   "metadata": {},
   "source": [
    "An estimate of the odds ratio $\\widehat{OR}_{\\text{Back}}$ was found to be approximately 3.96, with 99% confidence interval (1.81, 8.67)."
   ]
  },
  {
   "cell_type": "code",
   "execution_count": 6,
   "id": "e780a276-b914-4323-a771-5c409e62455c",
   "metadata": {},
   "outputs": [
    {
     "data": {
      "text/plain": [
       "OddsDiseaseExposure(OD(D|E)=1.250000, OD(D|Not E)=0.315353)"
      ]
     },
     "execution_count": 6,
     "metadata": {},
     "output_type": "execute_result"
    }
   ],
   "source": [
    "sids.table1.conditional_odds()"
   ]
  },
  {
   "cell_type": "code",
   "execution_count": 7,
   "id": "1e41222b-2a6b-4121-91a5-5ceb8016bed4",
   "metadata": {},
   "outputs": [
    {
     "data": {
      "text/plain": [
       "OddsRatio(point=3.963816, zconfint={lower=1.812335, upper=8.669390})"
      ]
     },
     "execution_count": 7,
     "metadata": {},
     "output_type": "execute_result"
    }
   ],
   "source": [
    "# odds ratio, on front\n",
    "sids.table1.odds_ratio(0.01)"
   ]
  },
  {
   "cell_type": "markdown",
   "id": "7f0e9646-3ca8-4d4a-b3b1-aa311cd03acb",
   "metadata": {},
   "source": [
    "An estimate of the odds ratio $\\widehat{OR}_{\\text{Front}}$ was found to be approximately 0.51, with 99% confidence interval (0.32, 0.81)."
   ]
  },
  {
   "cell_type": "code",
   "execution_count": 8,
   "id": "9f611972-55d8-45eb-96e1-096e8b4424fe",
   "metadata": {},
   "outputs": [
    {
     "data": {
      "text/plain": [
       "OddsDiseaseExposure(OD(D|E)=0.161100, OD(D|Not E)=0.315353)"
      ]
     },
     "execution_count": 8,
     "metadata": {},
     "output_type": "execute_result"
    }
   ],
   "source": [
    "sids.table2.conditional_odds()"
   ]
  },
  {
   "cell_type": "code",
   "execution_count": 9,
   "id": "8f670144-eb29-4753-8bd6-13e206f515c8",
   "metadata": {},
   "outputs": [
    {
     "data": {
      "text/plain": [
       "OddsRatio(point=0.510857, zconfint={lower=0.323489, upper=0.806751})"
      ]
     },
     "execution_count": 9,
     "metadata": {},
     "output_type": "execute_result"
    }
   ],
   "source": [
    "# odds ratio, on back\n",
    "sids.table2.odds_ratio(0.01)"
   ]
  },
  {
   "cell_type": "markdown",
   "id": "fd260f61-f75e-4373-b7a7-bee33fb4876c",
   "metadata": {},
   "source": [
    "*Add comment*"
   ]
  },
  {
   "cell_type": "markdown",
   "id": "1921382d-128b-45b9-a29c-a64a5a74511b",
   "metadata": {},
   "source": [
    "### Chi-squared Test of No Association"
   ]
  },
  {
   "cell_type": "code",
   "execution_count": 10,
   "id": "c6e952f3-acc9-45e5-b9f7-efa57115333f",
   "metadata": {},
   "outputs": [
    {
     "data": {
      "text/html": [
       "<div>\n",
       "<style scoped>\n",
       "    .dataframe tbody tr th:only-of-type {\n",
       "        vertical-align: middle;\n",
       "    }\n",
       "\n",
       "    .dataframe tbody tr th {\n",
       "        vertical-align: top;\n",
       "    }\n",
       "\n",
       "    .dataframe thead th {\n",
       "        text-align: right;\n",
       "    }\n",
       "</style>\n",
       "<table border=\"1\" class=\"dataframe\">\n",
       "  <thead>\n",
       "    <tr style=\"text-align: right;\">\n",
       "      <th>Disease Category</th>\n",
       "      <th>Disease</th>\n",
       "      <th>No Disease</th>\n",
       "    </tr>\n",
       "    <tr>\n",
       "      <th>Exposed Category</th>\n",
       "      <th></th>\n",
       "      <th></th>\n",
       "    </tr>\n",
       "  </thead>\n",
       "  <tbody>\n",
       "    <tr>\n",
       "      <th>Slept on Back</th>\n",
       "      <td>115.496881</td>\n",
       "      <td>475.503119</td>\n",
       "    </tr>\n",
       "    <tr>\n",
       "      <th>Slept on Front</th>\n",
       "      <td>10.553015</td>\n",
       "      <td>43.446985</td>\n",
       "    </tr>\n",
       "    <tr>\n",
       "      <th>Slept on Side (Ref)</th>\n",
       "      <td>61.950104</td>\n",
       "      <td>255.049896</td>\n",
       "    </tr>\n",
       "    <tr>\n",
       "      <th>Total</th>\n",
       "      <td>188.000000</td>\n",
       "      <td>774.000000</td>\n",
       "    </tr>\n",
       "  </tbody>\n",
       "</table>\n",
       "</div>"
      ],
      "text/plain": [
       "Disease Category        Disease  No Disease\n",
       "Exposed Category                           \n",
       "Slept on Back        115.496881  475.503119\n",
       "Slept on Front        10.553015   43.446985\n",
       "Slept on Side (Ref)   61.950104  255.049896\n",
       "Total                188.000000  774.000000"
      ]
     },
     "execution_count": 10,
     "metadata": {},
     "output_type": "execute_result"
    }
   ],
   "source": [
    "sids.expected_freq(incl_col_totals=True)"
   ]
  },
  {
   "cell_type": "code",
   "execution_count": 11,
   "id": "9264a292-91c2-423d-b0c2-bbfb2f834a28",
   "metadata": {},
   "outputs": [
    {
     "data": {
      "text/html": [
       "<div>\n",
       "<style scoped>\n",
       "    .dataframe tbody tr th:only-of-type {\n",
       "        vertical-align: middle;\n",
       "    }\n",
       "\n",
       "    .dataframe tbody tr th {\n",
       "        vertical-align: top;\n",
       "    }\n",
       "\n",
       "    .dataframe thead th {\n",
       "        text-align: right;\n",
       "    }\n",
       "</style>\n",
       "<table border=\"1\" class=\"dataframe\">\n",
       "  <thead>\n",
       "    <tr style=\"text-align: right;\">\n",
       "      <th>Disease Category</th>\n",
       "      <th>Disease</th>\n",
       "      <th>No Disease</th>\n",
       "    </tr>\n",
       "    <tr>\n",
       "      <th>Exposed Category</th>\n",
       "      <th></th>\n",
       "      <th></th>\n",
       "    </tr>\n",
       "  </thead>\n",
       "  <tbody>\n",
       "    <tr>\n",
       "      <th>Slept on Back</th>\n",
       "      <td>9.714904</td>\n",
       "      <td>2.359692</td>\n",
       "    </tr>\n",
       "    <tr>\n",
       "      <th>Slept on Front</th>\n",
       "      <td>35.836702</td>\n",
       "      <td>8.704522</td>\n",
       "    </tr>\n",
       "    <tr>\n",
       "      <th>Slept on Side (Ref)</th>\n",
       "      <td>3.186429</td>\n",
       "      <td>0.773965</td>\n",
       "    </tr>\n",
       "  </tbody>\n",
       "</table>\n",
       "</div>"
      ],
      "text/plain": [
       "Disease Category       Disease  No Disease\n",
       "Exposed Category                          \n",
       "Slept on Back         9.714904    2.359692\n",
       "Slept on Front       35.836702    8.704522\n",
       "Slept on Side (Ref)   3.186429    0.773965"
      ]
     },
     "execution_count": 11,
     "metadata": {},
     "output_type": "execute_result"
    }
   ],
   "source": [
    "sids.chi2_contribs()"
   ]
  },
  {
   "cell_type": "code",
   "execution_count": 12,
   "id": "8a472df8-057a-4343-856f-64c55bb0ccda",
   "metadata": {},
   "outputs": [
    {
     "data": {
      "text/plain": [
       "ChiSqTest(chisq=60.576214, pval=0.000000, df=2)"
      ]
     },
     "execution_count": 12,
     "metadata": {},
     "output_type": "execute_result"
    }
   ],
   "source": [
    "sids.chi2_test()"
   ]
  }
 ],
 "metadata": {
  "kernelspec": {
   "display_name": "PyM249",
   "language": "python",
   "name": "pym249"
  },
  "language_info": {
   "codemirror_mode": {
    "name": "ipython",
    "version": 3
   },
   "file_extension": ".py",
   "mimetype": "text/x-python",
   "name": "python",
   "nbconvert_exporter": "python",
   "pygments_lexer": "ipython3",
   "version": "3.9.7"
  }
 },
 "nbformat": 4,
 "nbformat_minor": 5
}
