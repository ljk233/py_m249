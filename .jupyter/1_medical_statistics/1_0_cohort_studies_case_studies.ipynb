{
 "cells": [
  {
   "cell_type": "markdown",
   "id": "04a5de68-0ad9-42af-9686-dbd0a865c520",
   "metadata": {},
   "source": [
    "# Cohort studies"
   ]
  },
  {
   "cell_type": "markdown",
   "id": "70859c38-c787-4579-a35a-db1cb1499f6d",
   "metadata": {},
   "source": [
    "**Keywords:** epidemiology, cohort studies, exposed group, control group, odds, odds ratio, relative risk"
   ]
  },
  {
   "cell_type": "markdown",
   "id": "ab9eaf9f-388b-4349-8f7b-9f8b54a45571",
   "metadata": {},
   "source": [
    "- What is a cohort study\n",
    "- Conditional probabilities\n",
    "- Measures of association\n",
    "    - Risk and relative risk\n",
    "    - Odds and the odds ratio\n",
    "- Confidence intervals\n",
    "    - Relative risk\n",
    "    - Odds ratio\n",
    "- Chi-squared test for no association\n",
    "- Fishers exact test"
   ]
  },
  {
   "cell_type": "markdown",
   "id": "f87378d8",
   "metadata": {},
   "source": [
    "## Setup"
   ]
  },
  {
   "cell_type": "code",
   "execution_count": 1,
   "id": "cd771e16-6211-47bb-a437-f6c47bbd4809",
   "metadata": {},
   "outputs": [],
   "source": [
    "# import libraries\n",
    "from opyn.stats import tables"
   ]
  },
  {
   "cell_type": "code",
   "execution_count": 2,
   "id": "12145873",
   "metadata": {},
   "outputs": [
    {
     "data": {
      "text/plain": [
       "'%.6f'"
      ]
     },
     "execution_count": 2,
     "metadata": {},
     "output_type": "execute_result"
    }
   ],
   "source": [
    "# set precision of notebook\n",
    "%precision 6"
   ]
  },
  {
   "cell_type": "code",
   "execution_count": 3,
   "id": "92dd298a-0deb-4405-9dde-8dd9fb0a4f91",
   "metadata": {},
   "outputs": [],
   "source": [
    "# initialise example data\n",
    "cohort: tables.ContingencyTable = (\n",
    "    tables.ContingencyTable([[14, 19], [13, 39]])\n",
    ")"
   ]
  },
  {
   "cell_type": "markdown",
   "id": "52b872bd-da8c-48ad-92d3-61f1fdeaeca4",
   "metadata": {
    "tags": []
   },
   "source": [
    "## What are cohort and case-control studies?\n",
    "\n",
    "**References:**\n",
    "\n",
    "***Cohort studies:*** Book 1 pp9; HB pp10.1, pp10.5. ***Case-control studies:*** Book 1 pp23-24; HB pp10.2, pp11.6.\n",
    "\n",
    "**Cohort studies** and **case-control studies** are studies of the association between an exposure $E$ and a disease $D$.\n",
    "\n",
    "In a cohort study, $E$ is known and the $D$ is unknown.\n",
    "The disease is to happen in the future, so it cannot be identified prior to the experiment. (Book 1 pp9)\n",
    "\n",
    "Alternatively, in a case-control study, the $E$ is unknown and the $D$ is known.\n",
    "The exposure happened in the past, so it can be determined prior to the experiment. (Book 1 pp23-24)\n",
    "\n",
    "They both be represented by a two by two contingency table.\n",
    "Column headers depend on the type;\n",
    "Row titles the same.\n",
    "Cohort studies include the row marginal totals;\n",
    "Case-control studies the column marginal totals\n",
    "\n",
    "An example of a contingency table for a cohort study."
   ]
  },
  {
   "cell_type": "code",
   "execution_count": 4,
   "id": "f48f5925-4eb4-4a70-9cff-94499f2a9270",
   "metadata": {},
   "outputs": [
    {
     "data": {
      "text/html": [
       "<div>\n",
       "<style scoped>\n",
       "    .dataframe tbody tr th:only-of-type {\n",
       "        vertical-align: middle;\n",
       "    }\n",
       "\n",
       "    .dataframe tbody tr th {\n",
       "        vertical-align: top;\n",
       "    }\n",
       "\n",
       "    .dataframe thead th {\n",
       "        text-align: right;\n",
       "    }\n",
       "</style>\n",
       "<table border=\"1\" class=\"dataframe\">\n",
       "  <thead>\n",
       "    <tr style=\"text-align: right;\">\n",
       "      <th>Disease Category</th>\n",
       "      <th>Disease</th>\n",
       "      <th>No Disease</th>\n",
       "      <th>Total</th>\n",
       "    </tr>\n",
       "    <tr>\n",
       "      <th>Exposed Category</th>\n",
       "      <th></th>\n",
       "      <th></th>\n",
       "      <th></th>\n",
       "    </tr>\n",
       "  </thead>\n",
       "  <tbody>\n",
       "    <tr>\n",
       "      <th>Exposed</th>\n",
       "      <td>14</td>\n",
       "      <td>19</td>\n",
       "      <td>33</td>\n",
       "    </tr>\n",
       "    <tr>\n",
       "      <th>Not Exposed</th>\n",
       "      <td>13</td>\n",
       "      <td>39</td>\n",
       "      <td>52</td>\n",
       "    </tr>\n",
       "  </tbody>\n",
       "</table>\n",
       "</div>"
      ],
      "text/plain": [
       "Disease Category  Disease  No Disease  Total\n",
       "Exposed Category                            \n",
       "Exposed                14          19     33\n",
       "Not Exposed            13          39     52"
      ]
     },
     "execution_count": 4,
     "metadata": {},
     "output_type": "execute_result"
    }
   ],
   "source": [
    "cohort.show_table(incl_row_totals=True)"
   ]
  },
  {
   "cell_type": "markdown",
   "id": "80925d64-72b4-4017-b0a4-12a32bf1179b",
   "metadata": {},
   "source": [
    "## Measures of association"
   ]
  },
  {
   "cell_type": "markdown",
   "id": "a8ebc53e-407b-4682-bfa4-72e786db3feb",
   "metadata": {},
   "source": [
    "### Relative risk\n",
    "\n",
    "**References:** Book 1 pp11, pp26; HB pp10.3\n",
    "\n",
    "The **relative risk**, $RR$, is the ratio of having the disease given being exposed to having the disease and not being exposed.\n",
    "\n",
    "In cohort studies, it can be estimated from a sample by\n",
    "\n",
    "$$\\widehat{RR} = \\frac{\\hat P (D|E)}{\\hat P (D|\\text{not } E)}.$$\n",
    "\n",
    "It cannot be directly estimated in case-control studies, but it can be indirectly estimated from the the odds ratio *(Book 1, pp15).*"
   ]
  },
  {
   "cell_type": "code",
   "execution_count": 5,
   "id": "98e5a0ff-7796-411a-be71-d80ad628ff51",
   "metadata": {},
   "outputs": [
    {
     "data": {
      "text/plain": [
       "RelativeRisk(point=1.696970, zconfint={lower=0.916424, upper=3.142331})"
      ]
     },
     "execution_count": 5,
     "metadata": {},
     "output_type": "execute_result"
    }
   ],
   "source": [
    "cohort.relative_risk()"
   ]
  },
  {
   "cell_type": "markdown",
   "id": "f957881f-30a0-42b5-bf55-1807f9aef32a",
   "metadata": {},
   "source": [
    "### Odds and the odds ratio\n",
    "\n",
    "**References:** Book 1 pp13-14, pp27; HB pp10.4\n",
    "\n",
    "The **odds of an event**, $OD$, is defined as the ratio of the probability of the event happening to the probability of the event not happening\n",
    "\n",
    "$$OD(A) = \\frac{P(A)}{P(\\text{Not } A)} = \\frac{P(A)}{1 - P(A)}.$$\n",
    "\n",
    "In a cohort study it possible to estimate the odds of *disease given exposure,* so $\\widehat{OD} (D | E)$ and $\\widehat{OD} (D | \\text{ Not } E)$.\n",
    "These can be calculated\n",
    "\n",
    "$$\\widehat{OD} (D | E) = \\frac{a}{b}, \\hspace{3mm} \\widehat{OD} (D | \\text{ Not } E) = \\frac{c}{d}.$$\n",
    "\n",
    "Alternatively, case-control studies can estimate the odds of *exposure given disease*, so $\\widehat{OD} (E | D)$ and $\\widehat{OD} (E | \\text{ Not } D)$.\n",
    "\n",
    "$$\\widehat{OD} (E | D) = \\frac{a}{c}, \\hspace{3mm} \\widehat{OD} (E | \\text{ Not } D) = \\frac{b}{d}.$$"
   ]
  },
  {
   "cell_type": "code",
   "execution_count": 6,
   "id": "8d01609d-d038-4d3a-9b19-2e86b487d394",
   "metadata": {},
   "outputs": [
    {
     "data": {
      "text/plain": [
       "OddsDisease(given_e=0.736842, given_not_e=0.333333)"
      ]
     },
     "execution_count": 6,
     "metadata": {},
     "output_type": "execute_result"
    }
   ],
   "source": [
    "cohort.conditional_odds()"
   ]
  },
  {
   "cell_type": "markdown",
   "id": "c11cdbcd-e641-4d9a-bf4b-47aad9d0f41b",
   "metadata": {},
   "source": [
    "The **odds ratio**, $OR$, is defined as the ratio of the odds of a disease happening given exposure to the odds of the disease happening given no exposure.\n",
    "\n",
    "It can be shown that\n",
    "\n",
    "$$\\widehat{OR} = \\frac{\\widehat{OD} (D | E)}{\\widehat{OD} (D | \\text{ Not } E)} = \\frac{\\widehat{OD} (E | D)}{\\widehat{OD} (E | \\text{ Not } D)} = \\frac{ad}{bc}.$$\n",
    "\n",
    "(This means that the calculation of the odds ratio is the same for both cohort and case-control studies.)"
   ]
  },
  {
   "cell_type": "code",
   "execution_count": 7,
   "id": "de5a48d7-9445-4d53-ab26-86f26e86f5ac",
   "metadata": {},
   "outputs": [
    {
     "data": {
      "text/plain": [
       "OddsRatio(point=2.210526, zconfint={lower=0.869522, upper=5.619669})"
      ]
     },
     "execution_count": 7,
     "metadata": {},
     "output_type": "execute_result"
    }
   ],
   "source": [
    "cohort.odds_ratio()"
   ]
  },
  {
   "cell_type": "markdown",
   "id": "d2c17844",
   "metadata": {},
   "source": [
    "### Comparing the relative risk and odds ratio\n",
    "\n",
    "**References:** Book 1 pp15"
   ]
  },
  {
   "cell_type": "markdown",
   "id": "acc38952-53a1-4814-9d23-211231b272dd",
   "metadata": {},
   "source": [
    "## Confidence intervals for measures of association\n",
    "\n",
    "**References:** Book 1 pp16-17; HB pp10.5 and pp11.6\n",
    "\n",
    "The point estimates for the relative risk and the odds ratio are subject to sampling variability.\n",
    "A confidence interval can be used to quantify the uncertainty.\n",
    "This is done using a **binomial model,** with the assumption that the number of disease outcomes for the exposed group are independent of the number of diseased outcome of the control group."
   ]
  },
  {
   "cell_type": "markdown",
   "id": "d47c3ebf-9f78-49ff-b99d-61db9402fc2a",
   "metadata": {},
   "source": [
    "## Chi-squared test for no association"
   ]
  },
  {
   "cell_type": "markdown",
   "id": "d6974073-ee70-4471-8cba-443385404f26",
   "metadata": {},
   "source": [
    "**References:** Book 1 pp31-39, HB pp11.8\n",
    "\n",
    "A **chi-squared test for no association** tests the null hypothesis that there is no association between the exposure and the disease.\n",
    "\n",
    "The test requires all expected frequencies to be greater than or equal to **five** for it to be adequate. \n",
    "\n",
    "The degrees of freedom for the test when using a **2x2** contingency table is **1.**\n",
    "Otherwise, use $\\nu = (r - 1)\\hspace{2mm}(c - 1).$\n",
    "\n",
    "The test is not affected by the choice of reference category in a study with multiple exposure groups, as all values are taken into account.\n",
    "\n",
    "The $p$-value and $\\widehat{OR}$ are often reported together:\n",
    "The $p$-value quantifies the strength of the *evidence;* $\\widehat{OR}$ quantifies the strength of *association.*"
   ]
  },
  {
   "cell_type": "code",
   "execution_count": 10,
   "id": "f97ba83f-8188-457b-abc3-f1b89ae0d0ce",
   "metadata": {},
   "outputs": [
    {
     "data": {
      "text/html": [
       "<div>\n",
       "<style scoped>\n",
       "    .dataframe tbody tr th:only-of-type {\n",
       "        vertical-align: middle;\n",
       "    }\n",
       "\n",
       "    .dataframe tbody tr th {\n",
       "        vertical-align: top;\n",
       "    }\n",
       "\n",
       "    .dataframe thead th {\n",
       "        text-align: right;\n",
       "    }\n",
       "</style>\n",
       "<table border=\"1\" class=\"dataframe\">\n",
       "  <thead>\n",
       "    <tr style=\"text-align: right;\">\n",
       "      <th>Disease Category</th>\n",
       "      <th>Disease</th>\n",
       "      <th>No Disease</th>\n",
       "      <th>Total</th>\n",
       "    </tr>\n",
       "    <tr>\n",
       "      <th>Exposed Category</th>\n",
       "      <th></th>\n",
       "      <th></th>\n",
       "      <th></th>\n",
       "    </tr>\n",
       "  </thead>\n",
       "  <tbody>\n",
       "    <tr>\n",
       "      <th>Exposed</th>\n",
       "      <td>10.482353</td>\n",
       "      <td>22.517647</td>\n",
       "      <td>33.0</td>\n",
       "    </tr>\n",
       "    <tr>\n",
       "      <th>Not Exposed</th>\n",
       "      <td>16.517647</td>\n",
       "      <td>35.482353</td>\n",
       "      <td>52.0</td>\n",
       "    </tr>\n",
       "  </tbody>\n",
       "</table>\n",
       "</div>"
      ],
      "text/plain": [
       "Disease Category    Disease  No Disease  Total\n",
       "Exposed Category                              \n",
       "Exposed           10.482353   22.517647   33.0\n",
       "Not Exposed       16.517647   35.482353   52.0"
      ]
     },
     "execution_count": 10,
     "metadata": {},
     "output_type": "execute_result"
    }
   ],
   "source": [
    "cohort.expected_freq(incl_row_totals=True)"
   ]
  },
  {
   "cell_type": "code",
   "execution_count": 11,
   "id": "ce0c1c15-c3f2-4430-a946-6dba6aba355e",
   "metadata": {},
   "outputs": [
    {
     "data": {
      "text/html": [
       "<div>\n",
       "<style scoped>\n",
       "    .dataframe tbody tr th:only-of-type {\n",
       "        vertical-align: middle;\n",
       "    }\n",
       "\n",
       "    .dataframe tbody tr th {\n",
       "        vertical-align: top;\n",
       "    }\n",
       "\n",
       "    .dataframe thead th {\n",
       "        text-align: right;\n",
       "    }\n",
       "</style>\n",
       "<table border=\"1\" class=\"dataframe\">\n",
       "  <thead>\n",
       "    <tr style=\"text-align: right;\">\n",
       "      <th>Disease Category</th>\n",
       "      <th>Disease</th>\n",
       "      <th>No Disease</th>\n",
       "    </tr>\n",
       "    <tr>\n",
       "      <th>Exposed Category</th>\n",
       "      <th></th>\n",
       "      <th></th>\n",
       "    </tr>\n",
       "  </thead>\n",
       "  <tbody>\n",
       "    <tr>\n",
       "      <th>Exposed</th>\n",
       "      <td>1.180445</td>\n",
       "      <td>0.549517</td>\n",
       "    </tr>\n",
       "    <tr>\n",
       "      <th>Not Exposed</th>\n",
       "      <td>0.749129</td>\n",
       "      <td>0.348732</td>\n",
       "    </tr>\n",
       "  </tbody>\n",
       "</table>\n",
       "</div>"
      ],
      "text/plain": [
       "Disease Category   Disease  No Disease\n",
       "Exposed Category                      \n",
       "Exposed           1.180445    0.549517\n",
       "Not Exposed       0.749129    0.348732"
      ]
     },
     "execution_count": 11,
     "metadata": {},
     "output_type": "execute_result"
    }
   ],
   "source": [
    "cohort.chi2_contribs()"
   ]
  },
  {
   "cell_type": "code",
   "execution_count": 12,
   "id": "08fafab6-81b4-4d57-913e-e0981e171f93",
   "metadata": {},
   "outputs": [
    {
     "data": {
      "text/plain": [
       "ChiSqTest(chisq=2.827823, pval=0.092644, df=1)"
      ]
     },
     "execution_count": 12,
     "metadata": {},
     "output_type": "execute_result"
    }
   ],
   "source": [
    "cohort.chi2_test()"
   ]
  },
  {
   "cell_type": "markdown",
   "id": "06055d70-4f4e-4ea2-ac83-7b35a5c72f26",
   "metadata": {},
   "source": [
    "## Fisher’s exact test"
   ]
  },
  {
   "cell_type": "markdown",
   "id": "78b25726-c39b-4071-a5c5-c9776c708365",
   "metadata": {},
   "source": [
    "**References:** Book 1 pp40, HB pp11.8"
   ]
  },
  {
   "cell_type": "markdown",
   "id": "f0e36ccd-3026-4168-b731-39beec5c0cca",
   "metadata": {},
   "source": [
    "## Multiple exposure categories"
   ]
  },
  {
   "cell_type": "markdown",
   "id": "9d2f2650-78ec-4b21-97fa-2976880acc76",
   "metadata": {},
   "source": [
    "**References:** Book 1 pp29-30; HB pp11.7\n",
    "\n",
    "Pick an exposure category as an arbitrary reference category.\n",
    "All ratio are then calculated relative to this reference category."
   ]
  },
  {
   "cell_type": "code",
   "execution_count": 8,
   "id": "6cdb0a4c-631c-49d5-b9ec-3573dff73d20",
   "metadata": {},
   "outputs": [],
   "source": [
    "# use this as an example\n",
    "pre_term = [18, 266]\n",
    "term = [402, 8565]\n",
    "post_term = [45, 1100]"
   ]
  }
 ],
 "metadata": {
  "kernelspec": {
   "display_name": "Python 3 (ipykernel)",
   "language": "python",
   "name": "python3"
  },
  "language_info": {
   "codemirror_mode": {
    "name": "ipython",
    "version": 3
   },
   "file_extension": ".py",
   "mimetype": "text/x-python",
   "name": "python",
   "nbconvert_exporter": "python",
   "pygments_lexer": "ipython3",
   "version": "3.9.6"
  },
  "toc-autonumbering": false,
  "toc-showcode": false,
  "toc-showmarkdowntxt": false
 },
 "nbformat": 4,
 "nbformat_minor": 5
}
