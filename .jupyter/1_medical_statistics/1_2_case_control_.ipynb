{
 "cells": [
  {
   "cell_type": "markdown",
   "id": "1d66f5dd-300c-4949-96c2-59bbfdd0b183",
   "metadata": {},
   "source": [
    "# Case-Control Study: Alcohol Consumption and Fatal Car Accidents"
   ]
  },
  {
   "cell_type": "markdown",
   "id": "b0c76890-03f9-4472-8c29-cc049b1e802d",
   "metadata": {},
   "source": [
    "## Set the Notebook"
   ]
  },
  {
   "cell_type": "code",
   "execution_count": 1,
   "id": "88c2257d-dbc7-415f-a2aa-f51d456fb4e2",
   "metadata": {},
   "outputs": [
    {
     "data": {
      "text/plain": [
       "'%.6f'"
      ]
     },
     "execution_count": 1,
     "metadata": {},
     "output_type": "execute_result"
    }
   ],
   "source": [
    "# import the libraries\n",
    "from __future__ import annotations\n",
    "from opyn.stats.tables import ContingencyTable\n",
    "# set the precison of return floats\n",
    "%precision 6"
   ]
  },
  {
   "cell_type": "markdown",
   "id": "9512b472-658e-4c11-b570-21728017a794",
   "metadata": {},
   "source": [
    "## Introduction\n",
    "\n"
   ]
  },
  {
   "cell_type": "markdown",
   "id": "463ad78d-ede3-4f2b-a180-73b6a63d33c6",
   "metadata": {},
   "source": []
  },
  {
   "cell_type": "markdown",
   "id": "5905af16-bc36-4f48-b9ee-64574d8e6779",
   "metadata": {},
   "source": [
    "## Method"
   ]
  },
  {
   "cell_type": "markdown",
   "id": "3e26f9c5-7828-49b7-90c1-28cf4223fc71",
   "metadata": {},
   "source": [
    "The analysis follows that as summarised in M26 Book 1, Part 1.\n",
    "\n",
    "The data was first summarised in a contingency table.\n",
    "\n",
    "Following this, given the nature of the data, a contingency table was used to perform an analysis on the strenght of association.\n",
    "An estimate of the odds ratio and a 99% **z**-interval for the odds ratio was calculated, after considerations on whether the two exposure groups were independent.\n",
    "\n",
    "The expected frequencies under a null hypothesis of no association were checked to be all greater than or equal to five, and **chi-sqaured** test of no association was used to test the null hypothesis of no association betwen the exposure and the disease."
   ]
  },
  {
   "cell_type": "code",
   "execution_count": 2,
   "id": "40dc3411-d815-4f60-9942-d6a2676ef3b4",
   "metadata": {},
   "outputs": [],
   "source": [
    "# initialise the object\n",
    "alcohol_carcrash = ContingencyTable([[14, 8], [10, 146]])"
   ]
  },
  {
   "cell_type": "code",
   "execution_count": 3,
   "id": "51a0cb39-ba49-47d0-81e5-a2c2503b3005",
   "metadata": {},
   "outputs": [],
   "source": [
    "# labels used for DataFrame outputs\n",
    "alcohol_carcrash.row_labels = (\n",
    "    [\"Alcohol levels >= 100mg%\", \"Alcohol levels < 100mg%\"]\n",
    ")\n",
    "alcohol_carcrash.col_labels = [\"Cases\", \"Controls\"]"
   ]
  },
  {
   "cell_type": "markdown",
   "id": "ab3a9df9-4af4-4a1d-a413-d1a5de3b36da",
   "metadata": {},
   "source": [
    "## Results"
   ]
  },
  {
   "cell_type": "markdown",
   "id": "515a586a-ea26-45b8-a466-d9a35ee3ac01",
   "metadata": {},
   "source": [
    "### Inspecting the Data\n",
    "\n",
    "The data is shown below, along with a comparative bar chart."
   ]
  },
  {
   "cell_type": "code",
   "execution_count": 10,
   "id": "b124d17e-ff28-44ca-a87a-222743286e0c",
   "metadata": {},
   "outputs": [
    {
     "data": {
      "text/html": [
       "<div>\n",
       "<style scoped>\n",
       "    .dataframe tbody tr th:only-of-type {\n",
       "        vertical-align: middle;\n",
       "    }\n",
       "\n",
       "    .dataframe tbody tr th {\n",
       "        vertical-align: top;\n",
       "    }\n",
       "\n",
       "    .dataframe thead th {\n",
       "        text-align: right;\n",
       "    }\n",
       "</style>\n",
       "<table border=\"1\" class=\"dataframe\">\n",
       "  <thead>\n",
       "    <tr style=\"text-align: right;\">\n",
       "      <th>Disease Category</th>\n",
       "      <th>Cases</th>\n",
       "      <th>Controls</th>\n",
       "    </tr>\n",
       "    <tr>\n",
       "      <th>Exposed Category</th>\n",
       "      <th></th>\n",
       "      <th></th>\n",
       "    </tr>\n",
       "  </thead>\n",
       "  <tbody>\n",
       "    <tr>\n",
       "      <th>Alcohol levels &lt; 100mg%</th>\n",
       "      <td>10</td>\n",
       "      <td>146</td>\n",
       "    </tr>\n",
       "    <tr>\n",
       "      <th>Alcohol levels &gt;= 100mg%</th>\n",
       "      <td>14</td>\n",
       "      <td>8</td>\n",
       "    </tr>\n",
       "    <tr>\n",
       "      <th>Total</th>\n",
       "      <td>24</td>\n",
       "      <td>154</td>\n",
       "    </tr>\n",
       "  </tbody>\n",
       "</table>\n",
       "</div>"
      ],
      "text/plain": [
       "Disease Category          Cases  Controls\n",
       "Exposed Category                         \n",
       "Alcohol levels < 100mg%      10       146\n",
       "Alcohol levels >= 100mg%     14         8\n",
       "Total                        24       154"
      ]
     },
     "execution_count": 10,
     "metadata": {},
     "output_type": "execute_result"
    }
   ],
   "source": [
    "alcohol_carcrash.show_table(incl_col_totals=True)"
   ]
  },
  {
   "cell_type": "markdown",
   "id": "70544367-bd99-45e8-b122-21d19cb4278f",
   "metadata": {},
   "source": [
    "*Add comment*"
   ]
  },
  {
   "cell_type": "markdown",
   "id": "0ea2d2d8-bc66-4933-a9ad-4f0401c0ccfb",
   "metadata": {},
   "source": [
    "### Measures of Association"
   ]
  },
  {
   "cell_type": "markdown",
   "id": "f6fe17cd-2e15-49dc-bf90-6081ca938efd",
   "metadata": {},
   "source": [
    "*Add comment on independence of exposure groups.*"
   ]
  },
  {
   "cell_type": "code",
   "execution_count": 9,
   "id": "8d235f59-5974-4bbc-b363-431b818db12a",
   "metadata": {},
   "outputs": [
    {
     "data": {
      "text/plain": [
       "OddsDisease(given_e=1.750000, given_not_e=0.068493)"
      ]
     },
     "execution_count": 9,
     "metadata": {},
     "output_type": "execute_result"
    }
   ],
   "source": [
    "alcohol_carcrash.conditional_odds()"
   ]
  },
  {
   "cell_type": "markdown",
   "id": "038636da-e5d1-45ea-8a6d-dccb2f597b73",
   "metadata": {},
   "source": [
    "An estimate of the odds ratio $\\widehat{OR}$ was found to be approximately 3.96, with 99% confidence interval (1.81, 8.67)."
   ]
  },
  {
   "cell_type": "code",
   "execution_count": 5,
   "id": "1e41222b-2a6b-4121-91a5-5ceb8016bed4",
   "metadata": {},
   "outputs": [
    {
     "data": {
      "text/plain": [
       "OddsRatio(point=25.550000, zconfint={lower=6.184900, upper=105.547787})"
      ]
     },
     "execution_count": 5,
     "metadata": {},
     "output_type": "execute_result"
    }
   ],
   "source": [
    "# odds ratio, on front\n",
    "alcohol_carcrash.odds_ratio(0.01)"
   ]
  },
  {
   "cell_type": "markdown",
   "id": "fd260f61-f75e-4373-b7a7-bee33fb4876c",
   "metadata": {},
   "source": [
    "*Add comment*"
   ]
  },
  {
   "cell_type": "markdown",
   "id": "1921382d-128b-45b9-a29c-a64a5a74511b",
   "metadata": {},
   "source": [
    "### Chi-squared Test of No Association"
   ]
  },
  {
   "cell_type": "code",
   "execution_count": 6,
   "id": "c6e952f3-acc9-45e5-b9f7-efa57115333f",
   "metadata": {},
   "outputs": [
    {
     "data": {
      "text/html": [
       "<div>\n",
       "<style scoped>\n",
       "    .dataframe tbody tr th:only-of-type {\n",
       "        vertical-align: middle;\n",
       "    }\n",
       "\n",
       "    .dataframe tbody tr th {\n",
       "        vertical-align: top;\n",
       "    }\n",
       "\n",
       "    .dataframe thead th {\n",
       "        text-align: right;\n",
       "    }\n",
       "</style>\n",
       "<table border=\"1\" class=\"dataframe\">\n",
       "  <thead>\n",
       "    <tr style=\"text-align: right;\">\n",
       "      <th>Disease Category</th>\n",
       "      <th>Cases</th>\n",
       "      <th>Controls</th>\n",
       "    </tr>\n",
       "    <tr>\n",
       "      <th>Exposed Category</th>\n",
       "      <th></th>\n",
       "      <th></th>\n",
       "    </tr>\n",
       "  </thead>\n",
       "  <tbody>\n",
       "    <tr>\n",
       "      <th>Alcohol levels &lt; 100mg%</th>\n",
       "      <td>21.033708</td>\n",
       "      <td>134.966292</td>\n",
       "    </tr>\n",
       "    <tr>\n",
       "      <th>Alcohol levels &gt;= 100mg%</th>\n",
       "      <td>2.966292</td>\n",
       "      <td>19.033708</td>\n",
       "    </tr>\n",
       "    <tr>\n",
       "      <th>Total</th>\n",
       "      <td>24.000000</td>\n",
       "      <td>154.000000</td>\n",
       "    </tr>\n",
       "  </tbody>\n",
       "</table>\n",
       "</div>"
      ],
      "text/plain": [
       "Disease Category              Cases    Controls\n",
       "Exposed Category                               \n",
       "Alcohol levels < 100mg%   21.033708  134.966292\n",
       "Alcohol levels >= 100mg%   2.966292   19.033708\n",
       "Total                     24.000000  154.000000"
      ]
     },
     "execution_count": 6,
     "metadata": {},
     "output_type": "execute_result"
    }
   ],
   "source": [
    "alcohol_carcrash.expected_freq(incl_col_totals=True)"
   ]
  },
  {
   "cell_type": "code",
   "execution_count": 7,
   "id": "9264a292-91c2-423d-b0c2-bbfb2f834a28",
   "metadata": {},
   "outputs": [
    {
     "data": {
      "text/html": [
       "<div>\n",
       "<style scoped>\n",
       "    .dataframe tbody tr th:only-of-type {\n",
       "        vertical-align: middle;\n",
       "    }\n",
       "\n",
       "    .dataframe tbody tr th {\n",
       "        vertical-align: top;\n",
       "    }\n",
       "\n",
       "    .dataframe thead th {\n",
       "        text-align: right;\n",
       "    }\n",
       "</style>\n",
       "<table border=\"1\" class=\"dataframe\">\n",
       "  <thead>\n",
       "    <tr style=\"text-align: right;\">\n",
       "      <th>Disease Category</th>\n",
       "      <th>Cases</th>\n",
       "      <th>Controls</th>\n",
       "    </tr>\n",
       "    <tr>\n",
       "      <th>Exposed Category</th>\n",
       "      <th></th>\n",
       "      <th></th>\n",
       "    </tr>\n",
       "  </thead>\n",
       "  <tbody>\n",
       "    <tr>\n",
       "      <th>Alcohol levels &lt; 100mg%</th>\n",
       "      <td>5.787981</td>\n",
       "      <td>0.902023</td>\n",
       "    </tr>\n",
       "    <tr>\n",
       "      <th>Alcohol levels &gt;= 100mg%</th>\n",
       "      <td>41.042050</td>\n",
       "      <td>6.396164</td>\n",
       "    </tr>\n",
       "  </tbody>\n",
       "</table>\n",
       "</div>"
      ],
      "text/plain": [
       "Disease Category              Cases  Controls\n",
       "Exposed Category                             \n",
       "Alcohol levels < 100mg%    5.787981  0.902023\n",
       "Alcohol levels >= 100mg%  41.042050  6.396164"
      ]
     },
     "execution_count": 7,
     "metadata": {},
     "output_type": "execute_result"
    }
   ],
   "source": [
    "alcohol_carcrash.chi2_contribs()"
   ]
  },
  {
   "cell_type": "code",
   "execution_count": 8,
   "id": "8a472df8-057a-4343-856f-64c55bb0ccda",
   "metadata": {},
   "outputs": [
    {
     "data": {
      "text/plain": [
       "ChiSqTest(chisq=54.128218, pval=0.000000, df=1)"
      ]
     },
     "execution_count": 8,
     "metadata": {},
     "output_type": "execute_result"
    }
   ],
   "source": [
    "alcohol_carcrash.chi2_test()"
   ]
  }
 ],
 "metadata": {
  "kernelspec": {
   "display_name": "Python 3 (ipykernel)",
   "language": "python",
   "name": "python3"
  },
  "language_info": {
   "codemirror_mode": {
    "name": "ipython",
    "version": 3
   },
   "file_extension": ".py",
   "mimetype": "text/x-python",
   "name": "python",
   "nbconvert_exporter": "python",
   "pygments_lexer": "ipython3",
   "version": "3.9.6"
  }
 },
 "nbformat": 4,
 "nbformat_minor": 5
}
