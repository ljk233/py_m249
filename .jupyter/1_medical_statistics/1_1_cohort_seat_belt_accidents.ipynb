{
 "cells": [
  {
   "cell_type": "markdown",
   "id": "876d3572",
   "metadata": {},
   "source": [
    "# Cohort Study: Seat Belts and Children's Safety in Car Accidents"
   ]
  },
  {
   "cell_type": "markdown",
   "id": "72671304-4f64-40c2-b619-bcadfe1f8a66",
   "metadata": {},
   "source": [
    "## Set the Notebook"
   ]
  },
  {
   "cell_type": "code",
   "execution_count": 1,
   "id": "7dc6427a",
   "metadata": {},
   "outputs": [
    {
     "data": {
      "text/plain": [
       "'%.6f'"
      ]
     },
     "execution_count": 1,
     "metadata": {},
     "output_type": "execute_result"
    }
   ],
   "source": [
    "# import the libraries\n",
    "from __future__ import annotations\n",
    "from opyn.stats import tables\n",
    "import numpy as np\n",
    "# set the precison of return floats\n",
    "%precision 6"
   ]
  },
  {
   "cell_type": "markdown",
   "id": "fd23c4aa",
   "metadata": {},
   "source": [
    "## Introduction\n",
    "\n",
    "The aim of this study is to analyse whether there is an association between children not wearing a seatbelt (the *exposure*) and the sustaining at least moderately severe injuries (the *disease*) as a result of being involved in serious accidents.\n",
    "\n",
    "> *Data were obtained on 85 children aged from 4-14 years sitting in the left-hand back seat of cars (so behind the driver) involved in serious accidents.*\n",
    "> \n",
    "> *The numbers sustaining at least moderately severe injury among children who were wearing seat belts at the time of the accident and among children who were not wearing seat belts were counted.*\n",
    ">\n",
    "> ***M269, Open University***\n",
    "\n",
    "The data was provided by *M249* *(Open University, 2021)* *M249*, who in turn sourced it from Halman, I., Chipman, M., Parkin, P.C. and Wright, J.G. *(British Medical Journal, 2002).*"
   ]
  },
  {
   "cell_type": "markdown",
   "id": "f171ddae-109e-4518-b7d7-a35ba4c38f77",
   "metadata": {},
   "source": [
    "## Method"
   ]
  },
  {
   "cell_type": "markdown",
   "id": "b8f6d2c5-a8b2-4246-a63d-1ff0ed8d1aef",
   "metadata": {},
   "source": [
    "The analysis follows that as summarised in M26 Book 1, Part 1.\n",
    "\n",
    "The data was first plotted as a comaparative bar char and summarised.\n",
    "Following this, given the nature of the data, a contingency table was used to perform an analysis on the strenght of association.\n",
    "An estimate of the odds ratio and a 99% **z**-interval for the odds ratio was calculated, after considerations on whether the two exposure groups were independent.\n",
    "\n",
    "The expected frequencies under a null hypothesis of no association were checked to be all greater than or equal to five, and **chi-sqaured** test of no association was used to test the null hypothesis of no association betwen the exposure and the disease."
   ]
  },
  {
   "cell_type": "code",
   "execution_count": 2,
   "id": "ae1aa7de-28c9-4122-8856-4142e709ab30",
   "metadata": {},
   "outputs": [],
   "source": [
    "# load the data\n",
    "seatbelts: tables.ContingencyTable = (\n",
    "    tables.ContingencyTable(np.array([[14, 19], [13, 39]]))\n",
    ")"
   ]
  },
  {
   "cell_type": "code",
   "execution_count": 3,
   "id": "61962d3b-8365-44e2-9a60-efe12fc8ae88",
   "metadata": {},
   "outputs": [],
   "source": [
    "# labels used for DataFrame outputs\n",
    "seatbelts.row_labels = [\"Not wearing a seat belt\", \"Wearing a seat belt\"]\n",
    "seatbelts.col_labels = [\"Disease\", \"No disease\"]"
   ]
  },
  {
   "cell_type": "markdown",
   "id": "9efcd9c6-5475-4b52-8717-238ad885f611",
   "metadata": {},
   "source": [
    "## Results"
   ]
  },
  {
   "cell_type": "markdown",
   "id": "797a5611",
   "metadata": {},
   "source": [
    "### Inspecting the Data\n",
    "\n",
    "The data is shown below, along with a comparative bar chart."
   ]
  },
  {
   "cell_type": "code",
   "execution_count": 4,
   "id": "3131fe93",
   "metadata": {},
   "outputs": [
    {
     "data": {
      "text/html": [
       "<div>\n",
       "<style scoped>\n",
       "    .dataframe tbody tr th:only-of-type {\n",
       "        vertical-align: middle;\n",
       "    }\n",
       "\n",
       "    .dataframe tbody tr th {\n",
       "        vertical-align: top;\n",
       "    }\n",
       "\n",
       "    .dataframe thead th {\n",
       "        text-align: right;\n",
       "    }\n",
       "</style>\n",
       "<table border=\"1\" class=\"dataframe\">\n",
       "  <thead>\n",
       "    <tr style=\"text-align: right;\">\n",
       "      <th>Disease Category</th>\n",
       "      <th>Disease</th>\n",
       "      <th>No disease</th>\n",
       "      <th>Total</th>\n",
       "    </tr>\n",
       "    <tr>\n",
       "      <th>Exposed Category</th>\n",
       "      <th></th>\n",
       "      <th></th>\n",
       "      <th></th>\n",
       "    </tr>\n",
       "  </thead>\n",
       "  <tbody>\n",
       "    <tr>\n",
       "      <th>Not wearing a seat belt</th>\n",
       "      <td>14</td>\n",
       "      <td>19</td>\n",
       "      <td>33</td>\n",
       "    </tr>\n",
       "    <tr>\n",
       "      <th>Wearing a seat belt</th>\n",
       "      <td>13</td>\n",
       "      <td>39</td>\n",
       "      <td>52</td>\n",
       "    </tr>\n",
       "  </tbody>\n",
       "</table>\n",
       "</div>"
      ],
      "text/plain": [
       "Disease Category         Disease  No disease  Total\n",
       "Exposed Category                                   \n",
       "Not wearing a seat belt       14          19     33\n",
       "Wearing a seat belt           13          39     52"
      ]
     },
     "execution_count": 4,
     "metadata": {},
     "output_type": "execute_result"
    }
   ],
   "source": [
    "seatbelts.show_table(incl_row_totals=True)"
   ]
  },
  {
   "cell_type": "markdown",
   "id": "e58ee090-9bb5-4948-a6fd-499e61f6d35e",
   "metadata": {},
   "source": [
    "*Add comment*"
   ]
  },
  {
   "cell_type": "markdown",
   "id": "e4f48853",
   "metadata": {},
   "source": [
    "### Measures of Association"
   ]
  },
  {
   "cell_type": "markdown",
   "id": "c2673e2b-19c6-4338-ab84-0017e059323e",
   "metadata": {},
   "source": [
    "*Add comment on independence of exposure groups.*"
   ]
  },
  {
   "cell_type": "markdown",
   "id": "9080c9ce-3ac0-4ce3-9ee2-749714cc3739",
   "metadata": {},
   "source": [
    "An estimate of the relative risk was found to be approximately 1.70, with 99% confidence interval (0.76, 3.81)."
   ]
  },
  {
   "cell_type": "code",
   "execution_count": 5,
   "id": "e1c776bf-5933-4af0-9152-2a5e74498d42",
   "metadata": {},
   "outputs": [
    {
     "data": {
      "text/plain": [
       "RelativeRisk(point=1.696970, zconfint={lower=0.916424, upper=3.142331})"
      ]
     },
     "execution_count": 5,
     "metadata": {},
     "output_type": "execute_result"
    }
   ],
   "source": [
    "seatbelts.relative_risk()"
   ]
  },
  {
   "cell_type": "markdown",
   "id": "1b1ee309-a990-4788-8ba9-43c88aa75be5",
   "metadata": {},
   "source": [
    "The odds of event $OD(D|E)$ and $OD(D | Not E)$ are estimated to be"
   ]
  },
  {
   "cell_type": "code",
   "execution_count": 6,
   "id": "bf72d246-00c8-4aa7-a096-32726c884696",
   "metadata": {},
   "outputs": [
    {
     "data": {
      "text/plain": [
       "OddsDisease(given_e=0.736842, given_not_e=0.333333)"
      ]
     },
     "execution_count": 6,
     "metadata": {},
     "output_type": "execute_result"
    }
   ],
   "source": [
    "seatbelts.conditional_odds()"
   ]
  },
  {
   "cell_type": "markdown",
   "id": "dac81ce5",
   "metadata": {},
   "source": [
    "An estimate of the odds ratio was found to be approximately 2.21, with 99% confidence interval (0.65, 7.53)."
   ]
  },
  {
   "cell_type": "code",
   "execution_count": 7,
   "id": "484b5ede",
   "metadata": {},
   "outputs": [
    {
     "data": {
      "text/plain": [
       "OddsRatio(point=2.210526, zconfint={lower=0.869522, upper=5.619669})"
      ]
     },
     "execution_count": 7,
     "metadata": {},
     "output_type": "execute_result"
    }
   ],
   "source": [
    "seatbelts.odds_ratio()"
   ]
  },
  {
   "cell_type": "markdown",
   "id": "78420817-e2e6-470c-aae3-986a11187ead",
   "metadata": {},
   "source": [
    "*Add comment on relative risk, odds of conditional events and odds ratio.*"
   ]
  },
  {
   "cell_type": "markdown",
   "id": "6dd35184-ede2-49fe-8b1a-9a2737ded555",
   "metadata": {},
   "source": [
    "### Chi-sqaured Test of No Association"
   ]
  },
  {
   "cell_type": "code",
   "execution_count": 8,
   "id": "39ed72e2-b5c1-406e-8340-0149726febde",
   "metadata": {},
   "outputs": [
    {
     "data": {
      "text/html": [
       "<div>\n",
       "<style scoped>\n",
       "    .dataframe tbody tr th:only-of-type {\n",
       "        vertical-align: middle;\n",
       "    }\n",
       "\n",
       "    .dataframe tbody tr th {\n",
       "        vertical-align: top;\n",
       "    }\n",
       "\n",
       "    .dataframe thead th {\n",
       "        text-align: right;\n",
       "    }\n",
       "</style>\n",
       "<table border=\"1\" class=\"dataframe\">\n",
       "  <thead>\n",
       "    <tr style=\"text-align: right;\">\n",
       "      <th>Disease Category</th>\n",
       "      <th>Disease</th>\n",
       "      <th>No disease</th>\n",
       "      <th>Total</th>\n",
       "    </tr>\n",
       "    <tr>\n",
       "      <th>Exposed Category</th>\n",
       "      <th></th>\n",
       "      <th></th>\n",
       "      <th></th>\n",
       "    </tr>\n",
       "  </thead>\n",
       "  <tbody>\n",
       "    <tr>\n",
       "      <th>Not wearing a seat belt</th>\n",
       "      <td>10.482353</td>\n",
       "      <td>22.517647</td>\n",
       "      <td>33.0</td>\n",
       "    </tr>\n",
       "    <tr>\n",
       "      <th>Wearing a seat belt</th>\n",
       "      <td>16.517647</td>\n",
       "      <td>35.482353</td>\n",
       "      <td>52.0</td>\n",
       "    </tr>\n",
       "  </tbody>\n",
       "</table>\n",
       "</div>"
      ],
      "text/plain": [
       "Disease Category           Disease  No disease  Total\n",
       "Exposed Category                                     \n",
       "Not wearing a seat belt  10.482353   22.517647   33.0\n",
       "Wearing a seat belt      16.517647   35.482353   52.0"
      ]
     },
     "execution_count": 8,
     "metadata": {},
     "output_type": "execute_result"
    }
   ],
   "source": [
    "seatbelts.expected_freq(incl_row_totals=True)"
   ]
  },
  {
   "cell_type": "code",
   "execution_count": 9,
   "id": "10aa0463-4102-4262-a3d1-c8f89133c9d6",
   "metadata": {},
   "outputs": [
    {
     "data": {
      "text/html": [
       "<div>\n",
       "<style scoped>\n",
       "    .dataframe tbody tr th:only-of-type {\n",
       "        vertical-align: middle;\n",
       "    }\n",
       "\n",
       "    .dataframe tbody tr th {\n",
       "        vertical-align: top;\n",
       "    }\n",
       "\n",
       "    .dataframe thead th {\n",
       "        text-align: right;\n",
       "    }\n",
       "</style>\n",
       "<table border=\"1\" class=\"dataframe\">\n",
       "  <thead>\n",
       "    <tr style=\"text-align: right;\">\n",
       "      <th>Disease Category</th>\n",
       "      <th>Disease</th>\n",
       "      <th>No disease</th>\n",
       "    </tr>\n",
       "    <tr>\n",
       "      <th>Exposed Category</th>\n",
       "      <th></th>\n",
       "      <th></th>\n",
       "    </tr>\n",
       "  </thead>\n",
       "  <tbody>\n",
       "    <tr>\n",
       "      <th>Not wearing a seat belt</th>\n",
       "      <td>1.180445</td>\n",
       "      <td>0.549517</td>\n",
       "    </tr>\n",
       "    <tr>\n",
       "      <th>Wearing a seat belt</th>\n",
       "      <td>0.749129</td>\n",
       "      <td>0.348732</td>\n",
       "    </tr>\n",
       "  </tbody>\n",
       "</table>\n",
       "</div>"
      ],
      "text/plain": [
       "Disease Category          Disease  No disease\n",
       "Exposed Category                             \n",
       "Not wearing a seat belt  1.180445    0.549517\n",
       "Wearing a seat belt      0.749129    0.348732"
      ]
     },
     "execution_count": 9,
     "metadata": {},
     "output_type": "execute_result"
    }
   ],
   "source": [
    "seatbelts.chi2_contribs()"
   ]
  },
  {
   "cell_type": "code",
   "execution_count": 10,
   "id": "9074bee2-b08c-47bb-9047-ade7f90afe4c",
   "metadata": {},
   "outputs": [
    {
     "data": {
      "text/plain": [
       "ChiSqTest(chisq=2.827823, pval=0.092644, df=1)"
      ]
     },
     "execution_count": 10,
     "metadata": {},
     "output_type": "execute_result"
    }
   ],
   "source": [
    "seatbelts.chi2_test()"
   ]
  },
  {
   "cell_type": "markdown",
   "id": "96e9eeb4-70c4-46ed-9f81-2fc1b7e1f6e0",
   "metadata": {},
   "source": [
    "*Add comment on chi-squared test.*"
   ]
  }
 ],
 "metadata": {
  "interpreter": {
   "hash": "e3664f357c2b2734ea2c6777198af464a1d586bce7a4eafd7e49c68ceedc6949"
  },
  "kernelspec": {
   "display_name": "Python 3 (ipykernel)",
   "language": "python",
   "name": "python3"
  },
  "language_info": {
   "codemirror_mode": {
    "name": "ipython",
    "version": 3
   },
   "file_extension": ".py",
   "mimetype": "text/x-python",
   "name": "python",
   "nbconvert_exporter": "python",
   "pygments_lexer": "ipython3",
   "version": "3.9.6"
  }
 },
 "nbformat": 4,
 "nbformat_minor": 5
}
