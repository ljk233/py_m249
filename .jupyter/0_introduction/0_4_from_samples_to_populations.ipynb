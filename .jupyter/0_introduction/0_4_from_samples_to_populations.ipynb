{
 "cells": [
  {
   "cell_type": "markdown",
   "source": [
    "# From samples to populations\n",
    "\n",
    "This notebook deals with:\n",
    "\n",
    "1. Interval estimation\n",
    "2. Significance testing"
   ],
   "metadata": {}
  },
  {
   "cell_type": "markdown",
   "source": [
    "## Setup the notebook"
   ],
   "metadata": {}
  },
  {
   "cell_type": "code",
   "execution_count": 1,
   "source": [
    "from opyn.stats import dataclasses, sampling\n",
    "from opyn.pandasloader import PandasLoader\n",
    "from statsmodels.stats import proportion, weightstats"
   ],
   "outputs": [],
   "metadata": {}
  },
  {
   "cell_type": "code",
   "execution_count": 2,
   "source": [
    "# init loader object\n",
    "pdloader = PandasLoader()"
   ],
   "outputs": [],
   "metadata": {}
  },
  {
   "cell_type": "markdown",
   "source": [
    "## Confidence intervals\n",
    "\n",
    "A confidence interval for some parameter $\\theta$ is a range of plausible values $(\\theta^{-}, \\theta^{+})$.\n",
    "It can represent the uncertainty in an estimate $\\hat\\theta$.\n",
    "\n",
    "One interpretation of a confidence interval is given by **plausible range interpretation of confidence intervals**, which states that a confidence interval represents a range of values of $\\theta$ that are plausible at the 95% confidence level, given the observed data."
   ],
   "metadata": {}
  },
  {
   "cell_type": "markdown",
   "source": [
    "### Large sample approximate 100(1-$\\alpha$)% confidence intervals of the mean\n",
    "\n",
    "Given a random sample $x_{1}, \\ldots, x_{n}$ of size $n>30$ from a population with mean $\\mu$, an approximate $100(1-\\alpha)\\%$ confidence interval for $\\mu$, valid for large $n$, is\n",
    "\n",
    "$$(\\mu^{-}, \\mu^{+}) = \\bigg( \\bar{x} \\pm z \\frac{s^{2}}{n} \\bigg),$$\n",
    "\n",
    "where $\\bar{x}$ is the sample mean, $s$ is the sample standard deviation, and $z = q_{1-(\\alpha/2)}$ of the standard normal distribution."
   ],
   "metadata": {
    "tags": []
   }
  },
  {
   "cell_type": "markdown",
   "source": [
    "#### Example: Number of goals per game\n",
    "\n",
    "The data on the number of goals scored per game in a English Premier League season has been provided.\n",
    "Calculate a 95% $z$-interval for the expected number of goals scored in a game, and comment whether it is plausible that on average more than three goals are scored per game."
   ],
   "metadata": {}
  },
  {
   "cell_type": "code",
   "execution_count": 3,
   "source": [
    "# get data\n",
    "games = pdloader.get('number_of_goals_per_game')\n",
    "# get confint\n",
    "res = weightstats.zconfint(x1=games[\"goals\"])\n",
    "dataclasses.ZConfInt(res[0], res[1])"
   ],
   "outputs": [
    {
     "output_type": "execute_result",
     "data": {
      "text/plain": [
       "zconfint(lower=2.660050, upper=2.982055)"
      ]
     },
     "metadata": {},
     "execution_count": 3
    }
   ],
   "metadata": {}
  },
  {
   "cell_type": "markdown",
   "source": [
    "The valule 3 is not included in the 95% confidence interval, so it is not plausible at the 95% confidence level.\n",
    "Thus it is implausible that the mean number of goals is three, since they would require the data configuration to be unlikely."
   ],
   "metadata": {}
  },
  {
   "cell_type": "markdown",
   "source": [
    "#### Example: Ozone levels (pp45)"
   ],
   "metadata": {}
  },
  {
   "cell_type": "code",
   "execution_count": 4,
   "source": [
    "# init object, get conf int\n",
    "sample = sampling.ZSample(mean=15.171, std=8.2773, nobs=1594)\n",
    "# get confint\n",
    "sample.zconfint_mean()"
   ],
   "outputs": [
    {
     "output_type": "execute_result",
     "data": {
      "text/plain": [
       "zconfint(lower=14.764657, upper=15.577343)"
      ]
     },
     "metadata": {},
     "execution_count": 4
    }
   ],
   "metadata": {}
  },
  {
   "cell_type": "markdown",
   "source": [
    "### Approximate 100(1-$\\alpha$)% confidence interval for a proportion\n",
    "\n",
    "Given an estimate $\\hat p$ of a proportion $p$, obtained by observing $x$ successes in as a sequence of $n$ independent **Bernoulli trials** each with a probability of success $p$, an approximate confidence interval for the proportion is\n",
    "\n",
    "$$(p^{-}, p^{+}) = \\bigg( \\hat p \\pm z \\sqrt{\\frac{\\hat p \\: (1 - \\hat p)}{n}} \\bigg)$$\n",
    "\n",
    "where $\\hat p = x/n$ and $z = q_{1-(\\alpha/2)}$ of the standard normal distribution.\n",
    "This confidence interval is valid when both $np, \\: n(1-p) \\geq 5$.\n",
    "\n",
    "*Note, this last condition really means that there are at least 5 successes and 5 failures in the sample.*"
   ],
   "metadata": {}
  },
  {
   "cell_type": "markdown",
   "source": [
    "#### Example: Proportion of females amongst asthma cases (pp46)\n",
    "\n",
    "Of the 1761 cases involving asthma patients who were admitted to hospital where the gender was recorded, 907 were female.\n",
    "Calculate an approximate 95% confidence interval for $p$, the underlying proportion of females among persons admitted for asthma."
   ],
   "metadata": {
    "tags": []
   }
  },
  {
   "cell_type": "code",
   "execution_count": 5,
   "source": [
    "res = proportion.proportion_confint(count=907, nobs=1761)\n",
    "# sampling.to_namedtuple(res, 'confint')\n",
    "dataclasses.ZConfInt(res[0], res[1])"
   ],
   "outputs": [
    {
     "output_type": "execute_result",
     "data": {
      "text/plain": [
       "zconfint(lower=0.491706, upper=0.538390)"
      ]
     },
     "metadata": {},
     "execution_count": 5
    }
   ],
   "metadata": {}
  },
  {
   "cell_type": "markdown",
   "source": [
    "## Testing hypotheses"
   ],
   "metadata": {}
  },
  {
   "cell_type": "markdown",
   "source": [
    "#### Example: Mean duration of hospital stay (pp47)"
   ],
   "metadata": {}
  },
  {
   "cell_type": "code",
   "execution_count": 6,
   "source": [
    "# initialise object\n",
    "sampling.ZSample(mean=1.885, std=1.85, nobs=1762).twosided_ztest_mean(mu0=2)"
   ],
   "outputs": [
    {
     "output_type": "execute_result",
     "data": {
      "text/plain": [
       "ztest(zstat=-2.609330, pval=0.009072)"
      ]
     },
     "metadata": {},
     "execution_count": 6
    }
   ],
   "metadata": {}
  }
 ],
 "metadata": {
  "interpreter": {
   "hash": "150ad1578c8613f8dc9018be5e644c2e52ac66be7a58cd127a3ca86b2ba9d096"
  },
  "kernelspec": {
   "name": "python3",
   "display_name": "Python 3.9.7 64-bit ('.venv')"
  },
  "language_info": {
   "codemirror_mode": {
    "name": "ipython",
    "version": 3
   },
   "file_extension": ".py",
   "mimetype": "text/x-python",
   "name": "python",
   "nbconvert_exporter": "python",
   "pygments_lexer": "ipython3",
   "version": "3.9.7"
  }
 },
 "nbformat": 4,
 "nbformat_minor": 5
}